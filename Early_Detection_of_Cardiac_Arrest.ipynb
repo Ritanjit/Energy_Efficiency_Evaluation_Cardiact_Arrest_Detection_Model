{
  "nbformat": 4,
  "nbformat_minor": 0,
  "metadata": {
    "colab": {
      "provenance": [],
      "collapsed_sections": [
        "E1ohz1V4UJdr",
        "GbIfxMuaUaci",
        "omKlY1_tGBpZ",
        "YFsISBI1OZ8t",
        "qb9Iz9UA5PZe",
        "ZnkMrDhqPrj6",
        "vWpy8lJWN45l",
        "cPWRZrfbtwAQ",
        "rU_Rzt_xE9D9",
        "lzQe02a9t22O",
        "FpxaOFijuISn",
        "Kk2epvN2CGGw"
      ],
      "gpuType": "T4",
      "mount_file_id": "1uRpSNWPYPE__Nhhtnl6-anwPlyJU5OGz",
      "authorship_tag": "ABX9TyOWEETAcUgIs6xjXVfIbr0K",
      "include_colab_link": true
    },
    "kernelspec": {
      "name": "python3",
      "display_name": "Python 3"
    },
    "language_info": {
      "name": "python"
    },
    "accelerator": "GPU"
  },
  "cells": [
    {
      "cell_type": "markdown",
      "metadata": {
        "id": "view-in-github",
        "colab_type": "text"
      },
      "source": [
        "<a href=\"https://colab.research.google.com/github/Ritanjit/Energy_Efficiency_Evaluation_Cardiact_Arrest_Detection_Model/blob/main/Early_Detection_of_Cardiac_Arrest.ipynb\" target=\"_parent\"><img src=\"https://colab.research.google.com/assets/colab-badge.svg\" alt=\"Open In Colab\"/></a>"
      ]
    },
    {
      "cell_type": "markdown",
      "source": [
        "# Early Detection of Cardiac Arrest - Classification of ECG Signals for Arrhythmia Disease Prediction"
      ],
      "metadata": {
        "id": "E1ohz1V4UJdr"
      }
    },
    {
      "cell_type": "markdown",
      "source": [
        "**What is Cardiac Arrest ?**"
      ],
      "metadata": {
        "id": "NPLyOqEWUM_T"
      }
    },
    {
      "cell_type": "markdown",
      "source": [
        "*Cardiac arrest is a sudden loss of heart function, breathing, and consciousness. It's an \"electrical\" problem where the heart's intricate electrical system, which dictates the heartbeat, malfunctions. This is different from a heart attack, which is a \"plumbing\" problem caused by blocked arteries. Early detection is critical because the chances of survival decrease dramatically with each passing minute.*"
      ],
      "metadata": {
        "id": "FcQ7yqw8UP0b"
      }
    },
    {
      "cell_type": "markdown",
      "source": [
        "**How to detect Cardiac Arrest?**"
      ],
      "metadata": {
        "id": "VrHXXe3qURca"
      }
    },
    {
      "cell_type": "markdown",
      "source": [
        "*Biometric signals, especially the Electrocardiogram (ECG), are key to predicting cardiac arrest. An ECG records the electrical activity of the heart, and subtle changes in its pattern can be precursors to a life-threatening event. The goal is to train a model that can recognize these subtle, pre-arrest patterns in ECG data.*"
      ],
      "metadata": {
        "id": "YEgqWTZ_UTh6"
      }
    },
    {
      "cell_type": "markdown",
      "source": [
        "**What this model does ?**\n",
        "\n",
        "*This model classifies individual heartbeats into different arrhythmia categories using the MIT-BIH Arrhythmia Database. The 5 categories are:*\n",
        "\n",
        "*N: Normal beat*\n",
        "\n",
        "*L: Left bundle branch block beat*\n",
        "\n",
        "*R: Right bundle branch block beat*\n",
        "\n",
        "*A: Atrial premature beat*\n",
        "\n",
        "*V: Ventricular ectopic beat*\n",
        "\n",
        "*Massachusetts Institute of Technology (MIT) - Beth Israel Hospital (BIH) Database Links:*\n",
        "\n",
        "*1. Training --> https://www.kaggle.com/datasets/taejoongyoon/mitbit-arrhythmia-database/data*\n",
        "\n",
        "*2. Testing --> https://www.kaggle.com/datasets/shayanfazeli/heartbeat*\n"
      ],
      "metadata": {
        "id": "lKqVOkWXUVqJ"
      }
    },
    {
      "cell_type": "markdown",
      "source": [
        "**How this relates to cardiac arrest ?**\n",
        "\n",
        "*Certain arrhythmias, particularly Ventricular Tachycardia and Ventricular Fibrillation (which fall under the 'Ventricular' category), are often immediate precursors to sudden cardiac arrest.*\n",
        "\n",
        "*This model detecs Ventricular Ectopic Arrhythmias. These are abnormal heartbeats originating from the lower chambers (the ventricles) of the heart. A frequent occurrence of these \"V\" beats, especially in specific patterns, is a major risk factor and can be a direct precursor to life-threatening conditions like Ventricular Tachycardia, which often leads to Sudden Cardiac Arrest.*\n",
        "\n",
        "*Thus, the classification of beat types is a critical component of an early detection system for Cardiac Arrest.*\n",
        "\n",
        "\\\n",
        "\n"
      ],
      "metadata": {
        "id": "KbNjTzVCUYba"
      }
    },
    {
      "cell_type": "markdown",
      "source": [
        "---"
      ],
      "metadata": {
        "id": "y2js7QxfOUn_"
      }
    },
    {
      "cell_type": "markdown",
      "source": [
        "# 1. Input Setup and Data Preparation"
      ],
      "metadata": {
        "id": "GbIfxMuaUaci"
      }
    },
    {
      "cell_type": "markdown",
      "source": [
        " 1.1 Imports"
      ],
      "metadata": {
        "id": "jXol0e2I2xYP"
      }
    },
    {
      "source": [
        "import numpy as np    # for array and matrix operations\n",
        "import pandas as pd   # for operations using dataframes\n",
        "import os   # for operations involving the google drive\n",
        "\n",
        "import matplotlib.pyplot as plt   # for visualizations\n",
        "import csv    # for comma separated valued files\n",
        "import pywt   # for denoise signals thorugh wavelet transforms (reqd. for ECG data)\n",
        "\n",
        "from scipy import stats   # for statistical operations\n",
        "from sklearn.model_selection import train_test_split    # to split dataset for training and testing\n",
        "from sklearn.utils import resample    # for handling imbalanced datasets (downsampling a majority class or upsampling a minority class)\n",
        "\n",
        "from keras.models import Sequential   # for building my neural network architectures\n",
        "from keras.layers import Conv1D     # for processing sequential data (signals in this case)\n",
        "from keras.layers import AvgPool1D    # for downsampling input\n",
        "from keras.layers import Flatten    #  for flatening multidimensional input to 1D vector\n",
        "from keras.layers import Dense    # fully connected neural network layer for matrix-vector multiplication\n",
        "from keras.layers import Dropout    # regularization technique to prevent overfitting\n",
        "from keras.layers import Softmax    # to convert output into probability distribution\n",
        "from keras.optimizers import Adam   # optimizer algorithm to minimize loss function\n",
        "from keras.utils import to_categorical    # to convet integer labels to encoded vectors\n",
        "from keras import regularizers    #  to prevent overfitting"
      ],
      "cell_type": "code",
      "metadata": {
        "id": "GWeOSH6RVaya"
      },
      "execution_count": 10,
      "outputs": []
    },
    {
      "cell_type": "markdown",
      "source": [
        "1.2 Assigning custom settings to matplotlib properties"
      ],
      "metadata": {
        "id": "0T_gKDsQ25fA"
      }
    },
    {
      "cell_type": "code",
      "source": [
        "# %matplotlib inline    # not reqd for google colab (used this in jupyter for inline plot outputs)\n",
        "plt.rcParams[\"figure.figsize\"] = (15,5)     # size for all figues\n",
        "plt.rcParams['lines.linewidth'] = 1     # width for plot lines\n",
        "plt.rcParams['lines.color'] = 'b'     # blue color for plot lines\n",
        "plt.rcParams['axes.grid'] = True    # grids for plot axes"
      ],
      "metadata": {
        "id": "bdajTIcWZDXx"
      },
      "execution_count": 11,
      "outputs": []
    },
    {
      "cell_type": "markdown",
      "source": [
        "1.3 Importing the dataset"
      ],
      "metadata": {
        "id": "TS6LfPlo3AQI"
      }
    },
    {
      "cell_type": "code",
      "source": [
        "# to manually mount google drive\n",
        "from google.colab import drive\n",
        "drive.mount('/content/drive')\n",
        "\n",
        "# Google Drive path for dataset folder\n",
        "path = '/content/drive/MyDrive/Datasets/mitbih_database/'"
      ],
      "metadata": {
        "colab": {
          "base_uri": "https://localhost:8080/"
        },
        "id": "1GL9vpWNVjyx",
        "outputId": "e02d36bc-bb57-465a-877a-60e0cfaaf87f"
      },
      "execution_count": 12,
      "outputs": [
        {
          "output_type": "stream",
          "name": "stdout",
          "text": [
            "Drive already mounted at /content/drive; to attempt to forcibly remount, call drive.mount(\"/content/drive\", force_remount=True).\n"
          ]
        }
      ]
    },
    {
      "cell_type": "markdown",
      "source": [
        "1.4 Variables"
      ],
      "metadata": {
        "id": "nOF1C2RN8aD_"
      }
    },
    {
      "cell_type": "code",
      "source": [
        "# Globals\n",
        "window_size    = 180    # no. of samples to consider before peak in ECG signal\n",
        "# maximum_counting = 10000\n",
        "classes        = ['N', 'L', 'R', 'A', 'V']    # for diff. types of heartbeats\n",
        "n_classes      = len(classes)     # no of classes = 5\n",
        "count_classes  = [0]*n_classes     # to count no. of instances of heartbeat classes processed\n",
        "X, y           = [], []     # x - stores extract ECG data; y - stores corresponding class labels"
      ],
      "metadata": {
        "id": "0kryMKV-eeJ-"
      },
      "execution_count": 13,
      "outputs": []
    },
    {
      "cell_type": "markdown",
      "source": [
        "1.5 List & separate .csv (signals) vs .txt (annotations)"
      ],
      "metadata": {
        "id": "WAPCmjIT8xUA"
      }
    },
    {
      "cell_type": "code",
      "source": [
        "# read all files and sort them alphabetically in a list\n",
        "filenames   = sorted(os.listdir(path))\n",
        "\n",
        "# add files into lists after sorting into .csv and .txt\n",
        "records     = [path+f for f in filenames if f.endswith('.csv')]\n",
        "annotations = [path+f for f in filenames if f.endswith('.txt')]"
      ],
      "metadata": {
        "id": "muZ_Pvwy8uqA"
      },
      "execution_count": 14,
      "outputs": []
    },
    {
      "cell_type": "markdown",
      "source": [
        "---"
      ],
      "metadata": {
        "id": "BuLL3srtGAqy"
      }
    },
    {
      "cell_type": "markdown",
      "source": [
        "# 2. Data Preprocessing"
      ],
      "metadata": {
        "id": "omKlY1_tGBpZ"
      }
    },
    {
      "cell_type": "markdown",
      "source": [
        "2.1 Denoise function for noise reduction by performing Wavelet Transforms"
      ],
      "metadata": {
        "id": "2b7Vlgsf88df"
      }
    },
    {
      "cell_type": "code",
      "source": [
        "def denoise(data):\n",
        "\n",
        "    w        = pywt.Wavelet('sym4')     # selects sym4 wavelet for transformation\n",
        "    maxlev   = pywt.dwt_max_level(len(data), w.dec_len)   # calculating highest possible decomposition level\n",
        "    coeffs   = pywt.wavedec(data, 'sym4', level=maxlev)     # for removing noise based on the threshold value\n",
        "    thresh   = 0.04 * max(abs(c) for c in coeffs[1])    # threshold for filtering noise (small coefficients)\n",
        "\n",
        "    for i in range(1, len(coeffs)):\n",
        "        coeffs[i] = pywt.threshold(coeffs[i], thresh)\n",
        "\n",
        "    return pywt.waverec(coeffs, 'sym4')"
      ],
      "metadata": {
        "id": "-3h4L1388v7g"
      },
      "execution_count": 16,
      "outputs": []
    },
    {
      "cell_type": "markdown",
      "source": [
        "2.2 Loop through each record and annotation pair"
      ],
      "metadata": {
        "id": "ew0IsaW9KFS6"
      }
    },
    {
      "cell_type": "code",
      "source": [
        "for rec_path, ann_path in zip(records, annotations):\n",
        "\n",
        "    # load raw ECG samples into signals\n",
        "    signals = []\n",
        "\n",
        "    with open(rec_path, 'r') as f:\n",
        "        reader = csv.reader(f)    # reader obj to iterate over lines in the csv file\n",
        "        next(reader)    # skip header of csv file\n",
        "        for row in reader:\n",
        "            signals.append(int(row[1]))\n",
        "\n",
        "    # Plot an example to the signals\n",
        "    if rec_path == records[1]:\n",
        "        plt.title(records[1] + \" Wave\")\n",
        "        plt.plot(signals[0:700])\n",
        "        plt.show()\n",
        "\n",
        "    # print(signals[0].shape)\n",
        "\n",
        "    signals = denoise(signals)    # denoise function to remove noise\n",
        "\n",
        "    # print(signals[0].shape)\n",
        "\n",
        "    # Plot an example to the signals\n",
        "    if rec_path == records[1]:\n",
        "        plt.title(records[1] + \" wave after denoised\")\n",
        "        plt.plot(signals[0:700])\n",
        "        plt.show()\n",
        "\n",
        "    signals = stats.zscore(signals)   # normalization performed on the signals\n",
        "\n",
        "    # Plot an example to the signals\n",
        "    if rec_path == records[1]:\n",
        "        plt.title(records[1] + \" wave after z-score normalization \")\n",
        "        plt.plot(signals[0:700])\n",
        "        plt.show()\n",
        "\n",
        "    # reading and processing annotations\n",
        "    example_beat_printed = False\n",
        "    with open(ann_path, 'r') as f:\n",
        "        lines = f.readlines()[1:]   # read all lines and slice to exclude 1st line\n",
        "    for line in lines:\n",
        "        parts = list(filter(None, line.split()))    # split line into parts based on whitespace and remove empty strings (multi-spaces)\n",
        "        pos   = int(parts[1])     # extracts and converts R-peak position into an integer\n",
        "        label = parts[2]    # extracts label for heartbeat\n",
        "        if label not in classes:    # this cross-checks the label with heartbeat classes and if not found, skips to next line\n",
        "            continue\n",
        "        idx = classes.index(label)    # storing index of label\n",
        "        count_classes[idx] += 1   # counting how many times each heartbeat type have been processed\n",
        "\n",
        "        # this if condition checks if the R-peak position is far enough from the beginning and end of the signal.\n",
        "        # if satisfied, it extracts a complete window before and after the peak.\n",
        "        if window_size <= pos < len(signals) - window_size:\n",
        "            beat = signals[pos-window_size:pos+window_size]   # this extracts a segment that represesnts the heartbeat.\n",
        "\n",
        "            # Plot an example beat\n",
        "            if rec_path == records[1] and not example_beat_printed:\n",
        "                plt.title(\"A Beat from \" + records[1] + \" Wave\")\n",
        "                plt.plot(beat)\n",
        "                plt.show()\n",
        "                example_beat_printed = True\n",
        "\n",
        "            X.append(beat)   # adds heartbeat segment to the list\n",
        "            y.append(idx)   # adds index of the hearbeat class to the list"
      ],
      "metadata": {
        "id": "h6n335yu8wPo",
        "colab": {
          "base_uri": "https://localhost:8080/",
          "height": 1000
        },
        "outputId": "f225cabe-1571-4fde-9f18-89f5ab269cdb"
      },
      "execution_count": 17,
      "outputs": [
        {
          "output_type": "display_data",
          "data": {
            "text/plain": [
              "<Figure size 1500x500 with 1 Axes>"
            ],
            "image/png": "[encoded data removed]"
          },
          "metadata": {}
        },
        {
          "output_type": "display_data",
          "data": {
            "text/plain": [
              "<Figure size 1500x500 with 1 Axes>"
            ],
            "image/png": "[encoded data removed]"
          },
          "metadata": {}
        },
        {
          "output_type": "display_data",
          "data": {
            "text/plain": [
              "<Figure size 1500x500 with 1 Axes>"
            ],
            "image/png": "[encoded data removed]"
          },
          "metadata": {}
        },
        {
          "output_type": "display_data",
          "data": {
            "text/plain": [
              "<Figure size 1500x500 with 1 Axes>"
            ],
            "image/png": "[encoded data removed]"
          },
          "metadata": {}
        }
      ]
    },
    {
      "cell_type": "markdown",
      "source": [
        "2.3 Convert to arrays & inspect for data shape"
      ],
      "metadata": {
        "id": "vtu2Oan_M-QK"
      }
    },
    {
      "cell_type": "code",
      "source": [
        "X = np.array(X)   # shape: (total_beats, 360)\n",
        "y = np.array(y)   # shape: (total_beats,)\n",
        "print(\"Collected heartbeats:\", X.shape, \"Labels:\", y.shape)"
      ],
      "metadata": {
        "colab": {
          "base_uri": "https://localhost:8080/"
        },
        "id": "Dvhom2ZtM33L",
        "outputId": "e465436f-5332-4b2f-bc94-452ab94af6cf"
      },
      "execution_count": 18,
      "outputs": [
        {
          "output_type": "stream",
          "name": "stdout",
          "text": [
            "Collected heartbeats: (100012, 360) Labels: (100012,)\n"
          ]
        }
      ]
    },
    {
      "cell_type": "markdown",
      "source": [
        "2.4 Plotting class distribution."
      ],
      "metadata": {
        "id": "NJMuSTOTNkWH"
      }
    },
    {
      "cell_type": "code",
      "source": [
        "# converting preprocessed heartbeat data and class labels into dataframes\n",
        "df = pd.DataFrame(X)\n",
        "df['label'] = y\n",
        "\n",
        "# plotting the current class distribution\n",
        "per_class_before = df['label'].value_counts()     # counts how many instances of each unique value exist in the label column\n",
        "print(\"Before balancing:\\n\", per_class_before)\n",
        "\n",
        "# pie chart to represent the distribution\n",
        "plt.figure(figsize=(10, 5))\n",
        "my_circle = plt.Circle((0, 0), 0.7, color='white')\n",
        "plt.pie(per_class_before,\n",
        "        labels=['N', 'L', 'R', 'A', 'V'],\n",
        "        colors=['tab:blue', 'tab:orange', 'tab:purple', 'tab:olive', 'tab:green'],\n",
        "        autopct='%1.1f%%')\n",
        "p = plt.gcf()\n",
        "p.gca().add_artist(my_circle)\n",
        "plt.title(\"Class Distribution Before Balancing\")\n",
        "plt.show()"
      ],
      "metadata": {
        "colab": {
          "base_uri": "https://localhost:8080/",
          "height": 583
        },
        "id": "uG9Q-8mysqj_",
        "outputId": "1261df35-0833-4b09-ecce-550ec87ad5a1"
      },
      "execution_count": 19,
      "outputs": [
        {
          "output_type": "stream",
          "name": "stdout",
          "text": [
            "Before balancing:\n",
            " label\n",
            "0    75011\n",
            "1     8071\n",
            "2     7255\n",
            "4     7129\n",
            "3     2546\n",
            "Name: count, dtype: int64\n"
          ]
        },
        {
          "output_type": "display_data",
          "data": {
            "text/plain": [
              "<Figure size 1000x500 with 1 Axes>"
            ],
            "image/png": "[encoded data removed]"
          },
          "metadata": {}
        }
      ]
    },
    {
      "cell_type": "markdown",
      "source": [
        "2.5 Balancing the class distribution"
      ],
      "metadata": {
        "id": "WaMSUF_XaIVp"
      }
    },
    {
      "cell_type": "code",
      "source": [
        "# spliting dataframe into dictionary of smaller of dataframes for each class label\n",
        "dfs = {lbl: df[df.label == i] for i, lbl in enumerate(classes)}\n",
        "\n",
        "# target sample size for each class after balancing\n",
        "target_n = min(len(dfs['N']), 5000)  # capping normal beats at 5000\n",
        "target_n = 5000                     # force cap to 5000 for each class after normal.\n",
        "\n",
        "# down/up-sampling each class to meet target sample size\n",
        "balanced_dfs = []\n",
        "for i, lbl in enumerate(classes):\n",
        "    cls_df = dfs[lbl]\n",
        "    if len(cls_df) > target_n:\n",
        "        cls_df = cls_df.sample(n=target_n, random_state=42)   # down-sampling by selecting random samples till target sample size is reached.\n",
        "    else:\n",
        "        cls_df = resample(cls_df, replace=True, n_samples=target_n, random_state=42)      # up-sampling by resampling with replacements until target sample size is reached.\n",
        "    balanced_dfs.append(cls_df)\n",
        "\n",
        "# random state = 42 ensure that the sampling is reproducible.\n",
        "\n",
        "# concatenate and convert balanced_dfs list to dataframe & reshuffling the dataframe and resetting index to a new default index.\n",
        "balanced_df = pd.concat(balanced_dfs).sample(frac=1, random_state=42).reset_index(drop=True)"
      ],
      "metadata": {
        "id": "3TNxHRaaZcu2"
      },
      "execution_count": 20,
      "outputs": []
    },
    {
      "cell_type": "markdown",
      "source": [
        "2.6 Plotting the balanced class distribution"
      ],
      "metadata": {
        "id": "7F7KUDfMeRy9"
      }
    },
    {
      "cell_type": "code",
      "source": [
        "# to recount how many instances of each unique value exist in the label column\n",
        "per_class_after = balanced_df['label'].value_counts()\n",
        "print(\"After balancing:\\n\", per_class_after)\n",
        "\n",
        "# pie chart to plot balanced class distribution\n",
        "plt.figure(figsize=(10, 5))\n",
        "my_circle = plt.Circle((0, 0), 0.7, color='white')\n",
        "plt.pie(per_class_after,\n",
        "        labels=['N', 'L', 'R', 'A', 'V'],\n",
        "        colors=['tab:blue', 'tab:orange', 'tab:purple', 'tab:olive', 'tab:green'],\n",
        "        autopct='%1.1f%%')\n",
        "p = plt.gcf()\n",
        "p.gca().add_artist(my_circle)\n",
        "plt.title(\"Class Distribution After Balancing\")\n",
        "plt.show()"
      ],
      "metadata": {
        "colab": {
          "base_uri": "https://localhost:8080/",
          "height": 583
        },
        "id": "LX0vaZGZeah-",
        "outputId": "488d40ff-39c1-4110-9ffb-c5db108f7e80"
      },
      "execution_count": 21,
      "outputs": [
        {
          "output_type": "stream",
          "name": "stdout",
          "text": [
            "After balancing:\n",
            " label\n",
            "1    5000\n",
            "4    5000\n",
            "2    5000\n",
            "0    5000\n",
            "3    5000\n",
            "Name: count, dtype: int64\n"
          ]
        },
        {
          "output_type": "display_data",
          "data": {
            "text/plain": [
              "<Figure size 1000x500 with 1 Axes>"
            ],
            "image/png": "[encoded data removed]"
          },
          "metadata": {}
        }
      ]
    },
    {
      "cell_type": "code",
      "source": [
        "# --- (Understanding the balanced DataFrame) ---\n",
        "# Display the shape of the DataFrame\n",
        "print(\"Shape of the dataset (balanced_df):\", balanced_df.shape)\n",
        "\n",
        "# Display the column names\n",
        "print(\"\\nColumn names (balanced_df):\", balanced_df.columns)\n",
        "\n",
        "# Display the data types of each column\n",
        "print(\"\\nData types (balanced_df):\\n\", balanced_df.dtypes)\n",
        "\n",
        "# Display a statistical summary of the DataFrame\n",
        "print(\"\\nStatistical summary (balanced_df):\\n\", balanced_df.describe())"
      ],
      "metadata": {
        "colab": {
          "base_uri": "https://localhost:8080/"
        },
        "id": "GCcLpmEOIypB",
        "outputId": "9c8ba5d1-d954-408a-c97b-df9f080030ba"
      },
      "execution_count": 22,
      "outputs": [
        {
          "output_type": "stream",
          "name": "stdout",
          "text": [
            "Shape of the dataset (balanced_df): (25000, 361)\n",
            "\n",
            "Column names (balanced_df): Index([      0,       1,       2,       3,       4,       5,       6,       7,\n",
            "             8,       9,\n",
            "       ...\n",
            "           351,     352,     353,     354,     355,     356,     357,     358,\n",
            "           359, 'label'],\n",
            "      dtype='object', length=361)\n",
            "\n",
            "Data types (balanced_df):\n",
            " 0        float64\n",
            "1        float64\n",
            "2        float64\n",
            "3        float64\n",
            "4        float64\n",
            "          ...   \n",
            "356      float64\n",
            "357      float64\n",
            "358      float64\n",
            "359      float64\n",
            "label      int64\n",
            "Length: 361, dtype: object\n",
            "\n",
            "Statistical summary (balanced_df):\n",
            "                   0             1             2             3             4  \\\n",
            "count  25000.000000  25000.000000  25000.000000  25000.000000  25000.000000   \n",
            "mean       0.063493      0.068089      0.071367      0.073939      0.075059   \n",
            "std        0.998421      1.002942      1.006060      1.010214      1.011502   \n",
            "min      -11.904145    -11.888252    -11.871984    -11.855504    -11.839163   \n",
            "25%       -0.424277     -0.422655     -0.422340     -0.418020     -0.413924   \n",
            "50%       -0.064903     -0.062554     -0.064702     -0.064017     -0.063271   \n",
            "75%        0.376910      0.375488      0.375394      0.373262      0.369272   \n",
            "max       10.888258     10.900314     10.912255     10.925847     10.939915   \n",
            "\n",
            "                  5             6             7             8             9  \\\n",
            "count  25000.000000  25000.000000  25000.000000  25000.000000  25000.000000   \n",
            "mean       0.075264      0.075615      0.075373      0.075175      0.076043   \n",
            "std        1.006123      0.998834      0.994073      0.991976      0.990343   \n",
            "min      -11.822757    -11.806205    -11.789512    -11.772567    -11.755444   \n",
            "25%       -0.409926     -0.405771     -0.407455     -0.405291     -0.403725   \n",
            "50%       -0.062217     -0.061865     -0.061824     -0.058983     -0.060346   \n",
            "75%        0.372569      0.372078      0.371639      0.371503      0.369648   \n",
            "max       10.952116     10.963605     10.976989     10.989331     11.001493   \n",
            "\n",
            "       ...           351           352           353           354  \\\n",
            "count  ...  25000.000000  25000.000000  25000.000000  25000.000000   \n",
            "mean   ...     -0.050584     -0.049930     -0.049442     -0.049225   \n",
            "std    ...      0.815944      0.819198      0.822878      0.826378   \n",
            "min    ...    -11.201258    -11.183992    -11.166756    -11.149419   \n",
            "25%    ...     -0.380890     -0.381354     -0.383301     -0.384532   \n",
            "50%    ...     -0.079129     -0.079871     -0.079599     -0.080272   \n",
            "75%    ...      0.214097      0.213438      0.213136      0.210636   \n",
            "max    ...     12.757933     12.756922     12.754959     12.752039   \n",
            "\n",
            "                355           356           357           358           359  \\\n",
            "count  25000.000000  25000.000000  25000.000000  25000.000000  25000.000000   \n",
            "mean      -0.049357     -0.049449     -0.049333     -0.049057     -0.048490   \n",
            "std        0.827986      0.829462      0.829996      0.830782      0.833865   \n",
            "min      -11.131571    -11.113476    -11.095249    -11.076901    -11.058587   \n",
            "25%       -0.384490     -0.385443     -0.385731     -0.386726     -0.387136   \n",
            "50%       -0.081139     -0.081598     -0.081482     -0.081343     -0.081163   \n",
            "75%        0.209095      0.208676      0.208891      0.208086      0.208918   \n",
            "max       12.748387     12.745051     12.741400     12.736672     12.731219   \n",
            "\n",
            "              label  \n",
            "count  25000.000000  \n",
            "mean       2.000000  \n",
            "std        1.414242  \n",
            "min        0.000000  \n",
            "25%        1.000000  \n",
            "50%        2.000000  \n",
            "75%        3.000000  \n",
            "max        4.000000  \n",
            "\n",
            "[8 rows x 361 columns]\n"
          ]
        }
      ]
    },
    {
      "cell_type": "markdown",
      "source": [
        "2.7 separating balanced data back into values and labels"
      ],
      "metadata": {
        "id": "cvxye0Ule2CV"
      }
    },
    {
      "cell_type": "code",
      "source": [
        "# Split back to X / y\n",
        "X_bal = balanced_df.drop('label', axis=1).values    # removing label column to get the values only as an array\n",
        "y_bal = balanced_df['label'].values   # extracting only the label column as an array\n",
        "\n",
        "print(\"After balancing:\", np.bincount(y_bal), \"=> each class =\", target_n)   # bincount calculates number of non-negative integer value in y_bal"
      ],
      "metadata": {
        "colab": {
          "base_uri": "https://localhost:8080/"
        },
        "id": "e_eGakUFfCFZ",
        "outputId": "f0422715-0b41-4784-ea50-3d16d7915928"
      },
      "execution_count": 23,
      "outputs": [
        {
          "output_type": "stream",
          "name": "stdout",
          "text": [
            "After balancing: [5000 5000 5000 5000 5000] => each class = 5000\n"
          ]
        }
      ]
    },
    {
      "cell_type": "markdown",
      "source": [
        "---"
      ],
      "metadata": {
        "id": "xNvzQCcmONx-"
      }
    },
    {
      "cell_type": "markdown",
      "source": [
        "# 3. Building the model"
      ],
      "metadata": {
        "id": "YFsISBI1OZ8t"
      }
    },
    {
      "cell_type": "markdown",
      "source": [
        "3.1 Spliting dataset into training and testing sets"
      ],
      "metadata": {
        "id": "EFnYIBIytXiT"
      }
    },
    {
      "source": [
        "# spliting dataset - 80% for training and 20% for testing\n",
        "train_df, test_df = train_test_split(balanced_df, test_size=0.2)\n",
        "\n",
        "# Separating features(values) and labels for both train and test dataset\n",
        "train_x = train_df.iloc[:,:-1].values.reshape(-1, 360, 1)\n",
        "train_y = to_categorical(train_df.iloc[:,-1])\n",
        "\n",
        "test_x  = test_df.iloc[:,:-1].values.reshape(-1, 360, 1)\n",
        "test_y  = to_categorical(test_df.iloc[:,-1])\n",
        "\n",
        "print(np.shape(train_y), np.shape(test_y))      # training value and label dataset\n",
        "print(np.shape(train_x), np.shape(test_x))    # testing value and label dataset"
      ],
      "cell_type": "code",
      "metadata": {
        "id": "WHzcSOqfs8Os",
        "colab": {
          "base_uri": "https://localhost:8080/"
        },
        "outputId": "1a61b7fe-e80f-4a08-ee59-bd879d7b60e0"
      },
      "execution_count": 24,
      "outputs": [
        {
          "output_type": "stream",
          "name": "stdout",
          "text": [
            "(20000, 5) (5000, 5)\n",
            "(20000, 360, 1) (5000, 360, 1)\n"
          ]
        }
      ]
    },
    {
      "cell_type": "markdown",
      "source": [
        "3.2 Building the 1D Convolutional Neural Network (CNN) for time-series data (1D ECG Signals)"
      ],
      "metadata": {
        "id": "NN3sCQh8vMB6"
      }
    },
    {
      "cell_type": "code",
      "source": [
        "# creating the layers of neural network\n",
        "model = Sequential([\n",
        "  Conv1D(16,13,padding='same',activation='relu', input_shape=(360,1)),\n",
        "  AvgPool1D(3,2),\n",
        "  Conv1D(32,15,padding='same',activation='relu'),\n",
        "  AvgPool1D(3,2),\n",
        "  Conv1D(64,17,padding='same',activation='relu'),\n",
        "  AvgPool1D(3,2),\n",
        "  Conv1D(128,19,padding='same',activation='relu'),\n",
        "  AvgPool1D(3,2),   # giving the pooling layer window_size=3 and sliding_step=2 to reduce number of parameters and computations in the network\n",
        "  Flatten(),    # flatens the output from pooling layers into 1D vector\n",
        "  Dropout(0.5),   # setting 50% input units to 0 to reduce overfitting\n",
        "  Dense(35, kernel_regularizer=regularizers.l2(1e-4)),    # first fully connected layer = 35 neuraons\n",
        "  Dense(5,  kernel_regularizer=regularizers.l2(1e-4)),    # second fully connected layer = 5 output classes\n",
        "  Softmax()     # activation function for output layer - converts output scores into a probability distribution over 5 classes.\n",
        "])\n",
        "\n",
        "# table for architecture of the neural network\n",
        "model.summary()"
      ],
      "metadata": {
        "colab": {
          "base_uri": "https://localhost:8080/",
          "height": 664
        },
        "id": "dbLRVlwws_DT",
        "outputId": "50f873e4-937e-4f86-f221-c34c6b76c602"
      },
      "execution_count": null,
      "outputs": [
        {
          "output_type": "stream",
          "name": "stderr",
          "text": [
            "/usr/local/lib/python3.11/dist-packages/keras/src/layers/convolutional/base_conv.py:107: UserWarning: Do not pass an `input_shape`/`input_dim` argument to a layer. When using Sequential models, prefer using an `Input(shape)` object as the first layer in the model instead.\n",
            "  super().__init__(activity_regularizer=activity_regularizer, **kwargs)\n"
          ]
        },
        {
          "output_type": "display_data",
          "data": {
            "text/plain": [
              "\u001b[1mModel: \"sequential\"\u001b[0m\n"
            ],
            "text/html": [
              "<pre style=\"white-space:pre;overflow-x:auto;line-height:normal;font-family:Menlo,'DejaVu Sans Mono',consolas,'Courier New',monospace\"><span style=\"font-weight: bold\">Model: \"sequential\"</span>\n",
              "</pre>\n"
            ]
          },
          "metadata": {}
        },
        {
          "output_type": "display_data",
          "data": {
            "text/plain": [
              "┏━━━━━━━━━━━━━━━━━━━━━━━━━━━━━━━━━┳━━━━━━━━━━━━━━━━━━━━━━━━┳━━━━━━━━━━━━━━━┓\n",
              "┃\u001b[1m \u001b[0m\u001b[1mLayer (type)                   \u001b[0m\u001b[1m \u001b[0m┃\u001b[1m \u001b[0m\u001b[1mOutput Shape          \u001b[0m\u001b[1m \u001b[0m┃\u001b[1m \u001b[0m\u001b[1m      Param #\u001b[0m\u001b[1m \u001b[0m┃\n",
              "┡━━━━━━━━━━━━━━━━━━━━━━━━━━━━━━━━━╇━━━━━━━━━━━━━━━━━━━━━━━━╇━━━━━━━━━━━━━━━┩\n",
              "│ conv1d (\u001b[38;5;33mConv1D\u001b[0m)                 │ (\u001b[38;5;45mNone\u001b[0m, \u001b[38;5;34m360\u001b[0m, \u001b[38;5;34m16\u001b[0m)        │           \u001b[38;5;34m224\u001b[0m │\n",
              "├─────────────────────────────────┼────────────────────────┼───────────────┤\n",
              "│ average_pooling1d               │ (\u001b[38;5;45mNone\u001b[0m, \u001b[38;5;34m179\u001b[0m, \u001b[38;5;34m16\u001b[0m)        │             \u001b[38;5;34m0\u001b[0m │\n",
              "│ (\u001b[38;5;33mAveragePooling1D\u001b[0m)              │                        │               │\n",
              "├─────────────────────────────────┼────────────────────────┼───────────────┤\n",
              "│ conv1d_1 (\u001b[38;5;33mConv1D\u001b[0m)               │ (\u001b[38;5;45mNone\u001b[0m, \u001b[38;5;34m179\u001b[0m, \u001b[38;5;34m32\u001b[0m)        │         \u001b[38;5;34m7,712\u001b[0m │\n",
              "├─────────────────────────────────┼────────────────────────┼───────────────┤\n",
              "│ average_pooling1d_1             │ (\u001b[38;5;45mNone\u001b[0m, \u001b[38;5;34m89\u001b[0m, \u001b[38;5;34m32\u001b[0m)         │             \u001b[38;5;34m0\u001b[0m │\n",
              "│ (\u001b[38;5;33mAveragePooling1D\u001b[0m)              │                        │               │\n",
              "├─────────────────────────────────┼────────────────────────┼───────────────┤\n",
              "│ conv1d_2 (\u001b[38;5;33mConv1D\u001b[0m)               │ (\u001b[38;5;45mNone\u001b[0m, \u001b[38;5;34m89\u001b[0m, \u001b[38;5;34m64\u001b[0m)         │        \u001b[38;5;34m34,880\u001b[0m │\n",
              "├─────────────────────────────────┼────────────────────────┼───────────────┤\n",
              "│ average_pooling1d_2             │ (\u001b[38;5;45mNone\u001b[0m, \u001b[38;5;34m44\u001b[0m, \u001b[38;5;34m64\u001b[0m)         │             \u001b[38;5;34m0\u001b[0m │\n",
              "│ (\u001b[38;5;33mAveragePooling1D\u001b[0m)              │                        │               │\n",
              "├─────────────────────────────────┼────────────────────────┼───────────────┤\n",
              "│ conv1d_3 (\u001b[38;5;33mConv1D\u001b[0m)               │ (\u001b[38;5;45mNone\u001b[0m, \u001b[38;5;34m44\u001b[0m, \u001b[38;5;34m128\u001b[0m)        │       \u001b[38;5;34m155,776\u001b[0m │\n",
              "├─────────────────────────────────┼────────────────────────┼───────────────┤\n",
              "│ average_pooling1d_3             │ (\u001b[38;5;45mNone\u001b[0m, \u001b[38;5;34m21\u001b[0m, \u001b[38;5;34m128\u001b[0m)        │             \u001b[38;5;34m0\u001b[0m │\n",
              "│ (\u001b[38;5;33mAveragePooling1D\u001b[0m)              │                        │               │\n",
              "├─────────────────────────────────┼────────────────────────┼───────────────┤\n",
              "│ flatten (\u001b[38;5;33mFlatten\u001b[0m)               │ (\u001b[38;5;45mNone\u001b[0m, \u001b[38;5;34m2688\u001b[0m)           │             \u001b[38;5;34m0\u001b[0m │\n",
              "├─────────────────────────────────┼────────────────────────┼───────────────┤\n",
              "│ dropout (\u001b[38;5;33mDropout\u001b[0m)               │ (\u001b[38;5;45mNone\u001b[0m, \u001b[38;5;34m2688\u001b[0m)           │             \u001b[38;5;34m0\u001b[0m │\n",
              "├─────────────────────────────────┼────────────────────────┼───────────────┤\n",
              "│ dense (\u001b[38;5;33mDense\u001b[0m)                   │ (\u001b[38;5;45mNone\u001b[0m, \u001b[38;5;34m35\u001b[0m)             │        \u001b[38;5;34m94,115\u001b[0m │\n",
              "├─────────────────────────────────┼────────────────────────┼───────────────┤\n",
              "│ dense_1 (\u001b[38;5;33mDense\u001b[0m)                 │ (\u001b[38;5;45mNone\u001b[0m, \u001b[38;5;34m5\u001b[0m)              │           \u001b[38;5;34m180\u001b[0m │\n",
              "├─────────────────────────────────┼────────────────────────┼───────────────┤\n",
              "│ softmax (\u001b[38;5;33mSoftmax\u001b[0m)               │ (\u001b[38;5;45mNone\u001b[0m, \u001b[38;5;34m5\u001b[0m)              │             \u001b[38;5;34m0\u001b[0m │\n",
              "└─────────────────────────────────┴────────────────────────┴───────────────┘\n"
            ],
            "text/html": [
              "<pre style=\"white-space:pre;overflow-x:auto;line-height:normal;font-family:Menlo,'DejaVu Sans Mono',consolas,'Courier New',monospace\">┏━━━━━━━━━━━━━━━━━━━━━━━━━━━━━━━━━┳━━━━━━━━━━━━━━━━━━━━━━━━┳━━━━━━━━━━━━━━━┓\n",
              "┃<span style=\"font-weight: bold\"> Layer (type)                    </span>┃<span style=\"font-weight: bold\"> Output Shape           </span>┃<span style=\"font-weight: bold\">       Param # </span>┃\n",
              "┡━━━━━━━━━━━━━━━━━━━━━━━━━━━━━━━━━╇━━━━━━━━━━━━━━━━━━━━━━━━╇━━━━━━━━━━━━━━━┩\n",
              "│ conv1d (<span style=\"color: #0087ff; text-decoration-color: #0087ff\">Conv1D</span>)                 │ (<span style=\"color: #00d7ff; text-decoration-color: #00d7ff\">None</span>, <span style=\"color: #00af00; text-decoration-color: #00af00\">360</span>, <span style=\"color: #00af00; text-decoration-color: #00af00\">16</span>)        │           <span style=\"color: #00af00; text-decoration-color: #00af00\">224</span> │\n",
              "├─────────────────────────────────┼────────────────────────┼───────────────┤\n",
              "│ average_pooling1d               │ (<span style=\"color: #00d7ff; text-decoration-color: #00d7ff\">None</span>, <span style=\"color: #00af00; text-decoration-color: #00af00\">179</span>, <span style=\"color: #00af00; text-decoration-color: #00af00\">16</span>)        │             <span style=\"color: #00af00; text-decoration-color: #00af00\">0</span> │\n",
              "│ (<span style=\"color: #0087ff; text-decoration-color: #0087ff\">AveragePooling1D</span>)              │                        │               │\n",
              "├─────────────────────────────────┼────────────────────────┼───────────────┤\n",
              "│ conv1d_1 (<span style=\"color: #0087ff; text-decoration-color: #0087ff\">Conv1D</span>)               │ (<span style=\"color: #00d7ff; text-decoration-color: #00d7ff\">None</span>, <span style=\"color: #00af00; text-decoration-color: #00af00\">179</span>, <span style=\"color: #00af00; text-decoration-color: #00af00\">32</span>)        │         <span style=\"color: #00af00; text-decoration-color: #00af00\">7,712</span> │\n",
              "├─────────────────────────────────┼────────────────────────┼───────────────┤\n",
              "│ average_pooling1d_1             │ (<span style=\"color: #00d7ff; text-decoration-color: #00d7ff\">None</span>, <span style=\"color: #00af00; text-decoration-color: #00af00\">89</span>, <span style=\"color: #00af00; text-decoration-color: #00af00\">32</span>)         │             <span style=\"color: #00af00; text-decoration-color: #00af00\">0</span> │\n",
              "│ (<span style=\"color: #0087ff; text-decoration-color: #0087ff\">AveragePooling1D</span>)              │                        │               │\n",
              "├─────────────────────────────────┼────────────────────────┼───────────────┤\n",
              "│ conv1d_2 (<span style=\"color: #0087ff; text-decoration-color: #0087ff\">Conv1D</span>)               │ (<span style=\"color: #00d7ff; text-decoration-color: #00d7ff\">None</span>, <span style=\"color: #00af00; text-decoration-color: #00af00\">89</span>, <span style=\"color: #00af00; text-decoration-color: #00af00\">64</span>)         │        <span style=\"color: #00af00; text-decoration-color: #00af00\">34,880</span> │\n",
              "├─────────────────────────────────┼────────────────────────┼───────────────┤\n",
              "│ average_pooling1d_2             │ (<span style=\"color: #00d7ff; text-decoration-color: #00d7ff\">None</span>, <span style=\"color: #00af00; text-decoration-color: #00af00\">44</span>, <span style=\"color: #00af00; text-decoration-color: #00af00\">64</span>)         │             <span style=\"color: #00af00; text-decoration-color: #00af00\">0</span> │\n",
              "│ (<span style=\"color: #0087ff; text-decoration-color: #0087ff\">AveragePooling1D</span>)              │                        │               │\n",
              "├─────────────────────────────────┼────────────────────────┼───────────────┤\n",
              "│ conv1d_3 (<span style=\"color: #0087ff; text-decoration-color: #0087ff\">Conv1D</span>)               │ (<span style=\"color: #00d7ff; text-decoration-color: #00d7ff\">None</span>, <span style=\"color: #00af00; text-decoration-color: #00af00\">44</span>, <span style=\"color: #00af00; text-decoration-color: #00af00\">128</span>)        │       <span style=\"color: #00af00; text-decoration-color: #00af00\">155,776</span> │\n",
              "├─────────────────────────────────┼────────────────────────┼───────────────┤\n",
              "│ average_pooling1d_3             │ (<span style=\"color: #00d7ff; text-decoration-color: #00d7ff\">None</span>, <span style=\"color: #00af00; text-decoration-color: #00af00\">21</span>, <span style=\"color: #00af00; text-decoration-color: #00af00\">128</span>)        │             <span style=\"color: #00af00; text-decoration-color: #00af00\">0</span> │\n",
              "│ (<span style=\"color: #0087ff; text-decoration-color: #0087ff\">AveragePooling1D</span>)              │                        │               │\n",
              "├─────────────────────────────────┼────────────────────────┼───────────────┤\n",
              "│ flatten (<span style=\"color: #0087ff; text-decoration-color: #0087ff\">Flatten</span>)               │ (<span style=\"color: #00d7ff; text-decoration-color: #00d7ff\">None</span>, <span style=\"color: #00af00; text-decoration-color: #00af00\">2688</span>)           │             <span style=\"color: #00af00; text-decoration-color: #00af00\">0</span> │\n",
              "├─────────────────────────────────┼────────────────────────┼───────────────┤\n",
              "│ dropout (<span style=\"color: #0087ff; text-decoration-color: #0087ff\">Dropout</span>)               │ (<span style=\"color: #00d7ff; text-decoration-color: #00d7ff\">None</span>, <span style=\"color: #00af00; text-decoration-color: #00af00\">2688</span>)           │             <span style=\"color: #00af00; text-decoration-color: #00af00\">0</span> │\n",
              "├─────────────────────────────────┼────────────────────────┼───────────────┤\n",
              "│ dense (<span style=\"color: #0087ff; text-decoration-color: #0087ff\">Dense</span>)                   │ (<span style=\"color: #00d7ff; text-decoration-color: #00d7ff\">None</span>, <span style=\"color: #00af00; text-decoration-color: #00af00\">35</span>)             │        <span style=\"color: #00af00; text-decoration-color: #00af00\">94,115</span> │\n",
              "├─────────────────────────────────┼────────────────────────┼───────────────┤\n",
              "│ dense_1 (<span style=\"color: #0087ff; text-decoration-color: #0087ff\">Dense</span>)                 │ (<span style=\"color: #00d7ff; text-decoration-color: #00d7ff\">None</span>, <span style=\"color: #00af00; text-decoration-color: #00af00\">5</span>)              │           <span style=\"color: #00af00; text-decoration-color: #00af00\">180</span> │\n",
              "├─────────────────────────────────┼────────────────────────┼───────────────┤\n",
              "│ softmax (<span style=\"color: #0087ff; text-decoration-color: #0087ff\">Softmax</span>)               │ (<span style=\"color: #00d7ff; text-decoration-color: #00d7ff\">None</span>, <span style=\"color: #00af00; text-decoration-color: #00af00\">5</span>)              │             <span style=\"color: #00af00; text-decoration-color: #00af00\">0</span> │\n",
              "└─────────────────────────────────┴────────────────────────┴───────────────┘\n",
              "</pre>\n"
            ]
          },
          "metadata": {}
        },
        {
          "output_type": "display_data",
          "data": {
            "text/plain": [
              "\u001b[1m Total params: \u001b[0m\u001b[38;5;34m292,887\u001b[0m (1.12 MB)\n"
            ],
            "text/html": [
              "<pre style=\"white-space:pre;overflow-x:auto;line-height:normal;font-family:Menlo,'DejaVu Sans Mono',consolas,'Courier New',monospace\"><span style=\"font-weight: bold\"> Total params: </span><span style=\"color: #00af00; text-decoration-color: #00af00\">292,887</span> (1.12 MB)\n",
              "</pre>\n"
            ]
          },
          "metadata": {}
        },
        {
          "output_type": "display_data",
          "data": {
            "text/plain": [
              "\u001b[1m Trainable params: \u001b[0m\u001b[38;5;34m292,887\u001b[0m (1.12 MB)\n"
            ],
            "text/html": [
              "<pre style=\"white-space:pre;overflow-x:auto;line-height:normal;font-family:Menlo,'DejaVu Sans Mono',consolas,'Courier New',monospace\"><span style=\"font-weight: bold\"> Trainable params: </span><span style=\"color: #00af00; text-decoration-color: #00af00\">292,887</span> (1.12 MB)\n",
              "</pre>\n"
            ]
          },
          "metadata": {}
        },
        {
          "output_type": "display_data",
          "data": {
            "text/plain": [
              "\u001b[1m Non-trainable params: \u001b[0m\u001b[38;5;34m0\u001b[0m (0.00 B)\n"
            ],
            "text/html": [
              "<pre style=\"white-space:pre;overflow-x:auto;line-height:normal;font-family:Menlo,'DejaVu Sans Mono',consolas,'Courier New',monospace\"><span style=\"font-weight: bold\"> Non-trainable params: </span><span style=\"color: #00af00; text-decoration-color: #00af00\">0</span> (0.00 B)\n",
              "</pre>\n"
            ]
          },
          "metadata": {}
        }
      ]
    },
    {
      "cell_type": "markdown",
      "source": [
        "3.3 Compiling model for training"
      ],
      "metadata": {
        "id": "FeeKytX5Pcej"
      }
    },
    {
      "cell_type": "code",
      "source": [
        "# configuring the model for classification\n",
        "model.compile(loss='categorical_crossentropy',  # categorical_crossentropy for multi-class classification\n",
        "              optimizer=Adam(),   # Adam - optimization algorithm to update model's weight during training\n",
        "              metrics=['accuracy'])"
      ],
      "metadata": {
        "id": "KctoGeestGFK",
        "collapsed": true
      },
      "execution_count": null,
      "outputs": []
    },
    {
      "cell_type": "markdown",
      "source": [
        "3.4 Trainig the model"
      ],
      "metadata": {
        "id": "rbOlqV-g1Tq_"
      }
    },
    {
      "cell_type": "code",
      "source": [
        "# this model will run through 60 epochs for 36 samples per gradient update\n",
        "history = model.fit(train_x, train_y,\n",
        "                    batch_size=36, epochs=60,\n",
        "                    validation_data=(test_x, test_y))\n",
        "\n",
        "# the output history object is plotted beloq for loss convergence and accuracy"
      ],
      "metadata": {
        "colab": {
          "base_uri": "https://localhost:8080/"
        },
        "id": "l6SqVGgb1TL2",
        "outputId": "9c00bfd5-3e1d-4f81-ed8c-f6bd6e15ff0f"
      },
      "execution_count": null,
      "outputs": [
        {
          "output_type": "stream",
          "name": "stdout",
          "text": [
            "Epoch 1/60\n",
            "\u001b[1m556/556\u001b[0m \u001b[32m━━━━━━━━━━━━━━━━━━━━\u001b[0m\u001b[37m\u001b[0m \u001b[1m15s\u001b[0m 16ms/step - accuracy: 0.6445 - loss: 0.9023 - val_accuracy: 0.8654 - val_loss: 0.4346\n",
            "Epoch 2/60\n",
            "\u001b[1m556/556\u001b[0m \u001b[32m━━━━━━━━━━━━━━━━━━━━\u001b[0m\u001b[37m\u001b[0m \u001b[1m3s\u001b[0m 6ms/step - accuracy: 0.8437 - loss: 0.4547 - val_accuracy: 0.8948 - val_loss: 0.3264\n",
            "Epoch 3/60\n",
            "\u001b[1m556/556\u001b[0m \u001b[32m━━━━━━━━━━━━━━━━━━━━\u001b[0m\u001b[37m\u001b[0m \u001b[1m3s\u001b[0m 5ms/step - accuracy: 0.8777 - loss: 0.3540 - val_accuracy: 0.9016 - val_loss: 0.3020\n",
            "Epoch 4/60\n",
            "\u001b[1m556/556\u001b[0m \u001b[32m━━━━━━━━━━━━━━━━━━━━\u001b[0m\u001b[37m\u001b[0m \u001b[1m4s\u001b[0m 7ms/step - accuracy: 0.8998 - loss: 0.3060 - val_accuracy: 0.9002 - val_loss: 0.3053\n",
            "Epoch 5/60\n",
            "\u001b[1m556/556\u001b[0m \u001b[32m━━━━━━━━━━━━━━━━━━━━\u001b[0m\u001b[37m\u001b[0m \u001b[1m4s\u001b[0m 5ms/step - accuracy: 0.9098 - loss: 0.2749 - val_accuracy: 0.9284 - val_loss: 0.2286\n",
            "Epoch 6/60\n",
            "\u001b[1m556/556\u001b[0m \u001b[32m━━━━━━━━━━━━━━━━━━━━\u001b[0m\u001b[37m\u001b[0m \u001b[1m5s\u001b[0m 5ms/step - accuracy: 0.9207 - loss: 0.2451 - val_accuracy: 0.9206 - val_loss: 0.2607\n",
            "Epoch 7/60\n",
            "\u001b[1m556/556\u001b[0m \u001b[32m━━━━━━━━━━━━━━━━━━━━\u001b[0m\u001b[37m\u001b[0m \u001b[1m4s\u001b[0m 8ms/step - accuracy: 0.9236 - loss: 0.2339 - val_accuracy: 0.9334 - val_loss: 0.2196\n",
            "Epoch 8/60\n",
            "\u001b[1m556/556\u001b[0m \u001b[32m━━━━━━━━━━━━━━━━━━━━\u001b[0m\u001b[37m\u001b[0m \u001b[1m4s\u001b[0m 5ms/step - accuracy: 0.9333 - loss: 0.2069 - val_accuracy: 0.9248 - val_loss: 0.2361\n",
            "Epoch 9/60\n",
            "\u001b[1m556/556\u001b[0m \u001b[32m━━━━━━━━━━━━━━━━━━━━\u001b[0m\u001b[37m\u001b[0m \u001b[1m5s\u001b[0m 6ms/step - accuracy: 0.9384 - loss: 0.2018 - val_accuracy: 0.9314 - val_loss: 0.2321\n",
            "Epoch 10/60\n",
            "\u001b[1m556/556\u001b[0m \u001b[32m━━━━━━━━━━━━━━━━━━━━\u001b[0m\u001b[37m\u001b[0m \u001b[1m5s\u001b[0m 6ms/step - accuracy: 0.9376 - loss: 0.1878 - val_accuracy: 0.9462 - val_loss: 0.1948\n",
            "Epoch 11/60\n",
            "\u001b[1m556/556\u001b[0m \u001b[32m━━━━━━━━━━━━━━━━━━━━\u001b[0m\u001b[37m\u001b[0m \u001b[1m3s\u001b[0m 6ms/step - accuracy: 0.9487 - loss: 0.1703 - val_accuracy: 0.9380 - val_loss: 0.2192\n",
            "Epoch 12/60\n",
            "\u001b[1m556/556\u001b[0m \u001b[32m━━━━━━━━━━━━━━━━━━━━\u001b[0m\u001b[37m\u001b[0m \u001b[1m3s\u001b[0m 5ms/step - accuracy: 0.9484 - loss: 0.1726 - val_accuracy: 0.9466 - val_loss: 0.2040\n",
            "Epoch 13/60\n",
            "\u001b[1m556/556\u001b[0m \u001b[32m━━━━━━━━━━━━━━━━━━━━\u001b[0m\u001b[37m\u001b[0m \u001b[1m6s\u001b[0m 7ms/step - accuracy: 0.9512 - loss: 0.1595 - val_accuracy: 0.9494 - val_loss: 0.1907\n",
            "Epoch 14/60\n",
            "\u001b[1m556/556\u001b[0m \u001b[32m━━━━━━━━━━━━━━━━━━━━\u001b[0m\u001b[37m\u001b[0m \u001b[1m3s\u001b[0m 5ms/step - accuracy: 0.9524 - loss: 0.1542 - val_accuracy: 0.9460 - val_loss: 0.2061\n",
            "Epoch 15/60\n",
            "\u001b[1m556/556\u001b[0m \u001b[32m━━━━━━━━━━━━━━━━━━━━\u001b[0m\u001b[37m\u001b[0m \u001b[1m3s\u001b[0m 5ms/step - accuracy: 0.9565 - loss: 0.1463 - val_accuracy: 0.9480 - val_loss: 0.2024\n",
            "Epoch 16/60\n",
            "\u001b[1m556/556\u001b[0m \u001b[32m━━━━━━━━━━━━━━━━━━━━\u001b[0m\u001b[37m\u001b[0m \u001b[1m3s\u001b[0m 5ms/step - accuracy: 0.9619 - loss: 0.1365 - val_accuracy: 0.9478 - val_loss: 0.2009\n",
            "Epoch 17/60\n",
            "\u001b[1m556/556\u001b[0m \u001b[32m━━━━━━━━━━━━━━━━━━━━\u001b[0m\u001b[37m\u001b[0m \u001b[1m6s\u001b[0m 6ms/step - accuracy: 0.9614 - loss: 0.1378 - val_accuracy: 0.9484 - val_loss: 0.1828\n",
            "Epoch 18/60\n",
            "\u001b[1m556/556\u001b[0m \u001b[32m━━━━━━━━━━━━━━━━━━━━\u001b[0m\u001b[37m\u001b[0m \u001b[1m5s\u001b[0m 6ms/step - accuracy: 0.9596 - loss: 0.1278 - val_accuracy: 0.9472 - val_loss: 0.2096\n",
            "Epoch 19/60\n",
            "\u001b[1m556/556\u001b[0m \u001b[32m━━━━━━━━━━━━━━━━━━━━\u001b[0m\u001b[37m\u001b[0m \u001b[1m3s\u001b[0m 6ms/step - accuracy: 0.9653 - loss: 0.1209 - val_accuracy: 0.9516 - val_loss: 0.1873\n",
            "Epoch 20/60\n",
            "\u001b[1m556/556\u001b[0m \u001b[32m━━━━━━━━━━━━━━━━━━━━\u001b[0m\u001b[37m\u001b[0m \u001b[1m5s\u001b[0m 5ms/step - accuracy: 0.9657 - loss: 0.1211 - val_accuracy: 0.9546 - val_loss: 0.1919\n",
            "Epoch 21/60\n",
            "\u001b[1m556/556\u001b[0m \u001b[32m━━━━━━━━━━━━━━━━━━━━\u001b[0m\u001b[37m\u001b[0m \u001b[1m3s\u001b[0m 5ms/step - accuracy: 0.9659 - loss: 0.1148 - val_accuracy: 0.9504 - val_loss: 0.1995\n",
            "Epoch 22/60\n",
            "\u001b[1m556/556\u001b[0m \u001b[32m━━━━━━━━━━━━━━━━━━━━\u001b[0m\u001b[37m\u001b[0m \u001b[1m3s\u001b[0m 5ms/step - accuracy: 0.9715 - loss: 0.1091 - val_accuracy: 0.9504 - val_loss: 0.1967\n",
            "Epoch 23/60\n",
            "\u001b[1m556/556\u001b[0m \u001b[32m━━━━━━━━━━━━━━━━━━━━\u001b[0m\u001b[37m\u001b[0m \u001b[1m4s\u001b[0m 6ms/step - accuracy: 0.9692 - loss: 0.1070 - val_accuracy: 0.9526 - val_loss: 0.2025\n",
            "Epoch 24/60\n",
            "\u001b[1m556/556\u001b[0m \u001b[32m━━━━━━━━━━━━━━━━━━━━\u001b[0m\u001b[37m\u001b[0m \u001b[1m5s\u001b[0m 6ms/step - accuracy: 0.9665 - loss: 0.1105 - val_accuracy: 0.9526 - val_loss: 0.1855\n",
            "Epoch 25/60\n",
            "\u001b[1m556/556\u001b[0m \u001b[32m━━━━━━━━━━━━━━━━━━━━\u001b[0m\u001b[37m\u001b[0m \u001b[1m5s\u001b[0m 5ms/step - accuracy: 0.9697 - loss: 0.1054 - val_accuracy: 0.9546 - val_loss: 0.2216\n",
            "Epoch 26/60\n",
            "\u001b[1m556/556\u001b[0m \u001b[32m━━━━━━━━━━━━━━━━━━━━\u001b[0m\u001b[37m\u001b[0m \u001b[1m4s\u001b[0m 6ms/step - accuracy: 0.9729 - loss: 0.1034 - val_accuracy: 0.9588 - val_loss: 0.1820\n",
            "Epoch 27/60\n",
            "\u001b[1m556/556\u001b[0m \u001b[32m━━━━━━━━━━━━━━━━━━━━\u001b[0m\u001b[37m\u001b[0m \u001b[1m4s\u001b[0m 5ms/step - accuracy: 0.9758 - loss: 0.0894 - val_accuracy: 0.9532 - val_loss: 0.1981\n",
            "Epoch 28/60\n",
            "\u001b[1m556/556\u001b[0m \u001b[32m━━━━━━━━━━━━━━━━━━━━\u001b[0m\u001b[37m\u001b[0m \u001b[1m3s\u001b[0m 5ms/step - accuracy: 0.9746 - loss: 0.0953 - val_accuracy: 0.9538 - val_loss: 0.2077\n",
            "Epoch 29/60\n",
            "\u001b[1m556/556\u001b[0m \u001b[32m━━━━━━━━━━━━━━━━━━━━\u001b[0m\u001b[37m\u001b[0m \u001b[1m6s\u001b[0m 7ms/step - accuracy: 0.9725 - loss: 0.0972 - val_accuracy: 0.9552 - val_loss: 0.1904\n",
            "Epoch 30/60\n",
            "\u001b[1m556/556\u001b[0m \u001b[32m━━━━━━━━━━━━━━━━━━━━\u001b[0m\u001b[37m\u001b[0m \u001b[1m3s\u001b[0m 5ms/step - accuracy: 0.9747 - loss: 0.0910 - val_accuracy: 0.9558 - val_loss: 0.2039\n",
            "Epoch 31/60\n",
            "\u001b[1m556/556\u001b[0m \u001b[32m━━━━━━━━━━━━━━━━━━━━\u001b[0m\u001b[37m\u001b[0m \u001b[1m3s\u001b[0m 5ms/step - accuracy: 0.9781 - loss: 0.0837 - val_accuracy: 0.9574 - val_loss: 0.2012\n",
            "Epoch 32/60\n",
            "\u001b[1m556/556\u001b[0m \u001b[32m━━━━━━━━━━━━━━━━━━━━\u001b[0m\u001b[37m\u001b[0m \u001b[1m3s\u001b[0m 5ms/step - accuracy: 0.9768 - loss: 0.0875 - val_accuracy: 0.9608 - val_loss: 0.1931\n",
            "Epoch 33/60\n",
            "\u001b[1m556/556\u001b[0m \u001b[32m━━━━━━━━━━━━━━━━━━━━\u001b[0m\u001b[37m\u001b[0m \u001b[1m3s\u001b[0m 6ms/step - accuracy: 0.9780 - loss: 0.0804 - val_accuracy: 0.9532 - val_loss: 0.2134\n",
            "Epoch 34/60\n",
            "\u001b[1m556/556\u001b[0m \u001b[32m━━━━━━━━━━━━━━━━━━━━\u001b[0m\u001b[37m\u001b[0m \u001b[1m3s\u001b[0m 5ms/step - accuracy: 0.9810 - loss: 0.0713 - val_accuracy: 0.9536 - val_loss: 0.2131\n",
            "Epoch 35/60\n",
            "\u001b[1m556/556\u001b[0m \u001b[32m━━━━━━━━━━━━━━━━━━━━\u001b[0m\u001b[37m\u001b[0m \u001b[1m5s\u001b[0m 6ms/step - accuracy: 0.9804 - loss: 0.0733 - val_accuracy: 0.9574 - val_loss: 0.2234\n",
            "Epoch 36/60\n",
            "\u001b[1m556/556\u001b[0m \u001b[32m━━━━━━━━━━━━━━━━━━━━\u001b[0m\u001b[37m\u001b[0m \u001b[1m6s\u001b[0m 7ms/step - accuracy: 0.9780 - loss: 0.0872 - val_accuracy: 0.9520 - val_loss: 0.2244\n",
            "Epoch 37/60\n",
            "\u001b[1m556/556\u001b[0m \u001b[32m━━━━━━━━━━━━━━━━━━━━\u001b[0m\u001b[37m\u001b[0m \u001b[1m3s\u001b[0m 5ms/step - accuracy: 0.9772 - loss: 0.0875 - val_accuracy: 0.9546 - val_loss: 0.1986\n",
            "Epoch 38/60\n",
            "\u001b[1m556/556\u001b[0m \u001b[32m━━━━━━━━━━━━━━━━━━━━\u001b[0m\u001b[37m\u001b[0m \u001b[1m5s\u001b[0m 6ms/step - accuracy: 0.9818 - loss: 0.0723 - val_accuracy: 0.9530 - val_loss: 0.2087\n",
            "Epoch 39/60\n",
            "\u001b[1m556/556\u001b[0m \u001b[32m━━━━━━━━━━━━━━━━━━━━\u001b[0m\u001b[37m\u001b[0m \u001b[1m3s\u001b[0m 6ms/step - accuracy: 0.9786 - loss: 0.0812 - val_accuracy: 0.9552 - val_loss: 0.1974\n",
            "Epoch 40/60\n",
            "\u001b[1m556/556\u001b[0m \u001b[32m━━━━━━━━━━━━━━━━━━━━\u001b[0m\u001b[37m\u001b[0m \u001b[1m3s\u001b[0m 5ms/step - accuracy: 0.9820 - loss: 0.0671 - val_accuracy: 0.9568 - val_loss: 0.2062\n",
            "Epoch 41/60\n",
            "\u001b[1m556/556\u001b[0m \u001b[32m━━━━━━━━━━━━━━━━━━━━\u001b[0m\u001b[37m\u001b[0m \u001b[1m5s\u001b[0m 5ms/step - accuracy: 0.9803 - loss: 0.0757 - val_accuracy: 0.9568 - val_loss: 0.2371\n",
            "Epoch 42/60\n",
            "\u001b[1m556/556\u001b[0m \u001b[32m━━━━━━━━━━━━━━━━━━━━\u001b[0m\u001b[37m\u001b[0m \u001b[1m6s\u001b[0m 7ms/step - accuracy: 0.9772 - loss: 0.0827 - val_accuracy: 0.9622 - val_loss: 0.1877\n",
            "Epoch 43/60\n",
            "\u001b[1m556/556\u001b[0m \u001b[32m━━━━━━━━━━━━━━━━━━━━\u001b[0m\u001b[37m\u001b[0m \u001b[1m4s\u001b[0m 5ms/step - accuracy: 0.9831 - loss: 0.0685 - val_accuracy: 0.9640 - val_loss: 0.1863\n",
            "Epoch 44/60\n",
            "\u001b[1m556/556\u001b[0m \u001b[32m━━━━━━━━━━━━━━━━━━━━\u001b[0m\u001b[37m\u001b[0m \u001b[1m6s\u001b[0m 6ms/step - accuracy: 0.9842 - loss: 0.0626 - val_accuracy: 0.9634 - val_loss: 0.1781\n",
            "Epoch 45/60\n",
            "\u001b[1m556/556\u001b[0m \u001b[32m━━━━━━━━━━━━━━━━━━━━\u001b[0m\u001b[37m\u001b[0m \u001b[1m4s\u001b[0m 6ms/step - accuracy: 0.9865 - loss: 0.0557 - val_accuracy: 0.9618 - val_loss: 0.1920\n",
            "Epoch 46/60\n",
            "\u001b[1m556/556\u001b[0m \u001b[32m━━━━━━━━━━━━━━━━━━━━\u001b[0m\u001b[37m\u001b[0m \u001b[1m3s\u001b[0m 5ms/step - accuracy: 0.9848 - loss: 0.0613 - val_accuracy: 0.9644 - val_loss: 0.1790\n",
            "Epoch 47/60\n",
            "\u001b[1m556/556\u001b[0m \u001b[32m━━━━━━━━━━━━━━━━━━━━\u001b[0m\u001b[37m\u001b[0m \u001b[1m6s\u001b[0m 5ms/step - accuracy: 0.9814 - loss: 0.0666 - val_accuracy: 0.9634 - val_loss: 0.1939\n",
            "Epoch 48/60\n",
            "\u001b[1m556/556\u001b[0m \u001b[32m━━━━━━━━━━━━━━━━━━━━\u001b[0m\u001b[37m\u001b[0m \u001b[1m6s\u001b[0m 6ms/step - accuracy: 0.9835 - loss: 0.0642 - val_accuracy: 0.9628 - val_loss: 0.1966\n",
            "Epoch 49/60\n",
            "\u001b[1m556/556\u001b[0m \u001b[32m━━━━━━━━━━━━━━━━━━━━\u001b[0m\u001b[37m\u001b[0m \u001b[1m3s\u001b[0m 5ms/step - accuracy: 0.9821 - loss: 0.0680 - val_accuracy: 0.9580 - val_loss: 0.2233\n",
            "Epoch 50/60\n",
            "\u001b[1m556/556\u001b[0m \u001b[32m━━━━━━━━━━━━━━━━━━━━\u001b[0m\u001b[37m\u001b[0m \u001b[1m5s\u001b[0m 5ms/step - accuracy: 0.9805 - loss: 0.0774 - val_accuracy: 0.9622 - val_loss: 0.1885\n",
            "Epoch 51/60\n",
            "\u001b[1m556/556\u001b[0m \u001b[32m━━━━━━━━━━━━━━━━━━━━\u001b[0m\u001b[37m\u001b[0m \u001b[1m4s\u001b[0m 7ms/step - accuracy: 0.9871 - loss: 0.0527 - val_accuracy: 0.9636 - val_loss: 0.1870\n",
            "Epoch 52/60\n",
            "\u001b[1m556/556\u001b[0m \u001b[32m━━━━━━━━━━━━━━━━━━━━\u001b[0m\u001b[37m\u001b[0m \u001b[1m3s\u001b[0m 6ms/step - accuracy: 0.9859 - loss: 0.0601 - val_accuracy: 0.9598 - val_loss: 0.2126\n",
            "Epoch 53/60\n",
            "\u001b[1m556/556\u001b[0m \u001b[32m━━━━━━━━━━━━━━━━━━━━\u001b[0m\u001b[37m\u001b[0m \u001b[1m5s\u001b[0m 5ms/step - accuracy: 0.9872 - loss: 0.0527 - val_accuracy: 0.9618 - val_loss: 0.1975\n",
            "Epoch 54/60\n",
            "\u001b[1m556/556\u001b[0m \u001b[32m━━━━━━━━━━━━━━━━━━━━\u001b[0m\u001b[37m\u001b[0m \u001b[1m3s\u001b[0m 6ms/step - accuracy: 0.9858 - loss: 0.0587 - val_accuracy: 0.9588 - val_loss: 0.2233\n",
            "Epoch 55/60\n",
            "\u001b[1m556/556\u001b[0m \u001b[32m━━━━━━━━━━━━━━━━━━━━\u001b[0m\u001b[37m\u001b[0m \u001b[1m3s\u001b[0m 6ms/step - accuracy: 0.9846 - loss: 0.0604 - val_accuracy: 0.9646 - val_loss: 0.1861\n",
            "Epoch 56/60\n",
            "\u001b[1m556/556\u001b[0m \u001b[32m━━━━━━━━━━━━━━━━━━━━\u001b[0m\u001b[37m\u001b[0m \u001b[1m5s\u001b[0m 5ms/step - accuracy: 0.9864 - loss: 0.0575 - val_accuracy: 0.9606 - val_loss: 0.2059\n",
            "Epoch 57/60\n",
            "\u001b[1m556/556\u001b[0m \u001b[32m━━━━━━━━━━━━━━━━━━━━\u001b[0m\u001b[37m\u001b[0m \u001b[1m3s\u001b[0m 5ms/step - accuracy: 0.9870 - loss: 0.0514 - val_accuracy: 0.9588 - val_loss: 0.2060\n",
            "Epoch 58/60\n",
            "\u001b[1m556/556\u001b[0m \u001b[32m━━━━━━━━━━━━━━━━━━━━\u001b[0m\u001b[37m\u001b[0m \u001b[1m6s\u001b[0m 6ms/step - accuracy: 0.9894 - loss: 0.0449 - val_accuracy: 0.9612 - val_loss: 0.2124\n",
            "Epoch 59/60\n",
            "\u001b[1m556/556\u001b[0m \u001b[32m━━━━━━━━━━━━━━━━━━━━\u001b[0m\u001b[37m\u001b[0m \u001b[1m5s\u001b[0m 5ms/step - accuracy: 0.9883 - loss: 0.0502 - val_accuracy: 0.9572 - val_loss: 0.2159\n",
            "Epoch 60/60\n",
            "\u001b[1m556/556\u001b[0m \u001b[32m━━━━━━━━━━━━━━━━━━━━\u001b[0m\u001b[37m\u001b[0m \u001b[1m6s\u001b[0m 8ms/step - accuracy: 0.9838 - loss: 0.0669 - val_accuracy: 0.9592 - val_loss: 0.2271\n"
          ]
        }
      ]
    },
    {
      "cell_type": "markdown",
      "source": [
        "---"
      ],
      "metadata": {
        "id": "22NTVDzI5OaN"
      }
    },
    {
      "cell_type": "markdown",
      "source": [
        "# 4. Evaluation"
      ],
      "metadata": {
        "id": "qb9Iz9UA5PZe"
      }
    },
    {
      "cell_type": "markdown",
      "source": [
        "4.1 Plotting for loss convergence"
      ],
      "metadata": {
        "id": "Ei9bQOih3of2"
      }
    },
    {
      "cell_type": "code",
      "source": [
        "# to summarize history for loss\n",
        "plt.plot(history.history['loss'])\n",
        "plt.plot(history.history['val_loss'])\n",
        "plt.title('model loss')\n",
        "plt.ylabel('loss')\n",
        "plt.xlabel('epoch')\n",
        "plt.legend(['train', 'test'], loc='upper left')\n",
        "plt.show()"
      ],
      "metadata": {
        "colab": {
          "base_uri": "https://localhost:8080/",
          "height": 487
        },
        "id": "QxNQc-183oEm",
        "outputId": "8de659e4-ae34-44e2-acf5-e7ec5f14a76a"
      },
      "execution_count": null,
      "outputs": [
        {
          "output_type": "display_data",
          "data": {
            "text/plain": [
              "<Figure size 1500x500 with 1 Axes>"
            ],
            "image/png": "[encoded data removed]"
          },
          "metadata": {}
        }
      ]
    },
    {
      "cell_type": "markdown",
      "source": [
        "4.2 Plotting for accuracy"
      ],
      "metadata": {
        "id": "QCB4G65H3zkM"
      }
    },
    {
      "cell_type": "code",
      "source": [
        "# t0 summarize history for accuracy\n",
        "plt.plot(history.history['accuracy'])\n",
        "plt.plot(history.history['val_accuracy'])\n",
        "plt.title('model accuracy')\n",
        "plt.ylabel('accuracy')\n",
        "plt.xlabel('epoch')\n",
        "plt.legend(['train', 'test'], loc='upper left')\n",
        "plt.show()"
      ],
      "metadata": {
        "colab": {
          "base_uri": "https://localhost:8080/",
          "height": 487
        },
        "id": "MgBwoLax3zQl",
        "outputId": "16f92655-6e0d-4478-84f6-190efe96f661"
      },
      "execution_count": null,
      "outputs": [
        {
          "output_type": "display_data",
          "data": {
            "text/plain": [
              "<Figure size 1500x500 with 1 Axes>"
            ],
            "image/png": "[encoded data removed]"
          },
          "metadata": {}
        }
      ]
    },
    {
      "cell_type": "markdown",
      "source": [
        "4.3 Evaluating the model for Loss and Accuracy"
      ],
      "metadata": {
        "id": "4dblciYt42G6"
      }
    },
    {
      "cell_type": "code",
      "source": [
        "score = model.evaluate(test_x, test_y)\n",
        "\n",
        "print('Test Loss:', score[0])\n",
        "print('Test accuracy:', score[1])\n",
        "\n",
        "acc_score = score[1]*100\n",
        "print('Final Accuracy Score: ',round(acc_score,2),'%')"
      ],
      "metadata": {
        "colab": {
          "base_uri": "https://localhost:8080/"
        },
        "id": "sHkpXu3y4yJj",
        "outputId": "8876ec24-dbfd-43cb-97bf-856dc9f274c7"
      },
      "execution_count": null,
      "outputs": [
        {
          "output_type": "stream",
          "name": "stdout",
          "text": [
            "\u001b[1m157/157\u001b[0m \u001b[32m━━━━━━━━━━━━━━━━━━━━\u001b[0m\u001b[37m\u001b[0m \u001b[1m1s\u001b[0m 8ms/step - accuracy: 0.9558 - loss: 0.2698\n",
            "Test Loss: 0.22709469497203827\n",
            "Test accuracy: 0.9592000246047974\n",
            "Final Accuracy Score:  95.92 %\n"
          ]
        }
      ]
    },
    {
      "cell_type": "markdown",
      "source": [
        "---"
      ],
      "metadata": {
        "id": "BDrRYocZ5hDk"
      }
    },
    {
      "cell_type": "markdown",
      "source": [
        "# 5. Saving the model to google drive"
      ],
      "metadata": {
        "id": "ZnkMrDhqPrj6"
      }
    },
    {
      "cell_type": "code",
      "source": [
        "model.save('arrhythmia_cnn.h5')"
      ],
      "metadata": {
        "colab": {
          "base_uri": "https://localhost:8080/"
        },
        "id": "CLHzfPcltG3T",
        "outputId": "aead56b9-ac27-477e-f67c-cc8b5128b4e4"
      },
      "execution_count": null,
      "outputs": [
        {
          "output_type": "stream",
          "name": "stderr",
          "text": [
            "WARNING:absl:You are saving your model as an HDF5 file via `model.save()` or `keras.saving.save_model(model)`. This file format is considered legacy. We recommend using instead the native Keras format, e.g. `model.save('my_model.keras')` or `keras.saving.save_model(model, 'my_model.keras')`. \n"
          ]
        }
      ]
    },
    {
      "cell_type": "code",
      "source": [
        "# saving model at custom google drive folder\n",
        "save_path = '/content/drive/MyDrive/Internships/IIITg/Cardiac Arrest Early Detection System'\n",
        "model.save(os.path.join(save_path, 'arrhythmia_cnn.h5'))"
      ],
      "metadata": {
        "colab": {
          "base_uri": "https://localhost:8080/"
        },
        "id": "vVVYdbruB3n6",
        "outputId": "e106b11d-cd6d-4f90-c76e-535af8ebaf7a"
      },
      "execution_count": null,
      "outputs": [
        {
          "output_type": "stream",
          "name": "stderr",
          "text": [
            "WARNING:absl:You are saving your model as an HDF5 file via `model.save()` or `keras.saving.save_model(model)`. This file format is considered legacy. We recommend using instead the native Keras format, e.g. `model.save('my_model.keras')` or `keras.saving.save_model(model, 'my_model.keras')`. \n"
          ]
        }
      ]
    },
    {
      "cell_type": "markdown",
      "source": [
        "---"
      ],
      "metadata": {
        "id": "uVsIAAe_PxyR"
      }
    },
    {
      "cell_type": "markdown",
      "source": [
        "# 6. Cardiac Arrest Alert System"
      ],
      "metadata": {
        "id": "vWpy8lJWN45l"
      }
    },
    {
      "cell_type": "markdown",
      "source": [
        "6.1 Pre-requisite Imports"
      ],
      "metadata": {
        "id": "e6KkSYanOUZa"
      }
    },
    {
      "cell_type": "code",
      "source": [
        "from google.colab import drive\n",
        "drive.mount('/content/drive')\n",
        "\n",
        "import os, csv, time\n",
        "import numpy as np\n",
        "import pywt\n",
        "from scipy import stats\n",
        "from keras.models import load_model\n",
        "import matplotlib.pyplot as plt\n",
        "%matplotlib inline"
      ],
      "metadata": {
        "colab": {
          "base_uri": "https://localhost:8080/"
        },
        "id": "YDuELYvBOQAz",
        "outputId": "776e5967-2987-46eb-fd17-57cf4858d188"
      },
      "execution_count": null,
      "outputs": [
        {
          "output_type": "stream",
          "name": "stdout",
          "text": [
            "Drive already mounted at /content/drive; to attempt to forcibly remount, call drive.mount(\"/content/drive\", force_remount=True).\n"
          ]
        }
      ]
    },
    {
      "cell_type": "markdown",
      "source": [
        "6.2 load trained model"
      ],
      "metadata": {
        "id": "P4fM4I8GOfE7"
      }
    },
    {
      "cell_type": "code",
      "source": [
        "model_path = '/content/drive/MyDrive/Internships/IIITg/Cardiac Arrest Early Detection System/arrhythmia_cnn.h5'\n",
        "model = load_model(model_path)\n",
        "print(\"Model loaded. Input shape:\", model.input_shape)"
      ],
      "metadata": {
        "id": "1H442SzdOhWK",
        "colab": {
          "base_uri": "https://localhost:8080/"
        },
        "outputId": "13ac899e-da47-4de6-85af-093c71bcf4af"
      },
      "execution_count": null,
      "outputs": [
        {
          "output_type": "stream",
          "name": "stderr",
          "text": [
            "WARNING:absl:Compiled the loaded model, but the compiled metrics have yet to be built. `model.compile_metrics` will be empty until you train or evaluate the model.\n"
          ]
        },
        {
          "output_type": "stream",
          "name": "stdout",
          "text": [
            "Model loaded. Input shape: (None, 360, 1)\n"
          ]
        }
      ]
    },
    {
      "cell_type": "markdown",
      "source": [
        "6.3 Re‐defined preprocessing (matching the training)"
      ],
      "metadata": {
        "id": "pTEfKHdIOz_C"
      }
    },
    {
      "cell_type": "code",
      "source": [
        "window_size = 180   # samples before & after R-peak\n",
        "classes     = ['N','L','R','A','V']\n",
        "\n",
        "def denoise(sig):\n",
        "    w     = pywt.Wavelet('sym4')\n",
        "    maxlev= pywt.dwt_max_level(len(sig), w.dec_len)\n",
        "    coeffs= pywt.wavedec(sig, 'sym4', level=maxlev)\n",
        "    thresh= 0.04 * max(abs(c) for c in coeffs[1])\n",
        "    for i in range(1,len(coeffs)):\n",
        "        coeffs[i] = pywt.threshold(coeffs[i], thresh)\n",
        "    return pywt.waverec(coeffs, 'sym4')"
      ],
      "metadata": {
        "id": "HHgRjn-wOu5a"
      },
      "execution_count": null,
      "outputs": []
    },
    {
      "cell_type": "markdown",
      "source": [
        "6.4 helper function to process a long ECG array in sliding windows"
      ],
      "metadata": {
        "id": "F1nf8aedRPYe"
      }
    },
    {
      "cell_type": "code",
      "source": [
        "def sliding_inference(ecg_signal, step=50, alert_thresh=0.7):\n",
        "    n = len(ecg_signal)\n",
        "    alerts = []\n",
        "    for center in range(window_size, n-window_size, step):\n",
        "        window = ecg_signal[center-window_size:center+window_size]\n",
        "        # denoise + normalize\n",
        "        w = denoise(window)\n",
        "        w = stats.zscore(w)\n",
        "        # reshape for model: (1,360,1)\n",
        "        inp = w.reshape(1, len(w), 1)\n",
        "        probs = model.predict(inp, verbose=0)[0]\n",
        "        # check ventricular class probability\n",
        "        if probs[4] > alert_thresh:\n",
        "            t_sec = center / 360.0   # if sampling at 360Hz → seconds\n",
        "            alerts.append((t_sec, probs[4]))\n",
        "    return alerts"
      ],
      "metadata": {
        "id": "vXTTLHqvO6K4"
      },
      "execution_count": null,
      "outputs": []
    },
    {
      "cell_type": "markdown",
      "source": [
        "6.5 testing the model by simulating on a different ECG dataset"
      ],
      "metadata": {
        "id": "-DwqZQwkRSd8"
      }
    },
    {
      "source": [
        "ecg_file = '/content/drive/MyDrive/Internships/IIITg/Cardiac Arrest Early Detection System/mitbih_test.csv/mitbih_test.csv'\n",
        "signal = []\n",
        "with open(ecg_file) as f:\n",
        "    rdr = csv.reader(f)\n",
        "    next(rdr)\n",
        "    for row in rdr:\n",
        "        signal.append(float(row[1]))\n",
        "signal = np.array(signal)\n",
        "\n",
        "alerts = sliding_inference(signal, step=50, alert_thresh=0.8)\n",
        "\n",
        "if alerts:\n",
        "    print(f\"⚠️ {len(alerts)} alert(s) triggered:\")\n",
        "    for t, p in alerts:\n",
        "        print(f\" • at {t:.1f}s → P(ventricular) = {p:.2f}\")\n",
        "else:\n",
        "    print(\"✅ No dangerous events detected.\")"
      ],
      "cell_type": "code",
      "metadata": {
        "id": "8yYH-P1oQatE",
        "colab": {
          "base_uri": "https://localhost:8080/"
        },
        "outputId": "409d5369-029a-40d6-b8c0-916fdff4c9d7"
      },
      "execution_count": null,
      "outputs": [
        {
          "output_type": "stream",
          "name": "stdout",
          "text": [
            "⚠️ 74 alert(s) triggered:\n",
            " • at 0.6s → P(ventricular) = 0.88\n",
            " • at 3.3s → P(ventricular) = 0.98\n",
            " • at 3.6s → P(ventricular) = 0.98\n",
            " • at 3.8s → P(ventricular) = 0.92\n",
            " • at 4.4s → P(ventricular) = 1.00\n",
            " • at 5.2s → P(ventricular) = 0.87\n",
            " • at 5.9s → P(ventricular) = 0.83\n",
            " • at 7.2s → P(ventricular) = 0.90\n",
            " • at 7.7s → P(ventricular) = 0.94\n",
            " • at 8.3s → P(ventricular) = 0.95\n",
            " • at 8.4s → P(ventricular) = 0.99\n",
            " • at 9.7s → P(ventricular) = 0.85\n",
            " • at 10.1s → P(ventricular) = 0.93\n",
            " • at 10.4s → P(ventricular) = 0.90\n",
            " • at 12.0s → P(ventricular) = 0.92\n",
            " • at 13.8s → P(ventricular) = 0.81\n",
            " • at 14.5s → P(ventricular) = 1.00\n",
            " • at 16.2s → P(ventricular) = 0.98\n",
            " • at 17.0s → P(ventricular) = 0.80\n",
            " • at 17.2s → P(ventricular) = 0.95\n",
            " • at 17.6s → P(ventricular) = 0.99\n",
            " • at 17.9s → P(ventricular) = 0.98\n",
            " • at 18.0s → P(ventricular) = 0.94\n",
            " • at 19.2s → P(ventricular) = 0.88\n",
            " • at 20.2s → P(ventricular) = 1.00\n",
            " • at 21.1s → P(ventricular) = 0.82\n",
            " • at 22.2s → P(ventricular) = 0.93\n",
            " • at 22.6s → P(ventricular) = 0.98\n",
            " • at 22.9s → P(ventricular) = 0.85\n",
            " • at 24.8s → P(ventricular) = 0.88\n",
            " • at 25.1s → P(ventricular) = 0.98\n",
            " • at 25.8s → P(ventricular) = 1.00\n",
            " • at 26.1s → P(ventricular) = 1.00\n",
            " • at 26.2s → P(ventricular) = 0.89\n",
            " • at 27.3s → P(ventricular) = 0.99\n",
            " • at 27.9s → P(ventricular) = 0.98\n",
            " • at 28.7s → P(ventricular) = 0.98\n",
            " • at 29.1s → P(ventricular) = 1.00\n",
            " • at 30.5s → P(ventricular) = 0.80\n",
            " • at 30.9s → P(ventricular) = 0.97\n",
            " • at 32.0s → P(ventricular) = 0.97\n",
            " • at 32.2s → P(ventricular) = 0.82\n",
            " • at 33.1s → P(ventricular) = 0.91\n",
            " • at 34.8s → P(ventricular) = 0.88\n",
            " • at 35.2s → P(ventricular) = 0.84\n",
            " • at 36.2s → P(ventricular) = 0.85\n",
            " • at 37.0s → P(ventricular) = 0.99\n",
            " • at 37.2s → P(ventricular) = 0.93\n",
            " • at 38.0s → P(ventricular) = 0.92\n",
            " • at 38.4s → P(ventricular) = 0.93\n",
            " • at 38.6s → P(ventricular) = 0.98\n",
            " • at 41.5s → P(ventricular) = 0.94\n",
            " • at 42.0s → P(ventricular) = 0.94\n",
            " • at 42.3s → P(ventricular) = 0.91\n",
            " • at 43.1s → P(ventricular) = 0.95\n",
            " • at 43.3s → P(ventricular) = 1.00\n",
            " • at 43.6s → P(ventricular) = 1.00\n",
            " • at 44.0s → P(ventricular) = 0.86\n",
            " • at 45.1s → P(ventricular) = 1.00\n",
            " • at 47.4s → P(ventricular) = 0.90\n",
            " • at 48.3s → P(ventricular) = 0.82\n",
            " • at 48.8s → P(ventricular) = 0.94\n",
            " • at 51.2s → P(ventricular) = 0.85\n",
            " • at 51.8s → P(ventricular) = 1.00\n",
            " • at 53.0s → P(ventricular) = 0.92\n",
            " • at 53.3s → P(ventricular) = 0.95\n",
            " • at 53.7s → P(ventricular) = 0.84\n",
            " • at 56.1s → P(ventricular) = 0.98\n",
            " • at 56.3s → P(ventricular) = 0.99\n",
            " • at 58.4s → P(ventricular) = 0.80\n",
            " • at 59.2s → P(ventricular) = 0.86\n",
            " • at 59.5s → P(ventricular) = 1.00\n",
            " • at 59.7s → P(ventricular) = 0.90\n",
            " • at 59.9s → P(ventricular) = 0.99\n"
          ]
        }
      ]
    },
    {
      "cell_type": "markdown",
      "source": [
        "6.6 Ploting to visualize where alerts occured"
      ],
      "metadata": {
        "id": "d-JxATJCRjcY"
      }
    },
    {
      "cell_type": "code",
      "source": [
        "plt.figure(figsize=(15,3))\n",
        "plt.plot(signal[:2000], label='ECG')\n",
        "for t, _ in alerts:\n",
        "    idx = int(t * 360)\n",
        "    plt.axvline(idx, color='red', linestyle='--')\n",
        "plt.legend(); plt.title(\"First 2000 samples with alert markers\"); plt.show()"
      ],
      "metadata": {
        "id": "RWBh6emNQuyi",
        "colab": {
          "base_uri": "https://localhost:8080/",
          "height": 314
        },
        "outputId": "66e08a3d-f8f4-40ac-fd3e-585bc17fd16a"
      },
      "execution_count": null,
      "outputs": [
        {
          "output_type": "display_data",
          "data": {
            "text/plain": [
              "<Figure size 1500x300 with 1 Axes>"
            ],
            "image/png": "[encoded data removed]"
          },
          "metadata": {}
        }
      ]
    },
    {
      "cell_type": "code",
      "metadata": {
        "colab": {
          "base_uri": "https://localhost:8080/"
        },
        "id": "e2b36776",
        "outputId": "902dca99-b8b9-4dc4-f97c-d307d21a6ce6"
      },
      "source": [
        "# converting preprocessed heartbeat data and class labels into dataframes\n",
        "df = pd.DataFrame(X)\n",
        "df['label'] = y\n",
        "\n",
        "# Describe the original dataset files\n",
        "print(\"Understanding the MIT-BIH ECG Signals Dataset:\")\n",
        "print(\"The dataset consists of pairs of .csv and .txt files for each record.\")\n",
        "print(f\"- .csv files (e.g., {os.path.basename(records[0])}): Contain the raw ECG signal data.\")\n",
        "print(f\"- .txt files (e.g., {os.path.basename(annotations[0])}): Contain annotations, including the R-peak positions and the type of heartbeat (arrhythmia class).\")\n",
        "print(f\"\\nEach heartbeat is extracted from the raw signal based on the R-peak position and a window size of {window_size} samples before and after the peak.\")\n",
        "print(f\"The extracted heartbeats are then stored in the pandas DataFrame 'df' with shape {df.shape}.\")\n",
        "\n",
        "# Display the shape of the DataFrame\n",
        "print(\"\\nShape of the processed heartbeat dataset (DataFrame):\", df.shape)\n",
        "\n",
        "# Display the column names\n",
        "print(\"\\nColumn names (numerical indices represent time steps/features, 'label' is the class):\", df.columns.tolist())\n",
        "\n",
        "# Display the data types of each column\n",
        "print(\"\\nData types:\\n\", df.dtypes)\n",
        "\n",
        "# Display a statistical summary of the DataFrame\n",
        "print(\"\\nStatistical summary of the processed heartbeat data:\\n\", df.describe())"
      ],
      "execution_count": null,
      "outputs": [
        {
          "output_type": "stream",
          "name": "stdout",
          "text": [
            "Understanding the MIT-BIH ECG Signals Dataset:\n",
            "The dataset consists of pairs of .csv and .txt files for each record.\n",
            "- .csv files (e.g., 100.csv): Contain the raw ECG signal data.\n",
            "- .txt files (e.g., 100annotations.txt): Contain annotations, including the R-peak positions and the type of heartbeat (arrhythmia class).\n",
            "\n",
            "Each heartbeat is extracted from the raw signal based on the R-peak position and a window size of 180 samples before and after the peak.\n",
            "The extracted heartbeats are then stored in the pandas DataFrame 'df' with shape (100012, 361).\n",
            "\n",
            "Shape of the processed heartbeat dataset (DataFrame): (100012, 361)\n",
            "\n",
            "Column names (numerical indices represent time steps/features, 'label' is the class): [0, 1, 2, 3, 4, 5, 6, 7, 8, 9, 10, 11, 12, 13, 14, 15, 16, 17, 18, 19, 20, 21, 22, 23, 24, 25, 26, 27, 28, 29, 30, 31, 32, 33, 34, 35, 36, 37, 38, 39, 40, 41, 42, 43, 44, 45, 46, 47, 48, 49, 50, 51, 52, 53, 54, 55, 56, 57, 58, 59, 60, 61, 62, 63, 64, 65, 66, 67, 68, 69, 70, 71, 72, 73, 74, 75, 76, 77, 78, 79, 80, 81, 82, 83, 84, 85, 86, 87, 88, 89, 90, 91, 92, 93, 94, 95, 96, 97, 98, 99, 100, 101, 102, 103, 104, 105, 106, 107, 108, 109, 110, 111, 112, 113, 114, 115, 116, 117, 118, 119, 120, 121, 122, 123, 124, 125, 126, 127, 128, 129, 130, 131, 132, 133, 134, 135, 136, 137, 138, 139, 140, 141, 142, 143, 144, 145, 146, 147, 148, 149, 150, 151, 152, 153, 154, 155, 156, 157, 158, 159, 160, 161, 162, 163, 164, 165, 166, 167, 168, 169, 170, 171, 172, 173, 174, 175, 176, 177, 178, 179, 180, 181, 182, 183, 184, 185, 186, 187, 188, 189, 190, 191, 192, 193, 194, 195, 196, 197, 198, 199, 200, 201, 202, 203, 204, 205, 206, 207, 208, 209, 210, 211, 212, 213, 214, 215, 216, 217, 218, 219, 220, 221, 222, 223, 224, 225, 226, 227, 228, 229, 230, 231, 232, 233, 234, 235, 236, 237, 238, 239, 240, 241, 242, 243, 244, 245, 246, 247, 248, 249, 250, 251, 252, 253, 254, 255, 256, 257, 258, 259, 260, 261, 262, 263, 264, 265, 266, 267, 268, 269, 270, 271, 272, 273, 274, 275, 276, 277, 278, 279, 280, 281, 282, 283, 284, 285, 286, 287, 288, 289, 290, 291, 292, 293, 294, 295, 296, 297, 298, 299, 300, 301, 302, 303, 304, 305, 306, 307, 308, 309, 310, 311, 312, 313, 314, 315, 316, 317, 318, 319, 320, 321, 322, 323, 324, 325, 326, 327, 328, 329, 330, 331, 332, 333, 334, 335, 336, 337, 338, 339, 340, 341, 342, 343, 344, 345, 346, 347, 348, 349, 350, 351, 352, 353, 354, 355, 356, 357, 358, 359, 'label']\n",
            "\n",
            "Data types:\n",
            " 0        float64\n",
            "1        float64\n",
            "2        float64\n",
            "3        float64\n",
            "4        float64\n",
            "          ...   \n",
            "356      float64\n",
            "357      float64\n",
            "358      float64\n",
            "359      float64\n",
            "label      int64\n",
            "Length: 361, dtype: object\n",
            "\n",
            "Statistical summary of the processed heartbeat data:\n",
            "                    0              1              2              3  \\\n",
            "count  100012.000000  100012.000000  100012.000000  100012.000000   \n",
            "mean       -0.091311      -0.092885      -0.094578      -0.095961   \n",
            "std         0.864373       0.862242       0.859889       0.858453   \n",
            "min       -13.929647     -13.891882     -13.852668     -13.814667   \n",
            "25%        -0.467989      -0.466751      -0.464974      -0.462953   \n",
            "50%        -0.126255      -0.126094      -0.126647      -0.126290   \n",
            "75%         0.190862       0.188947       0.187032       0.185618   \n",
            "max        14.101287      14.088583      14.074827      14.059627   \n",
            "\n",
            "                   4              5              6              7  \\\n",
            "count  100012.000000  100012.000000  100012.000000  100012.000000   \n",
            "mean       -0.097044      -0.097656      -0.097642      -0.097119   \n",
            "std         0.856663       0.853790       0.850071       0.846325   \n",
            "min       -13.776589     -13.735620     -13.695086     -13.653575   \n",
            "25%        -0.460583      -0.458509      -0.456032      -0.453225   \n",
            "50%        -0.126126      -0.125517      -0.124400      -0.124004   \n",
            "75%         0.184261       0.182003       0.180754       0.180122   \n",
            "max        14.043445      14.027280      14.024342      14.022867   \n",
            "\n",
            "                   8              9  ...            351            352  \\\n",
            "count  100012.000000  100012.000000  ...  100012.000000  100012.000000   \n",
            "mean       -0.095989      -0.094123  ...      -0.020025      -0.018531   \n",
            "std         0.842884       0.839305  ...       0.840620       0.845389   \n",
            "min       -13.614071     -13.586005  ...     -13.265808     -13.279692   \n",
            "25%        -0.450762      -0.447435  ...      -0.335149      -0.334767   \n",
            "50%        -0.122620      -0.122061  ...      -0.064239      -0.063225   \n",
            "75%         0.179853       0.180377  ...       0.206361       0.207208   \n",
            "max        14.021424      14.019772  ...      13.138884      13.122444   \n",
            "\n",
            "                 353            354            355            356  \\\n",
            "count  100012.000000  100012.000000  100012.000000  100012.000000   \n",
            "mean       -0.017055      -0.015432      -0.013696      -0.011784   \n",
            "std         0.851171       0.857671       0.863801       0.869711   \n",
            "min       -13.290569     -13.299719     -13.307110     -13.313409   \n",
            "25%        -0.334800      -0.334791      -0.335072      -0.334940   \n",
            "50%        -0.063171      -0.063038      -0.062351      -0.062238   \n",
            "75%         0.208489       0.209481       0.211377       0.212952   \n",
            "max        13.106469      13.092713      13.080059      13.067910   \n",
            "\n",
            "                 357            358            359          label  \n",
            "count  100012.000000  100012.000000  100012.000000  100012.000000  \n",
            "mean       -0.009597      -0.007281      -0.004953       0.587280  \n",
            "std         0.875372       0.881423       0.888136       1.181354  \n",
            "min       -13.320978     -13.328429     -13.334822       0.000000  \n",
            "25%        -0.335237      -0.335529      -0.335402       0.000000  \n",
            "50%        -0.062353      -0.061573      -0.061409       0.000000  \n",
            "75%         0.214909       0.215664       0.217768       0.000000  \n",
            "max        13.056304      13.044813      13.033549       4.000000  \n",
            "\n",
            "[8 rows x 361 columns]\n"
          ]
        }
      ]
    },
    {
      "cell_type": "markdown",
      "source": [
        "---"
      ],
      "metadata": {
        "id": "pjY_-ESMFDON"
      }
    },
    {
      "cell_type": "markdown",
      "source": [
        "#-------------------------------------------------------------------------------------------------------------------------------------------"
      ],
      "metadata": {
        "id": "7e9PJdsVo_I5"
      }
    },
    {
      "cell_type": "markdown",
      "source": [
        "# Making ML model lightweight for deployment on edge devices"
      ],
      "metadata": {
        "id": "hDHCA4ie4LU0"
      }
    },
    {
      "cell_type": "markdown",
      "source": [
        "To make the developed ML model lightweight for deployment into resource constraints of edge devices, I have used the following approaches:\n",
        "\n",
        "1. Model Quantization (Post-Training): this reduces model size by converting weights from 32-bit floats to smaller representations (16-bit/8-bit).\n",
        "\n",
        "2. Knowledge Distillation: this trains a smaller \"student\" model using predictions from the original \"teacher\" model."
      ],
      "metadata": {
        "id": "xbdV0Hev4rXX"
      }
    },
    {
      "cell_type": "markdown",
      "source": [
        "# 1. Re-building the model to use tensorflow.keras instead of standalone keras"
      ],
      "metadata": {
        "id": "cPWRZrfbtwAQ"
      }
    },
    {
      "cell_type": "markdown",
      "source": [
        "Note: I have rebuilt the model using tensoflow.keras in order to use tensorflow lite library. Traditional stand-alone keras does not allow the usage of tensorflow lite."
      ],
      "metadata": {
        "id": "-LQleT38p4jx"
      }
    },
    {
      "cell_type": "markdown",
      "source": [
        "3.1b Spliting dataset into training and testing sets"
      ],
      "metadata": {
        "id": "95J3uz6N3Hlc"
      }
    },
    {
      "cell_type": "code",
      "source": [
        "from tensorflow.keras.utils import to_categorical  # ensure using tf.keras\n",
        "\n",
        "train_df, test_df = train_test_split(balanced_df, test_size=0.2)\n",
        "\n",
        "train_x = train_df.iloc[:, :-1].values.reshape(-1, 360, 1)\n",
        "train_y = to_categorical(train_df.iloc[:, -1])\n",
        "\n",
        "test_x  = test_df.iloc[:, :-1].values.reshape(-1, 360, 1)\n",
        "test_y  = to_categorical(test_df.iloc[:, -1])\n",
        "\n",
        "print(np.shape(train_y), np.shape(test_y))\n",
        "print(np.shape(train_x), np.shape(test_x))"
      ],
      "metadata": {
        "colab": {
          "base_uri": "https://localhost:8080/"
        },
        "id": "snvLLR0e2TCN",
        "outputId": "472b5c95-aa46-4777-b1bc-4723a4778f53"
      },
      "execution_count": 25,
      "outputs": [
        {
          "output_type": "stream",
          "name": "stdout",
          "text": [
            "(20000, 5) (5000, 5)\n",
            "(20000, 360, 1) (5000, 360, 1)\n"
          ]
        }
      ]
    },
    {
      "cell_type": "markdown",
      "source": [
        "3.2b Building CNN using `tf.keras`"
      ],
      "metadata": {
        "id": "6HVLnhcg3bnG"
      }
    },
    {
      "cell_type": "code",
      "source": [
        "from tensorflow.keras.models import Sequential\n",
        "from tensorflow.keras.layers import Conv1D, AvgPool1D, Flatten, Dense, Dropout, Softmax\n",
        "from tensorflow.keras import regularizers\n",
        "from tensorflow.keras.optimizers import Adam\n",
        "\n",
        "model = Sequential([\n",
        "    Conv1D(16, 13, padding='same', activation='relu', input_shape=(360, 1)),\n",
        "    AvgPool1D(pool_size=3, strides=2),\n",
        "\n",
        "    Conv1D(32, 15, padding='same', activation='relu'),\n",
        "    AvgPool1D(pool_size=3, strides=2),\n",
        "\n",
        "    Conv1D(64, 17, padding='same', activation='relu'),\n",
        "    AvgPool1D(pool_size=3, strides=2),\n",
        "\n",
        "    Conv1D(128, 19, padding='same', activation='relu'),\n",
        "    AvgPool1D(pool_size=3, strides=2),\n",
        "\n",
        "    Flatten(),\n",
        "    Dropout(0.5),\n",
        "    Dense(35, kernel_regularizer=regularizers.l2(1e-4)),\n",
        "    Dense(5,  kernel_regularizer=regularizers.l2(1e-4)),\n",
        "    Softmax()\n",
        "])\n",
        "\n",
        "model.summary()"
      ],
      "metadata": {
        "colab": {
          "base_uri": "https://localhost:8080/",
          "height": 664
        },
        "id": "JX369bFs2Um-",
        "outputId": "3f78ee74-2855-49f8-c77f-e1cbe9bda0bf"
      },
      "execution_count": 26,
      "outputs": [
        {
          "output_type": "stream",
          "name": "stderr",
          "text": [
            "/usr/local/lib/python3.11/dist-packages/keras/src/layers/convolutional/base_conv.py:107: UserWarning: Do not pass an `input_shape`/`input_dim` argument to a layer. When using Sequential models, prefer using an `Input(shape)` object as the first layer in the model instead.\n",
            "  super().__init__(activity_regularizer=activity_regularizer, **kwargs)\n"
          ]
        },
        {
          "output_type": "display_data",
          "data": {
            "text/plain": [
              "\u001b[1mModel: \"sequential\"\u001b[0m\n"
            ],
            "text/html": [
              "<pre style=\"white-space:pre;overflow-x:auto;line-height:normal;font-family:Menlo,'DejaVu Sans Mono',consolas,'Courier New',monospace\"><span style=\"font-weight: bold\">Model: \"sequential\"</span>\n",
              "</pre>\n"
            ]
          },
          "metadata": {}
        },
        {
          "output_type": "display_data",
          "data": {
            "text/plain": [
              "┏━━━━━━━━━━━━━━━━━━━━━━━━━━━━━━━━━┳━━━━━━━━━━━━━━━━━━━━━━━━┳━━━━━━━━━━━━━━━┓\n",
              "┃\u001b[1m \u001b[0m\u001b[1mLayer (type)                   \u001b[0m\u001b[1m \u001b[0m┃\u001b[1m \u001b[0m\u001b[1mOutput Shape          \u001b[0m\u001b[1m \u001b[0m┃\u001b[1m \u001b[0m\u001b[1m      Param #\u001b[0m\u001b[1m \u001b[0m┃\n",
              "┡━━━━━━━━━━━━━━━━━━━━━━━━━━━━━━━━━╇━━━━━━━━━━━━━━━━━━━━━━━━╇━━━━━━━━━━━━━━━┩\n",
              "│ conv1d (\u001b[38;5;33mConv1D\u001b[0m)                 │ (\u001b[38;5;45mNone\u001b[0m, \u001b[38;5;34m360\u001b[0m, \u001b[38;5;34m16\u001b[0m)        │           \u001b[38;5;34m224\u001b[0m │\n",
              "├─────────────────────────────────┼────────────────────────┼───────────────┤\n",
              "│ average_pooling1d               │ (\u001b[38;5;45mNone\u001b[0m, \u001b[38;5;34m179\u001b[0m, \u001b[38;5;34m16\u001b[0m)        │             \u001b[38;5;34m0\u001b[0m │\n",
              "│ (\u001b[38;5;33mAveragePooling1D\u001b[0m)              │                        │               │\n",
              "├─────────────────────────────────┼────────────────────────┼───────────────┤\n",
              "│ conv1d_1 (\u001b[38;5;33mConv1D\u001b[0m)               │ (\u001b[38;5;45mNone\u001b[0m, \u001b[38;5;34m179\u001b[0m, \u001b[38;5;34m32\u001b[0m)        │         \u001b[38;5;34m7,712\u001b[0m │\n",
              "├─────────────────────────────────┼────────────────────────┼───────────────┤\n",
              "│ average_pooling1d_1             │ (\u001b[38;5;45mNone\u001b[0m, \u001b[38;5;34m89\u001b[0m, \u001b[38;5;34m32\u001b[0m)         │             \u001b[38;5;34m0\u001b[0m │\n",
              "│ (\u001b[38;5;33mAveragePooling1D\u001b[0m)              │                        │               │\n",
              "├─────────────────────────────────┼────────────────────────┼───────────────┤\n",
              "│ conv1d_2 (\u001b[38;5;33mConv1D\u001b[0m)               │ (\u001b[38;5;45mNone\u001b[0m, \u001b[38;5;34m89\u001b[0m, \u001b[38;5;34m64\u001b[0m)         │        \u001b[38;5;34m34,880\u001b[0m │\n",
              "├─────────────────────────────────┼────────────────────────┼───────────────┤\n",
              "│ average_pooling1d_2             │ (\u001b[38;5;45mNone\u001b[0m, \u001b[38;5;34m44\u001b[0m, \u001b[38;5;34m64\u001b[0m)         │             \u001b[38;5;34m0\u001b[0m │\n",
              "│ (\u001b[38;5;33mAveragePooling1D\u001b[0m)              │                        │               │\n",
              "├─────────────────────────────────┼────────────────────────┼───────────────┤\n",
              "│ conv1d_3 (\u001b[38;5;33mConv1D\u001b[0m)               │ (\u001b[38;5;45mNone\u001b[0m, \u001b[38;5;34m44\u001b[0m, \u001b[38;5;34m128\u001b[0m)        │       \u001b[38;5;34m155,776\u001b[0m │\n",
              "├─────────────────────────────────┼────────────────────────┼───────────────┤\n",
              "│ average_pooling1d_3             │ (\u001b[38;5;45mNone\u001b[0m, \u001b[38;5;34m21\u001b[0m, \u001b[38;5;34m128\u001b[0m)        │             \u001b[38;5;34m0\u001b[0m │\n",
              "│ (\u001b[38;5;33mAveragePooling1D\u001b[0m)              │                        │               │\n",
              "├─────────────────────────────────┼────────────────────────┼───────────────┤\n",
              "│ flatten (\u001b[38;5;33mFlatten\u001b[0m)               │ (\u001b[38;5;45mNone\u001b[0m, \u001b[38;5;34m2688\u001b[0m)           │             \u001b[38;5;34m0\u001b[0m │\n",
              "├─────────────────────────────────┼────────────────────────┼───────────────┤\n",
              "│ dropout (\u001b[38;5;33mDropout\u001b[0m)               │ (\u001b[38;5;45mNone\u001b[0m, \u001b[38;5;34m2688\u001b[0m)           │             \u001b[38;5;34m0\u001b[0m │\n",
              "├─────────────────────────────────┼────────────────────────┼───────────────┤\n",
              "│ dense (\u001b[38;5;33mDense\u001b[0m)                   │ (\u001b[38;5;45mNone\u001b[0m, \u001b[38;5;34m35\u001b[0m)             │        \u001b[38;5;34m94,115\u001b[0m │\n",
              "├─────────────────────────────────┼────────────────────────┼───────────────┤\n",
              "│ dense_1 (\u001b[38;5;33mDense\u001b[0m)                 │ (\u001b[38;5;45mNone\u001b[0m, \u001b[38;5;34m5\u001b[0m)              │           \u001b[38;5;34m180\u001b[0m │\n",
              "├─────────────────────────────────┼────────────────────────┼───────────────┤\n",
              "│ softmax (\u001b[38;5;33mSoftmax\u001b[0m)               │ (\u001b[38;5;45mNone\u001b[0m, \u001b[38;5;34m5\u001b[0m)              │             \u001b[38;5;34m0\u001b[0m │\n",
              "└─────────────────────────────────┴────────────────────────┴───────────────┘\n"
            ],
            "text/html": [
              "<pre style=\"white-space:pre;overflow-x:auto;line-height:normal;font-family:Menlo,'DejaVu Sans Mono',consolas,'Courier New',monospace\">┏━━━━━━━━━━━━━━━━━━━━━━━━━━━━━━━━━┳━━━━━━━━━━━━━━━━━━━━━━━━┳━━━━━━━━━━━━━━━┓\n",
              "┃<span style=\"font-weight: bold\"> Layer (type)                    </span>┃<span style=\"font-weight: bold\"> Output Shape           </span>┃<span style=\"font-weight: bold\">       Param # </span>┃\n",
              "┡━━━━━━━━━━━━━━━━━━━━━━━━━━━━━━━━━╇━━━━━━━━━━━━━━━━━━━━━━━━╇━━━━━━━━━━━━━━━┩\n",
              "│ conv1d (<span style=\"color: #0087ff; text-decoration-color: #0087ff\">Conv1D</span>)                 │ (<span style=\"color: #00d7ff; text-decoration-color: #00d7ff\">None</span>, <span style=\"color: #00af00; text-decoration-color: #00af00\">360</span>, <span style=\"color: #00af00; text-decoration-color: #00af00\">16</span>)        │           <span style=\"color: #00af00; text-decoration-color: #00af00\">224</span> │\n",
              "├─────────────────────────────────┼────────────────────────┼───────────────┤\n",
              "│ average_pooling1d               │ (<span style=\"color: #00d7ff; text-decoration-color: #00d7ff\">None</span>, <span style=\"color: #00af00; text-decoration-color: #00af00\">179</span>, <span style=\"color: #00af00; text-decoration-color: #00af00\">16</span>)        │             <span style=\"color: #00af00; text-decoration-color: #00af00\">0</span> │\n",
              "│ (<span style=\"color: #0087ff; text-decoration-color: #0087ff\">AveragePooling1D</span>)              │                        │               │\n",
              "├─────────────────────────────────┼────────────────────────┼───────────────┤\n",
              "│ conv1d_1 (<span style=\"color: #0087ff; text-decoration-color: #0087ff\">Conv1D</span>)               │ (<span style=\"color: #00d7ff; text-decoration-color: #00d7ff\">None</span>, <span style=\"color: #00af00; text-decoration-color: #00af00\">179</span>, <span style=\"color: #00af00; text-decoration-color: #00af00\">32</span>)        │         <span style=\"color: #00af00; text-decoration-color: #00af00\">7,712</span> │\n",
              "├─────────────────────────────────┼────────────────────────┼───────────────┤\n",
              "│ average_pooling1d_1             │ (<span style=\"color: #00d7ff; text-decoration-color: #00d7ff\">None</span>, <span style=\"color: #00af00; text-decoration-color: #00af00\">89</span>, <span style=\"color: #00af00; text-decoration-color: #00af00\">32</span>)         │             <span style=\"color: #00af00; text-decoration-color: #00af00\">0</span> │\n",
              "│ (<span style=\"color: #0087ff; text-decoration-color: #0087ff\">AveragePooling1D</span>)              │                        │               │\n",
              "├─────────────────────────────────┼────────────────────────┼───────────────┤\n",
              "│ conv1d_2 (<span style=\"color: #0087ff; text-decoration-color: #0087ff\">Conv1D</span>)               │ (<span style=\"color: #00d7ff; text-decoration-color: #00d7ff\">None</span>, <span style=\"color: #00af00; text-decoration-color: #00af00\">89</span>, <span style=\"color: #00af00; text-decoration-color: #00af00\">64</span>)         │        <span style=\"color: #00af00; text-decoration-color: #00af00\">34,880</span> │\n",
              "├─────────────────────────────────┼────────────────────────┼───────────────┤\n",
              "│ average_pooling1d_2             │ (<span style=\"color: #00d7ff; text-decoration-color: #00d7ff\">None</span>, <span style=\"color: #00af00; text-decoration-color: #00af00\">44</span>, <span style=\"color: #00af00; text-decoration-color: #00af00\">64</span>)         │             <span style=\"color: #00af00; text-decoration-color: #00af00\">0</span> │\n",
              "│ (<span style=\"color: #0087ff; text-decoration-color: #0087ff\">AveragePooling1D</span>)              │                        │               │\n",
              "├─────────────────────────────────┼────────────────────────┼───────────────┤\n",
              "│ conv1d_3 (<span style=\"color: #0087ff; text-decoration-color: #0087ff\">Conv1D</span>)               │ (<span style=\"color: #00d7ff; text-decoration-color: #00d7ff\">None</span>, <span style=\"color: #00af00; text-decoration-color: #00af00\">44</span>, <span style=\"color: #00af00; text-decoration-color: #00af00\">128</span>)        │       <span style=\"color: #00af00; text-decoration-color: #00af00\">155,776</span> │\n",
              "├─────────────────────────────────┼────────────────────────┼───────────────┤\n",
              "│ average_pooling1d_3             │ (<span style=\"color: #00d7ff; text-decoration-color: #00d7ff\">None</span>, <span style=\"color: #00af00; text-decoration-color: #00af00\">21</span>, <span style=\"color: #00af00; text-decoration-color: #00af00\">128</span>)        │             <span style=\"color: #00af00; text-decoration-color: #00af00\">0</span> │\n",
              "│ (<span style=\"color: #0087ff; text-decoration-color: #0087ff\">AveragePooling1D</span>)              │                        │               │\n",
              "├─────────────────────────────────┼────────────────────────┼───────────────┤\n",
              "│ flatten (<span style=\"color: #0087ff; text-decoration-color: #0087ff\">Flatten</span>)               │ (<span style=\"color: #00d7ff; text-decoration-color: #00d7ff\">None</span>, <span style=\"color: #00af00; text-decoration-color: #00af00\">2688</span>)           │             <span style=\"color: #00af00; text-decoration-color: #00af00\">0</span> │\n",
              "├─────────────────────────────────┼────────────────────────┼───────────────┤\n",
              "│ dropout (<span style=\"color: #0087ff; text-decoration-color: #0087ff\">Dropout</span>)               │ (<span style=\"color: #00d7ff; text-decoration-color: #00d7ff\">None</span>, <span style=\"color: #00af00; text-decoration-color: #00af00\">2688</span>)           │             <span style=\"color: #00af00; text-decoration-color: #00af00\">0</span> │\n",
              "├─────────────────────────────────┼────────────────────────┼───────────────┤\n",
              "│ dense (<span style=\"color: #0087ff; text-decoration-color: #0087ff\">Dense</span>)                   │ (<span style=\"color: #00d7ff; text-decoration-color: #00d7ff\">None</span>, <span style=\"color: #00af00; text-decoration-color: #00af00\">35</span>)             │        <span style=\"color: #00af00; text-decoration-color: #00af00\">94,115</span> │\n",
              "├─────────────────────────────────┼────────────────────────┼───────────────┤\n",
              "│ dense_1 (<span style=\"color: #0087ff; text-decoration-color: #0087ff\">Dense</span>)                 │ (<span style=\"color: #00d7ff; text-decoration-color: #00d7ff\">None</span>, <span style=\"color: #00af00; text-decoration-color: #00af00\">5</span>)              │           <span style=\"color: #00af00; text-decoration-color: #00af00\">180</span> │\n",
              "├─────────────────────────────────┼────────────────────────┼───────────────┤\n",
              "│ softmax (<span style=\"color: #0087ff; text-decoration-color: #0087ff\">Softmax</span>)               │ (<span style=\"color: #00d7ff; text-decoration-color: #00d7ff\">None</span>, <span style=\"color: #00af00; text-decoration-color: #00af00\">5</span>)              │             <span style=\"color: #00af00; text-decoration-color: #00af00\">0</span> │\n",
              "└─────────────────────────────────┴────────────────────────┴───────────────┘\n",
              "</pre>\n"
            ]
          },
          "metadata": {}
        },
        {
          "output_type": "display_data",
          "data": {
            "text/plain": [
              "\u001b[1m Total params: \u001b[0m\u001b[38;5;34m292,887\u001b[0m (1.12 MB)\n"
            ],
            "text/html": [
              "<pre style=\"white-space:pre;overflow-x:auto;line-height:normal;font-family:Menlo,'DejaVu Sans Mono',consolas,'Courier New',monospace\"><span style=\"font-weight: bold\"> Total params: </span><span style=\"color: #00af00; text-decoration-color: #00af00\">292,887</span> (1.12 MB)\n",
              "</pre>\n"
            ]
          },
          "metadata": {}
        },
        {
          "output_type": "display_data",
          "data": {
            "text/plain": [
              "\u001b[1m Trainable params: \u001b[0m\u001b[38;5;34m292,887\u001b[0m (1.12 MB)\n"
            ],
            "text/html": [
              "<pre style=\"white-space:pre;overflow-x:auto;line-height:normal;font-family:Menlo,'DejaVu Sans Mono',consolas,'Courier New',monospace\"><span style=\"font-weight: bold\"> Trainable params: </span><span style=\"color: #00af00; text-decoration-color: #00af00\">292,887</span> (1.12 MB)\n",
              "</pre>\n"
            ]
          },
          "metadata": {}
        },
        {
          "output_type": "display_data",
          "data": {
            "text/plain": [
              "\u001b[1m Non-trainable params: \u001b[0m\u001b[38;5;34m0\u001b[0m (0.00 B)\n"
            ],
            "text/html": [
              "<pre style=\"white-space:pre;overflow-x:auto;line-height:normal;font-family:Menlo,'DejaVu Sans Mono',consolas,'Courier New',monospace\"><span style=\"font-weight: bold\"> Non-trainable params: </span><span style=\"color: #00af00; text-decoration-color: #00af00\">0</span> (0.00 B)\n",
              "</pre>\n"
            ]
          },
          "metadata": {}
        }
      ]
    },
    {
      "cell_type": "markdown",
      "source": [
        "3.3b Compile model using `tf.keras`"
      ],
      "metadata": {
        "id": "w9yH8-Lg3jJd"
      }
    },
    {
      "cell_type": "code",
      "source": [
        "model.compile(\n",
        "    loss='categorical_crossentropy',\n",
        "    optimizer=Adam(),\n",
        "    metrics=['accuracy']\n",
        ")"
      ],
      "metadata": {
        "id": "xQKZ9dNM3gft"
      },
      "execution_count": 27,
      "outputs": []
    },
    {
      "cell_type": "markdown",
      "source": [
        "3.4b Train model"
      ],
      "metadata": {
        "id": "9UZADDtt3oYW"
      }
    },
    {
      "cell_type": "code",
      "source": [
        "history = model.fit(\n",
        "    train_x, train_y,\n",
        "    batch_size=36,\n",
        "    epochs=60,\n",
        "    validation_data=(test_x, test_y)\n",
        ")\n"
      ],
      "metadata": {
        "colab": {
          "base_uri": "https://localhost:8080/"
        },
        "id": "2TtaZcL53mjm",
        "outputId": "ee9578f7-88d4-4683-b2f5-eacaae0c3819"
      },
      "execution_count": null,
      "outputs": [
        {
          "output_type": "stream",
          "name": "stdout",
          "text": [
            "Epoch 1/60\n",
            "\u001b[1m556/556\u001b[0m \u001b[32m━━━━━━━━━━━━━━━━━━━━\u001b[0m\u001b[37m\u001b[0m \u001b[1m10s\u001b[0m 11ms/step - accuracy: 0.6577 - loss: 0.9001 - val_accuracy: 0.8372 - val_loss: 0.4584\n",
            "Epoch 2/60\n",
            "\u001b[1m556/556\u001b[0m \u001b[32m━━━━━━━━━━━━━━━━━━━━\u001b[0m\u001b[37m\u001b[0m \u001b[1m6s\u001b[0m 7ms/step - accuracy: 0.8483 - loss: 0.4313 - val_accuracy: 0.8922 - val_loss: 0.3388\n",
            "Epoch 3/60\n",
            "\u001b[1m556/556\u001b[0m \u001b[32m━━━━━━━━━━━━━━━━━━━━\u001b[0m\u001b[37m\u001b[0m \u001b[1m3s\u001b[0m 6ms/step - accuracy: 0.8847 - loss: 0.3389 - val_accuracy: 0.9048 - val_loss: 0.2951\n",
            "Epoch 4/60\n",
            "\u001b[1m556/556\u001b[0m \u001b[32m━━━━━━━━━━━━━━━━━━━━\u001b[0m\u001b[37m\u001b[0m \u001b[1m3s\u001b[0m 6ms/step - accuracy: 0.9042 - loss: 0.2933 - val_accuracy: 0.9114 - val_loss: 0.2705\n",
            "Epoch 5/60\n",
            "\u001b[1m556/556\u001b[0m \u001b[32m━━━━━━━━━━━━━━━━━━━━\u001b[0m\u001b[37m\u001b[0m \u001b[1m6s\u001b[0m 7ms/step - accuracy: 0.9126 - loss: 0.2629 - val_accuracy: 0.9222 - val_loss: 0.2433\n",
            "Epoch 6/60\n",
            "\u001b[1m556/556\u001b[0m \u001b[32m━━━━━━━━━━━━━━━━━━━━\u001b[0m\u001b[37m\u001b[0m \u001b[1m3s\u001b[0m 5ms/step - accuracy: 0.9215 - loss: 0.2423 - val_accuracy: 0.9234 - val_loss: 0.2317\n",
            "Epoch 7/60\n",
            "\u001b[1m556/556\u001b[0m \u001b[32m━━━━━━━━━━━━━━━━━━━━\u001b[0m\u001b[37m\u001b[0m \u001b[1m6s\u001b[0m 8ms/step - accuracy: 0.9310 - loss: 0.2192 - val_accuracy: 0.9310 - val_loss: 0.2269\n",
            "Epoch 8/60\n",
            "\u001b[1m556/556\u001b[0m \u001b[32m━━━━━━━━━━━━━━━━━━━━\u001b[0m\u001b[37m\u001b[0m \u001b[1m3s\u001b[0m 6ms/step - accuracy: 0.9356 - loss: 0.2042 - val_accuracy: 0.9292 - val_loss: 0.2212\n",
            "Epoch 9/60\n",
            "\u001b[1m556/556\u001b[0m \u001b[32m━━━━━━━━━━━━━━━━━━━━\u001b[0m\u001b[37m\u001b[0m \u001b[1m5s\u001b[0m 6ms/step - accuracy: 0.9397 - loss: 0.1924 - val_accuracy: 0.9366 - val_loss: 0.2125\n",
            "Epoch 10/60\n",
            "\u001b[1m556/556\u001b[0m \u001b[32m━━━━━━━━━━━━━━━━━━━━\u001b[0m\u001b[37m\u001b[0m \u001b[1m4s\u001b[0m 7ms/step - accuracy: 0.9433 - loss: 0.1810 - val_accuracy: 0.9402 - val_loss: 0.2028\n",
            "Epoch 11/60\n",
            "\u001b[1m556/556\u001b[0m \u001b[32m━━━━━━━━━━━━━━━━━━━━\u001b[0m\u001b[37m\u001b[0m \u001b[1m4s\u001b[0m 7ms/step - accuracy: 0.9473 - loss: 0.1689 - val_accuracy: 0.9340 - val_loss: 0.2119\n",
            "Epoch 12/60\n",
            "\u001b[1m556/556\u001b[0m \u001b[32m━━━━━━━━━━━━━━━━━━━━\u001b[0m\u001b[37m\u001b[0m \u001b[1m5s\u001b[0m 6ms/step - accuracy: 0.9510 - loss: 0.1630 - val_accuracy: 0.9458 - val_loss: 0.1973\n",
            "Epoch 13/60\n",
            "\u001b[1m556/556\u001b[0m \u001b[32m━━━━━━━━━━━━━━━━━━━━\u001b[0m\u001b[37m\u001b[0m \u001b[1m5s\u001b[0m 6ms/step - accuracy: 0.9514 - loss: 0.1608 - val_accuracy: 0.9410 - val_loss: 0.2032\n",
            "Epoch 14/60\n",
            "\u001b[1m556/556\u001b[0m \u001b[32m━━━━━━━━━━━━━━━━━━━━\u001b[0m\u001b[37m\u001b[0m \u001b[1m5s\u001b[0m 5ms/step - accuracy: 0.9558 - loss: 0.1476 - val_accuracy: 0.9446 - val_loss: 0.1865\n",
            "Epoch 15/60\n",
            "\u001b[1m556/556\u001b[0m \u001b[32m━━━━━━━━━━━━━━━━━━━━\u001b[0m\u001b[37m\u001b[0m \u001b[1m3s\u001b[0m 5ms/step - accuracy: 0.9581 - loss: 0.1388 - val_accuracy: 0.9438 - val_loss: 0.2024\n",
            "Epoch 16/60\n",
            "\u001b[1m556/556\u001b[0m \u001b[32m━━━━━━━━━━━━━━━━━━━━\u001b[0m\u001b[37m\u001b[0m \u001b[1m5s\u001b[0m 6ms/step - accuracy: 0.9591 - loss: 0.1352 - val_accuracy: 0.9472 - val_loss: 0.1923\n",
            "Epoch 17/60\n",
            "\u001b[1m556/556\u001b[0m \u001b[32m━━━━━━━━━━━━━━━━━━━━\u001b[0m\u001b[37m\u001b[0m \u001b[1m3s\u001b[0m 6ms/step - accuracy: 0.9599 - loss: 0.1373 - val_accuracy: 0.9506 - val_loss: 0.1895\n",
            "Epoch 18/60\n",
            "\u001b[1m556/556\u001b[0m \u001b[32m━━━━━━━━━━━━━━━━━━━━\u001b[0m\u001b[37m\u001b[0m \u001b[1m5s\u001b[0m 6ms/step - accuracy: 0.9648 - loss: 0.1230 - val_accuracy: 0.9460 - val_loss: 0.1864\n",
            "Epoch 19/60\n",
            "\u001b[1m556/556\u001b[0m \u001b[32m━━━━━━━━━━━━━━━━━━━━\u001b[0m\u001b[37m\u001b[0m \u001b[1m3s\u001b[0m 5ms/step - accuracy: 0.9651 - loss: 0.1187 - val_accuracy: 0.9436 - val_loss: 0.2003\n",
            "Epoch 20/60\n",
            "\u001b[1m556/556\u001b[0m \u001b[32m━━━━━━━━━━━━━━━━━━━━\u001b[0m\u001b[37m\u001b[0m \u001b[1m6s\u001b[0m 6ms/step - accuracy: 0.9693 - loss: 0.1072 - val_accuracy: 0.9466 - val_loss: 0.2066\n",
            "Epoch 21/60\n",
            "\u001b[1m556/556\u001b[0m \u001b[32m━━━━━━━━━━━━━━━━━━━━\u001b[0m\u001b[37m\u001b[0m \u001b[1m6s\u001b[0m 8ms/step - accuracy: 0.9668 - loss: 0.1154 - val_accuracy: 0.9552 - val_loss: 0.1944\n",
            "Epoch 22/60\n",
            "\u001b[1m556/556\u001b[0m \u001b[32m━━━━━━━━━━━━━━━━━━━━\u001b[0m\u001b[37m\u001b[0m \u001b[1m5s\u001b[0m 7ms/step - accuracy: 0.9698 - loss: 0.1029 - val_accuracy: 0.9534 - val_loss: 0.1845\n",
            "Epoch 23/60\n",
            "\u001b[1m556/556\u001b[0m \u001b[32m━━━━━━━━━━━━━━━━━━━━\u001b[0m\u001b[37m\u001b[0m \u001b[1m5s\u001b[0m 7ms/step - accuracy: 0.9745 - loss: 0.0929 - val_accuracy: 0.9456 - val_loss: 0.2060\n",
            "Epoch 24/60\n",
            "\u001b[1m556/556\u001b[0m \u001b[32m━━━━━━━━━━━━━━━━━━━━\u001b[0m\u001b[37m\u001b[0m \u001b[1m4s\u001b[0m 6ms/step - accuracy: 0.9730 - loss: 0.0993 - val_accuracy: 0.9518 - val_loss: 0.1951\n",
            "Epoch 25/60\n",
            "\u001b[1m556/556\u001b[0m \u001b[32m━━━━━━━━━━━━━━━━━━━━\u001b[0m\u001b[37m\u001b[0m \u001b[1m7s\u001b[0m 9ms/step - accuracy: 0.9699 - loss: 0.1089 - val_accuracy: 0.9524 - val_loss: 0.1941\n",
            "Epoch 26/60\n",
            "\u001b[1m556/556\u001b[0m \u001b[32m━━━━━━━━━━━━━━━━━━━━\u001b[0m\u001b[37m\u001b[0m \u001b[1m3s\u001b[0m 5ms/step - accuracy: 0.9759 - loss: 0.0892 - val_accuracy: 0.9556 - val_loss: 0.1848\n",
            "Epoch 27/60\n",
            "\u001b[1m556/556\u001b[0m \u001b[32m━━━━━━━━━━━━━━━━━━━━\u001b[0m\u001b[37m\u001b[0m \u001b[1m3s\u001b[0m 6ms/step - accuracy: 0.9715 - loss: 0.0986 - val_accuracy: 0.9542 - val_loss: 0.1837\n",
            "Epoch 28/60\n",
            "\u001b[1m556/556\u001b[0m \u001b[32m━━━━━━━━━━━━━━━━━━━━\u001b[0m\u001b[37m\u001b[0m \u001b[1m5s\u001b[0m 5ms/step - accuracy: 0.9791 - loss: 0.0786 - val_accuracy: 0.9560 - val_loss: 0.1966\n",
            "Epoch 29/60\n",
            "\u001b[1m556/556\u001b[0m \u001b[32m━━━━━━━━━━━━━━━━━━━━\u001b[0m\u001b[37m\u001b[0m \u001b[1m3s\u001b[0m 5ms/step - accuracy: 0.9783 - loss: 0.0811 - val_accuracy: 0.9518 - val_loss: 0.1977\n",
            "Epoch 30/60\n",
            "\u001b[1m556/556\u001b[0m \u001b[32m━━━━━━━━━━━━━━━━━━━━\u001b[0m\u001b[37m\u001b[0m \u001b[1m3s\u001b[0m 5ms/step - accuracy: 0.9770 - loss: 0.0863 - val_accuracy: 0.9560 - val_loss: 0.1924\n",
            "Epoch 31/60\n",
            "\u001b[1m556/556\u001b[0m \u001b[32m━━━━━━━━━━━━━━━━━━━━\u001b[0m\u001b[37m\u001b[0m \u001b[1m5s\u001b[0m 8ms/step - accuracy: 0.9793 - loss: 0.0821 - val_accuracy: 0.9530 - val_loss: 0.2030\n",
            "Epoch 32/60\n",
            "\u001b[1m556/556\u001b[0m \u001b[32m━━━━━━━━━━━━━━━━━━━━\u001b[0m\u001b[37m\u001b[0m \u001b[1m3s\u001b[0m 5ms/step - accuracy: 0.9782 - loss: 0.0822 - val_accuracy: 0.9554 - val_loss: 0.1893\n",
            "Epoch 33/60\n",
            "\u001b[1m556/556\u001b[0m \u001b[32m━━━━━━━━━━━━━━━━━━━━\u001b[0m\u001b[37m\u001b[0m \u001b[1m3s\u001b[0m 5ms/step - accuracy: 0.9823 - loss: 0.0717 - val_accuracy: 0.9612 - val_loss: 0.1710\n",
            "Epoch 34/60\n",
            "\u001b[1m556/556\u001b[0m \u001b[32m━━━━━━━━━━━━━━━━━━━━\u001b[0m\u001b[37m\u001b[0m \u001b[1m6s\u001b[0m 6ms/step - accuracy: 0.9837 - loss: 0.0688 - val_accuracy: 0.9570 - val_loss: 0.1779\n",
            "Epoch 35/60\n",
            "\u001b[1m556/556\u001b[0m \u001b[32m━━━━━━━━━━━━━━━━━━━━\u001b[0m\u001b[37m\u001b[0m \u001b[1m3s\u001b[0m 6ms/step - accuracy: 0.9818 - loss: 0.0696 - val_accuracy: 0.9522 - val_loss: 0.2024\n",
            "Epoch 36/60\n",
            "\u001b[1m556/556\u001b[0m \u001b[32m━━━━━━━━━━━━━━━━━━━━\u001b[0m\u001b[37m\u001b[0m \u001b[1m5s\u001b[0m 6ms/step - accuracy: 0.9815 - loss: 0.0678 - val_accuracy: 0.9612 - val_loss: 0.1793\n",
            "Epoch 37/60\n",
            "\u001b[1m556/556\u001b[0m \u001b[32m━━━━━━━━━━━━━━━━━━━━\u001b[0m\u001b[37m\u001b[0m \u001b[1m3s\u001b[0m 5ms/step - accuracy: 0.9847 - loss: 0.0610 - val_accuracy: 0.9630 - val_loss: 0.1890\n",
            "Epoch 38/60\n",
            "\u001b[1m556/556\u001b[0m \u001b[32m━━━━━━━━━━━━━━━━━━━━\u001b[0m\u001b[37m\u001b[0m \u001b[1m4s\u001b[0m 7ms/step - accuracy: 0.9794 - loss: 0.0769 - val_accuracy: 0.9590 - val_loss: 0.1928\n",
            "Epoch 39/60\n",
            "\u001b[1m556/556\u001b[0m \u001b[32m━━━━━━━━━━━━━━━━━━━━\u001b[0m\u001b[37m\u001b[0m \u001b[1m5s\u001b[0m 6ms/step - accuracy: 0.9838 - loss: 0.0634 - val_accuracy: 0.9540 - val_loss: 0.2127\n",
            "Epoch 40/60\n",
            "\u001b[1m556/556\u001b[0m \u001b[32m━━━━━━━━━━━━━━━━━━━━\u001b[0m\u001b[37m\u001b[0m \u001b[1m5s\u001b[0m 6ms/step - accuracy: 0.9818 - loss: 0.0694 - val_accuracy: 0.9572 - val_loss: 0.1996\n",
            "Epoch 41/60\n",
            "\u001b[1m556/556\u001b[0m \u001b[32m━━━━━━━━━━━━━━━━━━━━\u001b[0m\u001b[37m\u001b[0m \u001b[1m5s\u001b[0m 6ms/step - accuracy: 0.9811 - loss: 0.0745 - val_accuracy: 0.9546 - val_loss: 0.2201\n",
            "Epoch 42/60\n",
            "\u001b[1m556/556\u001b[0m \u001b[32m━━━━━━━━━━━━━━━━━━━━\u001b[0m\u001b[37m\u001b[0m \u001b[1m3s\u001b[0m 5ms/step - accuracy: 0.9821 - loss: 0.0711 - val_accuracy: 0.9606 - val_loss: 0.1869\n",
            "Epoch 43/60\n",
            "\u001b[1m556/556\u001b[0m \u001b[32m━━━━━━━━━━━━━━━━━━━━\u001b[0m\u001b[37m\u001b[0m \u001b[1m3s\u001b[0m 5ms/step - accuracy: 0.9864 - loss: 0.0546 - val_accuracy: 0.9572 - val_loss: 0.2145\n",
            "Epoch 44/60\n",
            "\u001b[1m556/556\u001b[0m \u001b[32m━━━━━━━━━━━━━━━━━━━━\u001b[0m\u001b[37m\u001b[0m \u001b[1m3s\u001b[0m 6ms/step - accuracy: 0.9852 - loss: 0.0616 - val_accuracy: 0.9580 - val_loss: 0.2091\n",
            "Epoch 45/60\n",
            "\u001b[1m556/556\u001b[0m \u001b[32m━━━━━━━━━━━━━━━━━━━━\u001b[0m\u001b[37m\u001b[0m \u001b[1m5s\u001b[0m 6ms/step - accuracy: 0.9823 - loss: 0.0680 - val_accuracy: 0.9568 - val_loss: 0.2023\n",
            "Epoch 46/60\n",
            "\u001b[1m556/556\u001b[0m \u001b[32m━━━━━━━━━━━━━━━━━━━━\u001b[0m\u001b[37m\u001b[0m \u001b[1m4s\u001b[0m 6ms/step - accuracy: 0.9848 - loss: 0.0590 - val_accuracy: 0.9554 - val_loss: 0.2023\n",
            "Epoch 47/60\n",
            "\u001b[1m556/556\u001b[0m \u001b[32m━━━━━━━━━━━━━━━━━━━━\u001b[0m\u001b[37m\u001b[0m \u001b[1m5s\u001b[0m 7ms/step - accuracy: 0.9865 - loss: 0.0585 - val_accuracy: 0.9570 - val_loss: 0.1916\n",
            "Epoch 48/60\n",
            "\u001b[1m556/556\u001b[0m \u001b[32m━━━━━━━━━━━━━━━━━━━━\u001b[0m\u001b[37m\u001b[0m \u001b[1m5s\u001b[0m 7ms/step - accuracy: 0.9881 - loss: 0.0459 - val_accuracy: 0.9540 - val_loss: 0.2279\n",
            "Epoch 49/60\n",
            "\u001b[1m556/556\u001b[0m \u001b[32m━━━━━━━━━━━━━━━━━━━━\u001b[0m\u001b[37m\u001b[0m \u001b[1m4s\u001b[0m 6ms/step - accuracy: 0.9814 - loss: 0.0725 - val_accuracy: 0.9520 - val_loss: 0.2316\n",
            "Epoch 50/60\n",
            "\u001b[1m556/556\u001b[0m \u001b[32m━━━━━━━━━━━━━━━━━━━━\u001b[0m\u001b[37m\u001b[0m \u001b[1m4s\u001b[0m 8ms/step - accuracy: 0.9830 - loss: 0.0638 - val_accuracy: 0.9506 - val_loss: 0.2564\n",
            "Epoch 51/60\n",
            "\u001b[1m556/556\u001b[0m \u001b[32m━━━━━━━━━━━━━━━━━━━━\u001b[0m\u001b[37m\u001b[0m \u001b[1m4s\u001b[0m 5ms/step - accuracy: 0.9862 - loss: 0.0583 - val_accuracy: 0.9586 - val_loss: 0.2082\n",
            "Epoch 52/60\n",
            "\u001b[1m556/556\u001b[0m \u001b[32m━━━━━━━━━━━━━━━━━━━━\u001b[0m\u001b[37m\u001b[0m \u001b[1m3s\u001b[0m 6ms/step - accuracy: 0.9867 - loss: 0.0555 - val_accuracy: 0.9558 - val_loss: 0.2120\n",
            "Epoch 53/60\n",
            "\u001b[1m556/556\u001b[0m \u001b[32m━━━━━━━━━━━━━━━━━━━━\u001b[0m\u001b[37m\u001b[0m \u001b[1m6s\u001b[0m 7ms/step - accuracy: 0.9886 - loss: 0.0481 - val_accuracy: 0.9638 - val_loss: 0.2072\n",
            "Epoch 54/60\n",
            "\u001b[1m556/556\u001b[0m \u001b[32m━━━━━━━━━━━━━━━━━━━━\u001b[0m\u001b[37m\u001b[0m \u001b[1m5s\u001b[0m 6ms/step - accuracy: 0.9883 - loss: 0.0474 - val_accuracy: 0.9596 - val_loss: 0.2131\n",
            "Epoch 55/60\n",
            "\u001b[1m556/556\u001b[0m \u001b[32m━━━━━━━━━━━━━━━━━━━━\u001b[0m\u001b[37m\u001b[0m \u001b[1m3s\u001b[0m 5ms/step - accuracy: 0.9867 - loss: 0.0553 - val_accuracy: 0.9534 - val_loss: 0.2203\n",
            "Epoch 56/60\n",
            "\u001b[1m556/556\u001b[0m \u001b[32m━━━━━━━━━━━━━━━━━━━━\u001b[0m\u001b[37m\u001b[0m \u001b[1m3s\u001b[0m 5ms/step - accuracy: 0.9854 - loss: 0.0563 - val_accuracy: 0.9580 - val_loss: 0.2051\n",
            "Epoch 57/60\n",
            "\u001b[1m556/556\u001b[0m \u001b[32m━━━━━━━━━━━━━━━━━━━━\u001b[0m\u001b[37m\u001b[0m \u001b[1m5s\u001b[0m 8ms/step - accuracy: 0.9896 - loss: 0.0460 - val_accuracy: 0.9584 - val_loss: 0.1918\n",
            "Epoch 58/60\n",
            "\u001b[1m556/556\u001b[0m \u001b[32m━━━━━━━━━━━━━━━━━━━━\u001b[0m\u001b[37m\u001b[0m \u001b[1m3s\u001b[0m 6ms/step - accuracy: 0.9863 - loss: 0.0523 - val_accuracy: 0.9624 - val_loss: 0.2219\n",
            "Epoch 59/60\n",
            "\u001b[1m556/556\u001b[0m \u001b[32m━━━━━━━━━━━━━━━━━━━━\u001b[0m\u001b[37m\u001b[0m \u001b[1m3s\u001b[0m 5ms/step - accuracy: 0.9894 - loss: 0.0454 - val_accuracy: 0.9570 - val_loss: 0.2234\n",
            "Epoch 60/60\n",
            "\u001b[1m556/556\u001b[0m \u001b[32m━━━━━━━━━━━━━━━━━━━━\u001b[0m\u001b[37m\u001b[0m \u001b[1m3s\u001b[0m 6ms/step - accuracy: 0.9887 - loss: 0.0521 - val_accuracy: 0.9584 - val_loss: 0.2029\n"
          ]
        }
      ]
    },
    {
      "cell_type": "code",
      "source": [
        "# Save as HDF5 format (.h5)\n",
        "model.save('tf_cardiac_cnn_model.h5')\n",
        "print(\"✅ Model saved locally in Colab as 'tf_cardiac_cnn_model.h5'\")\n",
        "\n",
        "# Define path for  Google Drive\n",
        "drive_path = '/content/drive/MyDrive/Internships/IIITg/Cardiac Arrest Early Detection System'\n",
        "\n",
        "# Save the model as HDF5 (.h5) file in google drive\n",
        "model.save(os.path.join(drive_path, 'tf_cardiac_cnn_model.h5'))\n",
        "print(f\"✅ Model saved to Google Drive at: {drive_path}/tf_cardiac_cnn_model.h5\")"
      ],
      "metadata": {
        "colab": {
          "base_uri": "https://localhost:8080/"
        },
        "id": "kzGymXIv5jg1",
        "outputId": "c36737cd-a7a1-42a6-cf2a-c1ccd18f4757"
      },
      "execution_count": null,
      "outputs": [
        {
          "output_type": "stream",
          "name": "stderr",
          "text": [
            "WARNING:absl:You are saving your model as an HDF5 file via `model.save()` or `keras.saving.save_model(model)`. This file format is considered legacy. We recommend using instead the native Keras format, e.g. `model.save('my_model.keras')` or `keras.saving.save_model(model, 'my_model.keras')`. \n",
            "WARNING:absl:You are saving your model as an HDF5 file via `model.save()` or `keras.saving.save_model(model)`. This file format is considered legacy. We recommend using instead the native Keras format, e.g. `model.save('my_model.keras')` or `keras.saving.save_model(model, 'my_model.keras')`. \n"
          ]
        },
        {
          "output_type": "stream",
          "name": "stdout",
          "text": [
            "✅ Model saved locally in Colab as 'tf_cardiac_cnn_model.h5'\n",
            "✅ Model saved to Google Drive at: /content/drive/MyDrive/Internships/IIITg/Cardiac Arrest Early Detection System/tf_cardiac_cnn_model.h5\n"
          ]
        }
      ]
    },
    {
      "cell_type": "code",
      "source": [
        "# Save as TensorFlow SavedModel format (.pb file with assets and variables)\n",
        "export_path = os.path.join(drive_path, 'tf_cardiac_model')\n",
        "model.export(export_path)\n",
        "print(f\"✅ Model saved to Google Drive at: {export_path} (TensorFlow SavedModel format)\")"
      ],
      "metadata": {
        "colab": {
          "base_uri": "https://localhost:8080/"
        },
        "id": "L9mXzl156QyA",
        "outputId": "eb42bc11-12cb-40de-a355-ed058caf7f59"
      },
      "execution_count": null,
      "outputs": [
        {
          "output_type": "stream",
          "name": "stdout",
          "text": [
            "Saved artifact at '/content/drive/MyDrive/Internships/IIITg/Cardiac Arrest Early Detection System/tf_cardiac_model'. The following endpoints are available:\n",
            "\n",
            "* Endpoint 'serve'\n",
            "  args_0 (POSITIONAL_ONLY): TensorSpec(shape=(None, 360, 1), dtype=tf.float32, name='input_layer')\n",
            "Output Type:\n",
            "  TensorSpec(shape=(None, 5), dtype=tf.float32, name=None)\n",
            "Captures:\n",
            "  131928745727312: TensorSpec(shape=(), dtype=tf.resource, name=None)\n",
            "  131928745731536: TensorSpec(shape=(), dtype=tf.resource, name=None)\n",
            "  131928745729232: TensorSpec(shape=(), dtype=tf.resource, name=None)\n",
            "  131928745727120: TensorSpec(shape=(), dtype=tf.resource, name=None)\n",
            "  131928745729040: TensorSpec(shape=(), dtype=tf.resource, name=None)\n",
            "  131928745729808: TensorSpec(shape=(), dtype=tf.resource, name=None)\n",
            "  131928756968464: TensorSpec(shape=(), dtype=tf.resource, name=None)\n",
            "  131928756966352: TensorSpec(shape=(), dtype=tf.resource, name=None)\n",
            "  131928756969232: TensorSpec(shape=(), dtype=tf.resource, name=None)\n",
            "  131928756966544: TensorSpec(shape=(), dtype=tf.resource, name=None)\n",
            "  131928756962512: TensorSpec(shape=(), dtype=tf.resource, name=None)\n",
            "  131928756972304: TensorSpec(shape=(), dtype=tf.resource, name=None)\n",
            "✅ Model saved to Google Drive at: /content/drive/MyDrive/Internships/IIITg/Cardiac Arrest Early Detection System/tf_cardiac_model (TensorFlow SavedModel format)\n"
          ]
        }
      ]
    },
    {
      "cell_type": "markdown",
      "source": [
        "# 2. Model Quantization (Post-Training)"
      ],
      "metadata": {
        "id": "rU_Rzt_xE9D9"
      }
    },
    {
      "cell_type": "markdown",
      "source": [
        "Reduces model size by converting weights from 32-bit floats to smaller representations (16-bit/8-bit).\n",
        "\n",
        "Benefits:\n",
        "\n",
        "* 50-75% size reduction\n",
        "\n",
        "* 2-3x faster inference\n",
        "\n",
        "* Minimal accuracy loss"
      ],
      "metadata": {
        "id": "-ciCo0FFFOOF"
      }
    },
    {
      "cell_type": "code",
      "source": [
        "# Install required package\n",
        "!pip install tensorflow\n",
        "\n",
        "import tensorflow as tf"
      ],
      "metadata": {
        "colab": {
          "base_uri": "https://localhost:8080/"
        },
        "collapsed": true,
        "id": "N7SAyb4gGBiH",
        "outputId": "3f5a2f2d-ae80-4dac-b435-9260e3561c15"
      },
      "execution_count": 2,
      "outputs": [
        {
          "output_type": "stream",
          "name": "stdout",
          "text": [
            "Requirement already satisfied: tensorflow in /usr/local/lib/python3.11/dist-packages (2.18.0)\n",
            "Requirement already satisfied: absl-py>=1.0.0 in /usr/local/lib/python3.11/dist-packages (from tensorflow) (1.4.0)\n",
            "Requirement already satisfied: astunparse>=1.6.0 in /usr/local/lib/python3.11/dist-packages (from tensorflow) (1.6.3)\n",
            "Requirement already satisfied: flatbuffers>=24.3.25 in /usr/local/lib/python3.11/dist-packages (from tensorflow) (25.2.10)\n",
            "Requirement already satisfied: gast!=0.5.0,!=0.5.1,!=0.5.2,>=0.2.1 in /usr/local/lib/python3.11/dist-packages (from tensorflow) (0.6.0)\n",
            "Requirement already satisfied: google-pasta>=0.1.1 in /usr/local/lib/python3.11/dist-packages (from tensorflow) (0.2.0)\n",
            "Requirement already satisfied: libclang>=13.0.0 in /usr/local/lib/python3.11/dist-packages (from tensorflow) (18.1.1)\n",
            "Requirement already satisfied: opt-einsum>=2.3.2 in /usr/local/lib/python3.11/dist-packages (from tensorflow) (3.4.0)\n",
            "Requirement already satisfied: packaging in /usr/local/lib/python3.11/dist-packages (from tensorflow) (25.0)\n",
            "Requirement already satisfied: protobuf!=4.21.0,!=4.21.1,!=4.21.2,!=4.21.3,!=4.21.4,!=4.21.5,<6.0.0dev,>=3.20.3 in /usr/local/lib/python3.11/dist-packages (from tensorflow) (5.29.5)\n",
            "Requirement already satisfied: requests<3,>=2.21.0 in /usr/local/lib/python3.11/dist-packages (from tensorflow) (2.32.3)\n",
            "Requirement already satisfied: setuptools in /usr/local/lib/python3.11/dist-packages (from tensorflow) (75.2.0)\n",
            "Requirement already satisfied: six>=1.12.0 in /usr/local/lib/python3.11/dist-packages (from tensorflow) (1.17.0)\n",
            "Requirement already satisfied: termcolor>=1.1.0 in /usr/local/lib/python3.11/dist-packages (from tensorflow) (2.3.0)\n",
            "Requirement already satisfied: typing-extensions>=3.6.6 in /usr/local/lib/python3.11/dist-packages (from tensorflow) (4.14.1)\n",
            "Requirement already satisfied: wrapt>=1.11.0 in /usr/local/lib/python3.11/dist-packages (from tensorflow) (1.17.2)\n",
            "Requirement already satisfied: grpcio<2.0,>=1.24.3 in /usr/local/lib/python3.11/dist-packages (from tensorflow) (1.73.1)\n",
            "Requirement already satisfied: tensorboard<2.19,>=2.18 in /usr/local/lib/python3.11/dist-packages (from tensorflow) (2.18.0)\n",
            "Requirement already satisfied: keras>=3.5.0 in /usr/local/lib/python3.11/dist-packages (from tensorflow) (3.8.0)\n",
            "Requirement already satisfied: numpy<2.1.0,>=1.26.0 in /usr/local/lib/python3.11/dist-packages (from tensorflow) (1.26.4)\n",
            "Requirement already satisfied: h5py>=3.11.0 in /usr/local/lib/python3.11/dist-packages (from tensorflow) (3.14.0)\n",
            "Requirement already satisfied: ml-dtypes<0.5.0,>=0.4.0 in /usr/local/lib/python3.11/dist-packages (from tensorflow) (0.4.1)\n",
            "Requirement already satisfied: tensorflow-io-gcs-filesystem>=0.23.1 in /usr/local/lib/python3.11/dist-packages (from tensorflow) (0.37.1)\n",
            "Requirement already satisfied: wheel<1.0,>=0.23.0 in /usr/local/lib/python3.11/dist-packages (from astunparse>=1.6.0->tensorflow) (0.45.1)\n",
            "Requirement already satisfied: rich in /usr/local/lib/python3.11/dist-packages (from keras>=3.5.0->tensorflow) (13.9.4)\n",
            "Requirement already satisfied: namex in /usr/local/lib/python3.11/dist-packages (from keras>=3.5.0->tensorflow) (0.1.0)\n",
            "Requirement already satisfied: optree in /usr/local/lib/python3.11/dist-packages (from keras>=3.5.0->tensorflow) (0.16.0)\n",
            "Requirement already satisfied: charset-normalizer<4,>=2 in /usr/local/lib/python3.11/dist-packages (from requests<3,>=2.21.0->tensorflow) (3.4.2)\n",
            "Requirement already satisfied: idna<4,>=2.5 in /usr/local/lib/python3.11/dist-packages (from requests<3,>=2.21.0->tensorflow) (3.10)\n",
            "Requirement already satisfied: urllib3<3,>=1.21.1 in /usr/local/lib/python3.11/dist-packages (from requests<3,>=2.21.0->tensorflow) (2.4.0)\n",
            "Requirement already satisfied: certifi>=2017.4.17 in /usr/local/lib/python3.11/dist-packages (from requests<3,>=2.21.0->tensorflow) (2025.7.14)\n",
            "Requirement already satisfied: markdown>=2.6.8 in /usr/local/lib/python3.11/dist-packages (from tensorboard<2.19,>=2.18->tensorflow) (3.8.2)\n",
            "Requirement already satisfied: tensorboard-data-server<0.8.0,>=0.7.0 in /usr/local/lib/python3.11/dist-packages (from tensorboard<2.19,>=2.18->tensorflow) (0.7.2)\n",
            "Requirement already satisfied: werkzeug>=1.0.1 in /usr/local/lib/python3.11/dist-packages (from tensorboard<2.19,>=2.18->tensorflow) (3.1.3)\n",
            "Requirement already satisfied: MarkupSafe>=2.1.1 in /usr/local/lib/python3.11/dist-packages (from werkzeug>=1.0.1->tensorboard<2.19,>=2.18->tensorflow) (3.0.2)\n",
            "Requirement already satisfied: markdown-it-py>=2.2.0 in /usr/local/lib/python3.11/dist-packages (from rich->keras>=3.5.0->tensorflow) (3.0.0)\n",
            "Requirement already satisfied: pygments<3.0.0,>=2.13.0 in /usr/local/lib/python3.11/dist-packages (from rich->keras>=3.5.0->tensorflow) (2.19.2)\n",
            "Requirement already satisfied: mdurl~=0.1 in /usr/local/lib/python3.11/dist-packages (from markdown-it-py>=2.2.0->rich->keras>=3.5.0->tensorflow) (0.1.2)\n"
          ]
        }
      ]
    },
    {
      "cell_type": "code",
      "source": [
        "# Load original model\n",
        "model = tf.keras.models.load_model('/content/drive/MyDrive/Internships/IIITg/Cardiac Arrest Early Detection System/tf_cardiac_cnn_model.h5')\n",
        "\n",
        "# Convert to TensorFlow Lite with FP16 quantization\n",
        "converter = tf.lite.TFLiteConverter.from_keras_model(model)\n",
        "converter.optimizations = [tf.lite.Optimize.DEFAULT]\n",
        "converter.target_spec.supported_types = [tf.float16]  # FP16 quantization\n",
        "tflite_model = converter.convert()\n",
        "\n",
        "# Save quantized model\n",
        "with open('tf_quantized_model.tflite', 'wb') as f:\n",
        "    f.write(tflite_model)"
      ],
      "metadata": {
        "colab": {
          "base_uri": "https://localhost:8080/"
        },
        "id": "KPqawsKfFFH1",
        "outputId": "6d9e9c3f-7c56-4a30-fcbc-788861707e14"
      },
      "execution_count": null,
      "outputs": [
        {
          "output_type": "stream",
          "name": "stderr",
          "text": [
            "WARNING:absl:Compiled the loaded model, but the compiled metrics have yet to be built. `model.compile_metrics` will be empty until you train or evaluate the model.\n"
          ]
        },
        {
          "output_type": "stream",
          "name": "stdout",
          "text": [
            "Saved artifact at '/tmp/tmp3mh9a8xv'. The following endpoints are available:\n",
            "\n",
            "* Endpoint 'serve'\n",
            "  args_0 (POSITIONAL_ONLY): TensorSpec(shape=(None, 360, 1), dtype=tf.float32, name='input_layer')\n",
            "Output Type:\n",
            "  TensorSpec(shape=(None, 5), dtype=tf.float32, name=None)\n",
            "Captures:\n",
            "  131930828523472: TensorSpec(shape=(), dtype=tf.resource, name=None)\n",
            "  131930828524432: TensorSpec(shape=(), dtype=tf.resource, name=None)\n",
            "  131930828528464: TensorSpec(shape=(), dtype=tf.resource, name=None)\n",
            "  131930828523856: TensorSpec(shape=(), dtype=tf.resource, name=None)\n",
            "  131930828528656: TensorSpec(shape=(), dtype=tf.resource, name=None)\n",
            "  131928756976144: TensorSpec(shape=(), dtype=tf.resource, name=None)\n",
            "  131928756976336: TensorSpec(shape=(), dtype=tf.resource, name=None)\n",
            "  131928756975760: TensorSpec(shape=(), dtype=tf.resource, name=None)\n",
            "  131928756976912: TensorSpec(shape=(), dtype=tf.resource, name=None)\n",
            "  131928767326224: TensorSpec(shape=(), dtype=tf.resource, name=None)\n",
            "  131928767329872: TensorSpec(shape=(), dtype=tf.resource, name=None)\n",
            "  131928767328336: TensorSpec(shape=(), dtype=tf.resource, name=None)\n"
          ]
        }
      ]
    },
    {
      "cell_type": "code",
      "source": [
        "# Compare the file sizes\n",
        "\n",
        "import os\n",
        "\n",
        "original_model_path = '/content/drive/MyDrive/Internships/IIITg/Cardiac Arrest Early Detection System/tf_cardiac_cnn_model.h5'\n",
        "quantized_model_path = 'tf_quantized_model.tflite' # saved in the current working directory\n",
        "\n",
        "# Get file sizes in bytes\n",
        "original_model_size = os.path.getsize(original_model_path)\n",
        "quantized_model_size = os.path.getsize(quantized_model_path)\n",
        "\n",
        "# Convert to a more readable format (e.g., KB or MB)\n",
        "def convert_bytes(num):\n",
        "    for x in ['bytes', 'KB', 'MB', 'GB', 'TB']:\n",
        "        if num < 1024.0:\n",
        "            return \"%3.1f %s\" % (num, x)\n",
        "        num /= 1024.0\n",
        "\n",
        "print(f\"Original model size: {convert_bytes(original_model_size)}\")\n",
        "print(f\"Quantized model size: {convert_bytes(quantized_model_size)}\")\n",
        "\n",
        "# Calculate reduction\n",
        "reduction_percentage = ((original_model_size - quantized_model_size) / original_model_size) * 100\n",
        "print(f\"Size reduction: {reduction_percentage:.2f}%\")"
      ],
      "metadata": {
        "colab": {
          "base_uri": "https://localhost:8080/"
        },
        "id": "qmwYl-1Gtty-",
        "outputId": "02da2e0b-512c-4758-90b6-e51abf4a7246"
      },
      "execution_count": null,
      "outputs": [
        {
          "output_type": "stream",
          "name": "stdout",
          "text": [
            "Original model size: 1.2 MB\n",
            "Quantized model size: 581.4 KB\n",
            "Size reduction: 51.24%\n"
          ]
        }
      ]
    },
    {
      "cell_type": "code",
      "source": [
        "# Save quantized model to Google Drive\n",
        "\n",
        "import shutil   # Using shutil.copy2 to save model in order to preserving metadata\n",
        "\n",
        "drive_destination_path = '/content/drive/MyDrive/Internships/IIITg/Cardiac Arrest Early Detection System/tf_quantized_model.tflite'\n",
        "\n",
        "# Copy the quantized model to Google Drive\n",
        "try:\n",
        "    # Ensure the destination directory exists\n",
        "    os.makedirs(os.path.dirname(drive_destination_path), exist_ok=True)\n",
        "\n",
        "    shutil.copy2(quantized_model_path, drive_destination_path)\n",
        "    print(f\"Quantized model successfully saved to Google Drive at: {drive_destination_path}\")\n",
        "\n",
        "except FileNotFoundError:\n",
        "    print(f\"Error: Source file '{quantized_model_path}' not found.\")\n",
        "except Exception as e:\n",
        "    print(f\"Error saving quantized model to Google Drive: {e}\")"
      ],
      "metadata": {
        "colab": {
          "base_uri": "https://localhost:8080/"
        },
        "id": "WQ9fD_xSuh4o",
        "outputId": "4b88f82a-1f2b-4cf6-9e84-2d562562428b"
      },
      "execution_count": null,
      "outputs": [
        {
          "output_type": "stream",
          "name": "stdout",
          "text": [
            "Quantized model successfully saved to Google Drive at: /content/drive/MyDrive/Internships/IIITg/Cardiac Arrest Early Detection System/tf_quantized_model.tflite\n"
          ]
        }
      ]
    },
    {
      "cell_type": "markdown",
      "source": [
        "---"
      ],
      "metadata": {
        "id": "smklPWWatuL2"
      }
    },
    {
      "cell_type": "markdown",
      "source": [
        "# 3. Knowledge Distillation"
      ],
      "metadata": {
        "id": "lzQe02a9t22O"
      }
    },
    {
      "cell_type": "markdown",
      "source": [
        "Trains a smaller \"student\" model using predictions from the original \"teacher\" model."
      ],
      "metadata": {
        "id": "1twliFI3t_M_"
      }
    },
    {
      "cell_type": "code",
      "source": [
        "# Student model (50% smaller)\n",
        "student_model = tf.keras.Sequential([\n",
        "    tf.keras.layers.Conv1D(8, 13, activation='relu', input_shape=(360,1)),\n",
        "    tf.keras.layers.MaxPooling1D(2),\n",
        "    tf.keras.layers.Flatten(),\n",
        "    tf.keras.layers.Dense(5, activation='softmax')\n",
        "])\n",
        "\n",
        "# Distillation setup\n",
        "distilled_model = tf.keras.models.clone_model(student_model)\n",
        "distilled_model.compile(optimizer='adam',\n",
        "                        loss='categorical_crossentropy', # Using crossentropy for simplicity\n",
        "                        metrics=['accuracy'])\n",
        "\n",
        "# Soft labels from teacher\n",
        "try:\n",
        "    teacher_predictions = model.predict(train_x)\n",
        "except NameError:\n",
        "    print(\"Error: 'model' (the teacher model) is not defined. Please ensure the original model is built or loaded.\")\n",
        "    teacher_predictions = None # Set to None to avoid further errors if model is not defined\n",
        "\n",
        "if teacher_predictions is not None:\n",
        "    # Train student using teacher's soft labels\n",
        "    print(\"\\nTraining the student model on teacher's soft labels...\")\n",
        "    distilled_history = distilled_model.fit(\n",
        "        train_x,\n",
        "        teacher_predictions,  # Train on soft labels\n",
        "        epochs=30,\n",
        "        validation_data=(test_x, test_y)\n",
        "    )\n",
        "\n",
        "    # Evaluate the distilled model\n",
        "    print(\"\\nEvaluating the distilled model:\")\n",
        "    distilled_score = distilled_model.evaluate(test_x, test_y)\n",
        "    print('Distilled Model Test Loss:', distilled_score[0])\n",
        "    print('Distilled Model Test accuracy:', distilled_score[1])\n",
        "    distilled_acc_score = distilled_score[1]*100\n",
        "    print('Distilled Model Final Accuracy Score: ',round(distilled_acc_score,2),'%')"
      ],
      "metadata": {
        "colab": {
          "base_uri": "https://localhost:8080/"
        },
        "id": "gZh_LKXTua13",
        "outputId": "2a3b132a-5419-47d6-d26b-50c43caee5e0"
      },
      "execution_count": null,
      "outputs": [
        {
          "output_type": "stream",
          "name": "stderr",
          "text": [
            "/usr/local/lib/python3.11/dist-packages/keras/src/layers/convolutional/base_conv.py:107: UserWarning: Do not pass an `input_shape`/`input_dim` argument to a layer. When using Sequential models, prefer using an `Input(shape)` object as the first layer in the model instead.\n",
            "  super().__init__(activity_regularizer=activity_regularizer, **kwargs)\n"
          ]
        },
        {
          "output_type": "stream",
          "name": "stdout",
          "text": [
            "\u001b[1m625/625\u001b[0m \u001b[32m━━━━━━━━━━━━━━━━━━━━\u001b[0m\u001b[37m\u001b[0m \u001b[1m1s\u001b[0m 2ms/step\n",
            "\n",
            "Training the student model on teacher's soft labels...\n",
            "Epoch 1/30\n",
            "\u001b[1m625/625\u001b[0m \u001b[32m━━━━━━━━━━━━━━━━━━━━\u001b[0m\u001b[37m\u001b[0m \u001b[1m5s\u001b[0m 6ms/step - accuracy: 0.6278 - loss: 0.9913 - val_accuracy: 0.7892 - val_loss: 0.6227\n",
            "Epoch 2/30\n",
            "\u001b[1m625/625\u001b[0m \u001b[32m━━━━━━━━━━━━━━━━━━━━\u001b[0m\u001b[37m\u001b[0m \u001b[1m3s\u001b[0m 5ms/step - accuracy: 0.8078 - loss: 0.5686 - val_accuracy: 0.8106 - val_loss: 0.5683\n",
            "Epoch 3/30\n",
            "\u001b[1m625/625\u001b[0m \u001b[32m━━━━━━━━━━━━━━━━━━━━\u001b[0m\u001b[37m\u001b[0m \u001b[1m5s\u001b[0m 5ms/step - accuracy: 0.8220 - loss: 0.5349 - val_accuracy: 0.8036 - val_loss: 0.5648\n",
            "Epoch 4/30\n",
            "\u001b[1m625/625\u001b[0m \u001b[32m━━━━━━━━━━━━━━━━━━━━\u001b[0m\u001b[37m\u001b[0m \u001b[1m6s\u001b[0m 5ms/step - accuracy: 0.8238 - loss: 0.5322 - val_accuracy: 0.8226 - val_loss: 0.5309\n",
            "Epoch 5/30\n",
            "\u001b[1m625/625\u001b[0m \u001b[32m━━━━━━━━━━━━━━━━━━━━\u001b[0m\u001b[37m\u001b[0m \u001b[1m4s\u001b[0m 4ms/step - accuracy: 0.8384 - loss: 0.5042 - val_accuracy: 0.8138 - val_loss: 0.5448\n",
            "Epoch 6/30\n",
            "\u001b[1m625/625\u001b[0m \u001b[32m━━━━━━━━━━━━━━━━━━━━\u001b[0m\u001b[37m\u001b[0m \u001b[1m5s\u001b[0m 4ms/step - accuracy: 0.8371 - loss: 0.4989 - val_accuracy: 0.8338 - val_loss: 0.5069\n",
            "Epoch 7/30\n",
            "\u001b[1m625/625\u001b[0m \u001b[32m━━━━━━━━━━━━━━━━━━━━\u001b[0m\u001b[37m\u001b[0m \u001b[1m5s\u001b[0m 5ms/step - accuracy: 0.8408 - loss: 0.4877 - val_accuracy: 0.8364 - val_loss: 0.5014\n",
            "Epoch 8/30\n",
            "\u001b[1m625/625\u001b[0m \u001b[32m━━━━━━━━━━━━━━━━━━━━\u001b[0m\u001b[37m\u001b[0m \u001b[1m3s\u001b[0m 5ms/step - accuracy: 0.8438 - loss: 0.4761 - val_accuracy: 0.8192 - val_loss: 0.5370\n",
            "Epoch 9/30\n",
            "\u001b[1m625/625\u001b[0m \u001b[32m━━━━━━━━━━━━━━━━━━━━\u001b[0m\u001b[37m\u001b[0m \u001b[1m3s\u001b[0m 4ms/step - accuracy: 0.8468 - loss: 0.4686 - val_accuracy: 0.8318 - val_loss: 0.5069\n",
            "Epoch 10/30\n",
            "\u001b[1m625/625\u001b[0m \u001b[32m━━━━━━━━━━━━━━━━━━━━\u001b[0m\u001b[37m\u001b[0m \u001b[1m6s\u001b[0m 6ms/step - accuracy: 0.8459 - loss: 0.4793 - val_accuracy: 0.8418 - val_loss: 0.4891\n",
            "Epoch 11/30\n",
            "\u001b[1m625/625\u001b[0m \u001b[32m━━━━━━━━━━━━━━━━━━━━\u001b[0m\u001b[37m\u001b[0m \u001b[1m3s\u001b[0m 4ms/step - accuracy: 0.8510 - loss: 0.4574 - val_accuracy: 0.8300 - val_loss: 0.5007\n",
            "Epoch 12/30\n",
            "\u001b[1m625/625\u001b[0m \u001b[32m━━━━━━━━━━━━━━━━━━━━\u001b[0m\u001b[37m\u001b[0m \u001b[1m2s\u001b[0m 4ms/step - accuracy: 0.8487 - loss: 0.4646 - val_accuracy: 0.8402 - val_loss: 0.4868\n",
            "Epoch 13/30\n",
            "\u001b[1m625/625\u001b[0m \u001b[32m━━━━━━━━━━━━━━━━━━━━\u001b[0m\u001b[37m\u001b[0m \u001b[1m3s\u001b[0m 4ms/step - accuracy: 0.8522 - loss: 0.4497 - val_accuracy: 0.8424 - val_loss: 0.4781\n",
            "Epoch 14/30\n",
            "\u001b[1m625/625\u001b[0m \u001b[32m━━━━━━━━━━━━━━━━━━━━\u001b[0m\u001b[37m\u001b[0m \u001b[1m5s\u001b[0m 5ms/step - accuracy: 0.8558 - loss: 0.4418 - val_accuracy: 0.8434 - val_loss: 0.4732\n",
            "Epoch 15/30\n",
            "\u001b[1m625/625\u001b[0m \u001b[32m━━━━━━━━━━━━━━━━━━━━\u001b[0m\u001b[37m\u001b[0m \u001b[1m3s\u001b[0m 5ms/step - accuracy: 0.8630 - loss: 0.4295 - val_accuracy: 0.8408 - val_loss: 0.4840\n",
            "Epoch 16/30\n",
            "\u001b[1m625/625\u001b[0m \u001b[32m━━━━━━━━━━━━━━━━━━━━\u001b[0m\u001b[37m\u001b[0m \u001b[1m5s\u001b[0m 5ms/step - accuracy: 0.8602 - loss: 0.4415 - val_accuracy: 0.8476 - val_loss: 0.4625\n",
            "Epoch 17/30\n",
            "\u001b[1m625/625\u001b[0m \u001b[32m━━━━━━━━━━━━━━━━━━━━\u001b[0m\u001b[37m\u001b[0m \u001b[1m3s\u001b[0m 5ms/step - accuracy: 0.8597 - loss: 0.4390 - val_accuracy: 0.8468 - val_loss: 0.4558\n",
            "Epoch 18/30\n",
            "\u001b[1m625/625\u001b[0m \u001b[32m━━━━━━━━━━━━━━━━━━━━\u001b[0m\u001b[37m\u001b[0m \u001b[1m3s\u001b[0m 4ms/step - accuracy: 0.8644 - loss: 0.4236 - val_accuracy: 0.8450 - val_loss: 0.4589\n",
            "Epoch 19/30\n",
            "\u001b[1m625/625\u001b[0m \u001b[32m━━━━━━━━━━━━━━━━━━━━\u001b[0m\u001b[37m\u001b[0m \u001b[1m6s\u001b[0m 6ms/step - accuracy: 0.8636 - loss: 0.4217 - val_accuracy: 0.8496 - val_loss: 0.4544\n",
            "Epoch 20/30\n",
            "\u001b[1m625/625\u001b[0m \u001b[32m━━━━━━━━━━━━━━━━━━━━\u001b[0m\u001b[37m\u001b[0m \u001b[1m5s\u001b[0m 5ms/step - accuracy: 0.8672 - loss: 0.4188 - val_accuracy: 0.8552 - val_loss: 0.4412\n",
            "Epoch 21/30\n",
            "\u001b[1m625/625\u001b[0m \u001b[32m━━━━━━━━━━━━━━━━━━━━\u001b[0m\u001b[37m\u001b[0m \u001b[1m3s\u001b[0m 4ms/step - accuracy: 0.8639 - loss: 0.4165 - val_accuracy: 0.8356 - val_loss: 0.4944\n",
            "Epoch 22/30\n",
            "\u001b[1m625/625\u001b[0m \u001b[32m━━━━━━━━━━━━━━━━━━━━\u001b[0m\u001b[37m\u001b[0m \u001b[1m4s\u001b[0m 6ms/step - accuracy: 0.8668 - loss: 0.4165 - val_accuracy: 0.8486 - val_loss: 0.4425\n",
            "Epoch 23/30\n",
            "\u001b[1m625/625\u001b[0m \u001b[32m━━━━━━━━━━━━━━━━━━━━\u001b[0m\u001b[37m\u001b[0m \u001b[1m4s\u001b[0m 6ms/step - accuracy: 0.8693 - loss: 0.4047 - val_accuracy: 0.8456 - val_loss: 0.4523\n",
            "Epoch 24/30\n",
            "\u001b[1m625/625\u001b[0m \u001b[32m━━━━━━━━━━━━━━━━━━━━\u001b[0m\u001b[37m\u001b[0m \u001b[1m4s\u001b[0m 5ms/step - accuracy: 0.8746 - loss: 0.3939 - val_accuracy: 0.8558 - val_loss: 0.4369\n",
            "Epoch 25/30\n",
            "\u001b[1m625/625\u001b[0m \u001b[32m━━━━━━━━━━━━━━━━━━━━\u001b[0m\u001b[37m\u001b[0m \u001b[1m5s\u001b[0m 4ms/step - accuracy: 0.8732 - loss: 0.3903 - val_accuracy: 0.8482 - val_loss: 0.4465\n",
            "Epoch 26/30\n",
            "\u001b[1m625/625\u001b[0m \u001b[32m━━━━━━━━━━━━━━━━━━━━\u001b[0m\u001b[37m\u001b[0m \u001b[1m6s\u001b[0m 5ms/step - accuracy: 0.8746 - loss: 0.3955 - val_accuracy: 0.8570 - val_loss: 0.4375\n",
            "Epoch 27/30\n",
            "\u001b[1m625/625\u001b[0m \u001b[32m━━━━━━━━━━━━━━━━━━━━\u001b[0m\u001b[37m\u001b[0m \u001b[1m3s\u001b[0m 4ms/step - accuracy: 0.8750 - loss: 0.3907 - val_accuracy: 0.8614 - val_loss: 0.4303\n",
            "Epoch 28/30\n",
            "\u001b[1m625/625\u001b[0m \u001b[32m━━━━━━━━━━━━━━━━━━━━\u001b[0m\u001b[37m\u001b[0m \u001b[1m5s\u001b[0m 4ms/step - accuracy: 0.8767 - loss: 0.3821 - val_accuracy: 0.8582 - val_loss: 0.4307\n",
            "Epoch 29/30\n",
            "\u001b[1m625/625\u001b[0m \u001b[32m━━━━━━━━━━━━━━━━━━━━\u001b[0m\u001b[37m\u001b[0m \u001b[1m5s\u001b[0m 4ms/step - accuracy: 0.8785 - loss: 0.3770 - val_accuracy: 0.8596 - val_loss: 0.4229\n",
            "Epoch 30/30\n",
            "\u001b[1m625/625\u001b[0m \u001b[32m━━━━━━━━━━━━━━━━━━━━\u001b[0m\u001b[37m\u001b[0m \u001b[1m6s\u001b[0m 5ms/step - accuracy: 0.8790 - loss: 0.3733 - val_accuracy: 0.8584 - val_loss: 0.4198\n",
            "\n",
            "Evaluating the distilled model:\n",
            "\u001b[1m157/157\u001b[0m \u001b[32m━━━━━━━━━━━━━━━━━━━━\u001b[0m\u001b[37m\u001b[0m \u001b[1m1s\u001b[0m 4ms/step - accuracy: 0.8570 - loss: 0.4167\n",
            "Distilled Model Test Loss: 0.4198301136493683\n",
            "Distilled Model Test accuracy: 0.8583999872207642\n",
            "Distilled Model Final Accuracy Score:  85.84 %\n"
          ]
        }
      ]
    },
    {
      "cell_type": "code",
      "source": [
        "# save the distilled model\n",
        "distilled_model.save('distilled_model.h5')"
      ],
      "metadata": {
        "colab": {
          "base_uri": "https://localhost:8080/"
        },
        "id": "9d5XJfKD9uiI",
        "outputId": "665c3465-acba-4e8f-bc7b-284c7d9a93ef"
      },
      "execution_count": null,
      "outputs": [
        {
          "output_type": "stream",
          "name": "stderr",
          "text": [
            "WARNING:absl:You are saving your model as an HDF5 file via `model.save()` or `keras.saving.save_model(model)`. This file format is considered legacy. We recommend using instead the native Keras format, e.g. `model.save('my_model.keras')` or `keras.saving.save_model(model, 'my_model.keras')`. \n"
          ]
        }
      ]
    },
    {
      "cell_type": "code",
      "metadata": {
        "colab": {
          "base_uri": "https://localhost:8080/"
        },
        "id": "6c97a624",
        "outputId": "95fc5553-1e03-4e90-ea10-6b262b66c343"
      },
      "source": [
        "import os\n",
        "import shutil\n",
        "\n",
        "local_model_path = 'distilled_model.h5'\n",
        "\n",
        "drive_destination_path = '/content/drive/MyDrive/Internships/IIITg/Cardiac Arrest Early Detection System/distilled_model.h5'\n",
        "\n",
        "if not os.path.exists(local_model_path):\n",
        "    print(f\"Error: Local model file '{local_model_path}' not found.\")\n",
        "else:\n",
        "    # Copy the distilled model to Google Drive\n",
        "    try:\n",
        "        os.makedirs(os.path.dirname(drive_destination_path), exist_ok=True)\n",
        "\n",
        "        # Use shutil.copy2 to preserving metadata\n",
        "        shutil.copy2(local_model_path, drive_destination_path)\n",
        "        print(f\"✅ Distilled model successfully saved to Google Drive at: {drive_destination_path}\")\n",
        "\n",
        "    except Exception as e:\n",
        "        print(f\"Error saving distilled model to Google Drive: {e}\")"
      ],
      "execution_count": null,
      "outputs": [
        {
          "output_type": "stream",
          "name": "stdout",
          "text": [
            "Drive already mounted at /content/drive; to attempt to forcibly remount, call drive.mount(\"/content/drive\", force_remount=True).\n",
            "✅ Distilled model successfully saved to Google Drive at: /content/drive/MyDrive/Internships/IIITg/Cardiac Arrest Early Detection System/distilled_model.h5\n"
          ]
        }
      ]
    },
    {
      "cell_type": "markdown",
      "source": [
        "---"
      ],
      "metadata": {
        "id": "ut2RqktquNNo"
      }
    },
    {
      "cell_type": "markdown",
      "source": [
        "# 4. Evaluation / Benchmark models:"
      ],
      "metadata": {
        "id": "FpxaOFijuISn"
      }
    },
    {
      "cell_type": "code",
      "source": [
        "# Compare size and latency\n",
        "original_size = os.path.getsize('tf_cardiac_cnn_model.h5')\n",
        "quantized_size = os.path.getsize('tf_quantized_model.tflite')\n",
        "print(f\"Size reduction: {(1 - quantized_size/original_size)*100:.1f}%\")\n",
        "\n",
        "# Latency test\n",
        "import time\n",
        "start = time.time()\n",
        "model.predict(test_x[0:1])\n",
        "print(f\"Latency: {(time.time()-start)*1000:.2f}ms\")"
      ],
      "metadata": {
        "colab": {
          "base_uri": "https://localhost:8080/"
        },
        "id": "ftSLuaRCuVu3",
        "outputId": "8f056498-8121-4c1d-adf4-ad44fbeeeae0"
      },
      "execution_count": null,
      "outputs": [
        {
          "output_type": "stream",
          "name": "stdout",
          "text": [
            "Size reduction: 51.2%\n",
            "\u001b[1m1/1\u001b[0m \u001b[32m━━━━━━━━━━━━━━━━━━━━\u001b[0m\u001b[37m\u001b[0m \u001b[1m0s\u001b[0m 30ms/step\n",
            "Latency: 69.98ms\n"
          ]
        }
      ]
    },
    {
      "cell_type": "code",
      "source": [
        "# Install required packages\n",
        "!pip install tensorflow\n",
        "!pip install tensorflow-model-optimization\n",
        "\n",
        "import tensorflow as tf\n",
        "import numpy as np\n",
        "import os\n",
        "import time\n",
        "import matplotlib.pyplot as plt\n",
        "from tensorflow.keras.models import load_model"
      ],
      "metadata": {
        "colab": {
          "base_uri": "https://localhost:8080/"
        },
        "collapsed": true,
        "id": "_X_f9UUE_g5e",
        "outputId": "e142f026-1031-4ac2-dbe9-04c2c94eabe9"
      },
      "execution_count": null,
      "outputs": [
        {
          "output_type": "stream",
          "name": "stdout",
          "text": [
            "Requirement already satisfied: tensorflow in /usr/local/lib/python3.11/dist-packages (2.18.0)\n",
            "Requirement already satisfied: absl-py>=1.0.0 in /usr/local/lib/python3.11/dist-packages (from tensorflow) (1.4.0)\n",
            "Requirement already satisfied: astunparse>=1.6.0 in /usr/local/lib/python3.11/dist-packages (from tensorflow) (1.6.3)\n",
            "Requirement already satisfied: flatbuffers>=24.3.25 in /usr/local/lib/python3.11/dist-packages (from tensorflow) (25.2.10)\n",
            "Requirement already satisfied: gast!=0.5.0,!=0.5.1,!=0.5.2,>=0.2.1 in /usr/local/lib/python3.11/dist-packages (from tensorflow) (0.6.0)\n",
            "Requirement already satisfied: google-pasta>=0.1.1 in /usr/local/lib/python3.11/dist-packages (from tensorflow) (0.2.0)\n",
            "Requirement already satisfied: libclang>=13.0.0 in /usr/local/lib/python3.11/dist-packages (from tensorflow) (18.1.1)\n",
            "Requirement already satisfied: opt-einsum>=2.3.2 in /usr/local/lib/python3.11/dist-packages (from tensorflow) (3.4.0)\n",
            "Requirement already satisfied: packaging in /usr/local/lib/python3.11/dist-packages (from tensorflow) (24.2)\n",
            "Requirement already satisfied: protobuf!=4.21.0,!=4.21.1,!=4.21.2,!=4.21.3,!=4.21.4,!=4.21.5,<6.0.0dev,>=3.20.3 in /usr/local/lib/python3.11/dist-packages (from tensorflow) (5.29.5)\n",
            "Requirement already satisfied: requests<3,>=2.21.0 in /usr/local/lib/python3.11/dist-packages (from tensorflow) (2.32.3)\n",
            "Requirement already satisfied: setuptools in /usr/local/lib/python3.11/dist-packages (from tensorflow) (75.2.0)\n",
            "Requirement already satisfied: six>=1.12.0 in /usr/local/lib/python3.11/dist-packages (from tensorflow) (1.17.0)\n",
            "Requirement already satisfied: termcolor>=1.1.0 in /usr/local/lib/python3.11/dist-packages (from tensorflow) (3.1.0)\n",
            "Requirement already satisfied: typing-extensions>=3.6.6 in /usr/local/lib/python3.11/dist-packages (from tensorflow) (4.14.0)\n",
            "Requirement already satisfied: wrapt>=1.11.0 in /usr/local/lib/python3.11/dist-packages (from tensorflow) (1.17.2)\n",
            "Requirement already satisfied: grpcio<2.0,>=1.24.3 in /usr/local/lib/python3.11/dist-packages (from tensorflow) (1.73.1)\n",
            "Requirement already satisfied: tensorboard<2.19,>=2.18 in /usr/local/lib/python3.11/dist-packages (from tensorflow) (2.18.0)\n",
            "Requirement already satisfied: keras>=3.5.0 in /usr/local/lib/python3.11/dist-packages (from tensorflow) (3.8.0)\n",
            "Requirement already satisfied: numpy<2.1.0,>=1.26.0 in /usr/local/lib/python3.11/dist-packages (from tensorflow) (1.26.4)\n",
            "Requirement already satisfied: h5py>=3.11.0 in /usr/local/lib/python3.11/dist-packages (from tensorflow) (3.14.0)\n",
            "Requirement already satisfied: ml-dtypes<0.5.0,>=0.4.0 in /usr/local/lib/python3.11/dist-packages (from tensorflow) (0.4.1)\n",
            "Requirement already satisfied: tensorflow-io-gcs-filesystem>=0.23.1 in /usr/local/lib/python3.11/dist-packages (from tensorflow) (0.37.1)\n",
            "Requirement already satisfied: wheel<1.0,>=0.23.0 in /usr/local/lib/python3.11/dist-packages (from astunparse>=1.6.0->tensorflow) (0.45.1)\n",
            "Requirement already satisfied: rich in /usr/local/lib/python3.11/dist-packages (from keras>=3.5.0->tensorflow) (13.9.4)\n",
            "Requirement already satisfied: namex in /usr/local/lib/python3.11/dist-packages (from keras>=3.5.0->tensorflow) (0.1.0)\n",
            "Requirement already satisfied: optree in /usr/local/lib/python3.11/dist-packages (from keras>=3.5.0->tensorflow) (0.16.0)\n",
            "Requirement already satisfied: charset-normalizer<4,>=2 in /usr/local/lib/python3.11/dist-packages (from requests<3,>=2.21.0->tensorflow) (3.4.2)\n",
            "Requirement already satisfied: idna<4,>=2.5 in /usr/local/lib/python3.11/dist-packages (from requests<3,>=2.21.0->tensorflow) (3.10)\n",
            "Requirement already satisfied: urllib3<3,>=1.21.1 in /usr/local/lib/python3.11/dist-packages (from requests<3,>=2.21.0->tensorflow) (2.4.0)\n",
            "Requirement already satisfied: certifi>=2017.4.17 in /usr/local/lib/python3.11/dist-packages (from requests<3,>=2.21.0->tensorflow) (2025.6.15)\n",
            "Requirement already satisfied: markdown>=2.6.8 in /usr/local/lib/python3.11/dist-packages (from tensorboard<2.19,>=2.18->tensorflow) (3.8.2)\n",
            "Requirement already satisfied: tensorboard-data-server<0.8.0,>=0.7.0 in /usr/local/lib/python3.11/dist-packages (from tensorboard<2.19,>=2.18->tensorflow) (0.7.2)\n",
            "Requirement already satisfied: werkzeug>=1.0.1 in /usr/local/lib/python3.11/dist-packages (from tensorboard<2.19,>=2.18->tensorflow) (3.1.3)\n",
            "Requirement already satisfied: MarkupSafe>=2.1.1 in /usr/local/lib/python3.11/dist-packages (from werkzeug>=1.0.1->tensorboard<2.19,>=2.18->tensorflow) (3.0.2)\n",
            "Requirement already satisfied: markdown-it-py>=2.2.0 in /usr/local/lib/python3.11/dist-packages (from rich->keras>=3.5.0->tensorflow) (3.0.0)\n",
            "Requirement already satisfied: pygments<3.0.0,>=2.13.0 in /usr/local/lib/python3.11/dist-packages (from rich->keras>=3.5.0->tensorflow) (2.19.2)\n",
            "Requirement already satisfied: mdurl~=0.1 in /usr/local/lib/python3.11/dist-packages (from markdown-it-py>=2.2.0->rich->keras>=3.5.0->tensorflow) (0.1.2)\n",
            "Requirement already satisfied: tensorflow-model-optimization in /usr/local/lib/python3.11/dist-packages (0.8.0)\n",
            "Requirement already satisfied: absl-py~=1.2 in /usr/local/lib/python3.11/dist-packages (from tensorflow-model-optimization) (1.4.0)\n",
            "Requirement already satisfied: dm-tree~=0.1.1 in /usr/local/lib/python3.11/dist-packages (from tensorflow-model-optimization) (0.1.9)\n",
            "Requirement already satisfied: numpy~=1.23 in /usr/local/lib/python3.11/dist-packages (from tensorflow-model-optimization) (1.26.4)\n",
            "Requirement already satisfied: six~=1.14 in /usr/local/lib/python3.11/dist-packages (from tensorflow-model-optimization) (1.17.0)\n",
            "Requirement already satisfied: attrs>=18.2.0 in /usr/local/lib/python3.11/dist-packages (from dm-tree~=0.1.1->tensorflow-model-optimization) (25.3.0)\n",
            "Requirement already satisfied: wrapt>=1.11.2 in /usr/local/lib/python3.11/dist-packages (from dm-tree~=0.1.1->tensorflow-model-optimization) (1.17.2)\n"
          ]
        }
      ]
    },
    {
      "cell_type": "code",
      "source": [
        "# Define paths\n",
        "MODEL_DIR = '/content/drive/MyDrive/Internships/IIITg/Cardiac Arrest Early Detection System'\n",
        "ORIGINAL_MODEL = os.path.join(MODEL_DIR, 'tf_cardiac_cnn_model.h5')\n",
        "DISTILLED_MODEL = os.path.join(MODEL_DIR, 'distilled_model.h5')\n",
        "QUANTIZED_MODEL = os.path.join(MODEL_DIR, 'tf_quantized_model.tflite')"
      ],
      "metadata": {
        "id": "G-fplOY6_lOI"
      },
      "execution_count": null,
      "outputs": []
    },
    {
      "cell_type": "code",
      "source": [
        "# Model Loading and Preparation\n",
        "\n",
        "print(\"\\n=== Loading Models ===\")\n",
        "\n",
        "# Load original model\n",
        "original_model = load_model(ORIGINAL_MODEL)\n",
        "print(f\"✅ Original model loaded ({ORIGINAL_MODEL})\")\n",
        "\n",
        "# Load distilled model\n",
        "distilled_model = load_model(DISTILLED_MODEL)\n",
        "print(f\"✅ Distilled model loaded ({DISTILLED_MODEL})\")\n",
        "\n",
        "# Load quantized model\n",
        "interpreter = tf.lite.Interpreter(model_path=QUANTIZED_MODEL)\n",
        "interpreter.allocate_tensors()\n",
        "input_details = interpreter.get_input_details()\n",
        "output_details = interpreter.get_output_details()\n",
        "print(f\"✅ Quantized model loaded ({QUANTIZED_MODEL})\")"
      ],
      "metadata": {
        "colab": {
          "base_uri": "https://localhost:8080/"
        },
        "id": "qfNPf2J7_x7O",
        "outputId": "b76ab72d-df7e-422c-f3d2-5d2658c339c2"
      },
      "execution_count": null,
      "outputs": [
        {
          "output_type": "stream",
          "name": "stderr",
          "text": [
            "WARNING:absl:Compiled the loaded model, but the compiled metrics have yet to be built. `model.compile_metrics` will be empty until you train or evaluate the model.\n"
          ]
        },
        {
          "output_type": "stream",
          "name": "stdout",
          "text": [
            "\n",
            "=== Loading Models ===\n",
            "✅ Original model loaded (/content/drive/MyDrive/Internships/IIITg/Cardiac Arrest Early Detection System/tf_cardiac_cnn_model.h5)\n"
          ]
        },
        {
          "output_type": "stream",
          "name": "stderr",
          "text": [
            "WARNING:absl:Compiled the loaded model, but the compiled metrics have yet to be built. `model.compile_metrics` will be empty until you train or evaluate the model.\n"
          ]
        },
        {
          "output_type": "stream",
          "name": "stdout",
          "text": [
            "✅ Distilled model loaded (/content/drive/MyDrive/Internships/IIITg/Cardiac Arrest Early Detection System/distilled_model.h5)\n",
            "✅ Quantized model loaded (/content/drive/MyDrive/Internships/IIITg/Cardiac Arrest Early Detection System/tf_quantized_model.tflite)\n"
          ]
        }
      ]
    },
    {
      "cell_type": "code",
      "source": [
        "# Evaluation Functions\n",
        "\n",
        "def evaluate_keras_model(model, x_test, y_test, num_samples=100):\n",
        "    \"\"\"Evaluate standard Keras model\"\"\"\n",
        "    # Accuracy\n",
        "    _, acc = model.evaluate(x_test, y_test, verbose=0)\n",
        "\n",
        "    # Latency (average over num_samples)\n",
        "    start = time.time()\n",
        "    for _ in range(num_samples):\n",
        "        model.predict(x_test[0:1], verbose=0)\n",
        "    latency = (time.time() - start) * 1000 / num_samples\n",
        "\n",
        "    # Model size\n",
        "    model_path = 'temp_model.h5'\n",
        "    model.save(model_path)\n",
        "    size = os.path.getsize(model_path) / (1024 * 1024)  # in MB\n",
        "    os.remove(model_path)\n",
        "\n",
        "    return acc, latency, size\n",
        "\n",
        "def evaluate_tflite_model(interpreter, x_test, y_test, num_samples=100):\n",
        "    \"\"\"Evaluate TFLite model\"\"\"\n",
        "    input_index = interpreter.get_input_details()[0][\"index\"]\n",
        "    output_index = interpreter.get_output_details()[0][\"index\"]\n",
        "\n",
        "    # Accuracy\n",
        "    correct = 0\n",
        "    total = len(x_test)\n",
        "\n",
        "    for i in range(total):\n",
        "        # Convert the input data to FLOAT32\n",
        "        input_data = x_test[i:i+1].astype(np.float32)\n",
        "        interpreter.set_tensor(input_index, input_data)\n",
        "        interpreter.invoke()\n",
        "        output = interpreter.get_tensor(output_index)\n",
        "        if np.argmax(output) == np.argmax(y_test[i]):\n",
        "            correct += 1\n",
        "    acc = correct / total\n",
        "\n",
        "    # Latency (average over num_samples)\n",
        "    start = time.time()\n",
        "    for _ in range(num_samples):\n",
        "        # Convert the input data to FLOAT32 for latency test as well\n",
        "        input_data = x_test[0:1].astype(np.float32)\n",
        "        interpreter.set_tensor(input_index, input_data)\n",
        "        interpreter.invoke()\n",
        "    latency = (time.time() - start) * 1000 / num_samples\n",
        "\n",
        "    # Model size\n",
        "    size = os.path.getsize(QUANTIZED_MODEL) / (1024 * 1024)  # in MB\n",
        "\n",
        "    return acc, latency, size"
      ],
      "metadata": {
        "id": "e9VQCXSZAf65"
      },
      "execution_count": null,
      "outputs": []
    },
    {
      "cell_type": "code",
      "source": [
        "# Evaluations\n",
        "\n",
        "print(\"\\n=== Evaluating Models ===\")\n",
        "\n",
        "# Evaluate original model\n",
        "print(\"Evaluating original model...\")\n",
        "orig_acc, orig_latency, orig_size = evaluate_keras_model(original_model, test_x, test_y)\n",
        "print(f\"Original Model - Accuracy: {orig_acc:.4f}, Latency: {orig_latency:.2f}ms, Size: {orig_size:.2f}MB\")\n",
        "\n",
        "# Evaluate distilled model\n",
        "print(\"Evaluating distilled model...\")\n",
        "dist_acc, dist_latency, dist_size = evaluate_keras_model(distilled_model, test_x, test_y)\n",
        "print(f\"Distilled Model - Accuracy: {dist_acc:.4f}, Latency: {dist_latency:.2f}ms, Size: {dist_size:.2f}MB\")\n",
        "\n",
        "# Evaluate quantized model\n",
        "print(\"Evaluating quantized model...\")\n",
        "quant_acc, quant_latency, quant_size = evaluate_tflite_model(interpreter, test_x, test_y)\n",
        "print(f\"Quantized Model - Accuracy: {quant_acc:.4f}, Latency: {quant_latency:.2f}ms, Size: {quant_size:.2f}MB\")"
      ],
      "metadata": {
        "colab": {
          "base_uri": "https://localhost:8080/"
        },
        "id": "DiM_UAroAiWo",
        "outputId": "9486ae7c-38ff-415f-bc96-18b1f1f88ff9"
      },
      "execution_count": null,
      "outputs": [
        {
          "output_type": "stream",
          "name": "stdout",
          "text": [
            "\n",
            "=== Evaluating Models ===\n",
            "Evaluating original model...\n"
          ]
        },
        {
          "output_type": "stream",
          "name": "stderr",
          "text": [
            "WARNING:absl:You are saving your model as an HDF5 file via `model.save()` or `keras.saving.save_model(model)`. This file format is considered legacy. We recommend using instead the native Keras format, e.g. `model.save('my_model.keras')` or `keras.saving.save_model(model, 'my_model.keras')`. \n"
          ]
        },
        {
          "output_type": "stream",
          "name": "stdout",
          "text": [
            "Original Model - Accuracy: 0.9882, Latency: 68.17ms, Size: 1.16MB\n",
            "Evaluating distilled model...\n"
          ]
        },
        {
          "output_type": "stream",
          "name": "stderr",
          "text": [
            "WARNING:absl:You are saving your model as an HDF5 file via `model.save()` or `keras.saving.save_model(model)`. This file format is considered legacy. We recommend using instead the native Keras format, e.g. `model.save('my_model.keras')` or `keras.saving.save_model(model, 'my_model.keras')`. \n"
          ]
        },
        {
          "output_type": "stream",
          "name": "stdout",
          "text": [
            "Distilled Model - Accuracy: 0.8584, Latency: 83.18ms, Size: 0.05MB\n",
            "Evaluating quantized model...\n",
            "Quantized Model - Accuracy: 0.9882, Latency: 0.34ms, Size: 0.57MB\n"
          ]
        }
      ]
    },
    {
      "cell_type": "code",
      "source": [
        "# Comparison Metrics / Benchmarks\n",
        "\n",
        "print(\"\\n=== Comparison Metrics ===\")\n",
        "\n",
        "# Create comparison table\n",
        "metrics = {\n",
        "    'Model': ['Original', 'Distilled', 'Quantized'],\n",
        "    'Accuracy': [orig_acc, dist_acc, quant_acc],\n",
        "    'Latency (ms)': [orig_latency, dist_latency, quant_latency],\n",
        "    'Size (MB)': [orig_size, dist_size, quant_size],\n",
        "    'Size Reduction %': [0, (1-dist_size/orig_size)*100, (1-quant_size/orig_size)*100],\n",
        "    'Speedup Factor': [1, orig_latency/dist_latency, orig_latency/quant_latency]\n",
        "}\n",
        "\n",
        "import pandas as pd\n",
        "df_compare = pd.DataFrame(metrics)\n",
        "print(df_compare)"
      ],
      "metadata": {
        "colab": {
          "base_uri": "https://localhost:8080/"
        },
        "id": "v0r9F9RkAnap",
        "outputId": "bd1cfe00-8e30-4d76-8a7e-2722ab1795d1"
      },
      "execution_count": null,
      "outputs": [
        {
          "output_type": "stream",
          "name": "stdout",
          "text": [
            "\n",
            "=== Comparison Metrics ===\n",
            "       Model  Accuracy  Latency (ms)  Size (MB)  Size Reduction %  \\\n",
            "0   Original    0.9882     68.165555   1.164505          0.000000   \n",
            "1  Distilled    0.8584     83.184857   0.047340         95.934720   \n",
            "2  Quantized    0.9882      0.335867   0.567806         51.240549   \n",
            "\n",
            "   Speedup Factor  \n",
            "0        1.000000  \n",
            "1        0.819447  \n",
            "2      202.953767  \n"
          ]
        }
      ]
    },
    {
      "cell_type": "code",
      "source": [
        "# Visualization of Model Metrics / Benchmarks\n",
        "\n",
        "import matplotlib.pyplot as plt\n",
        "import seaborn as sns\n",
        "\n",
        "print(\"\\n=== 📈 Generating Side-by-Side Visualizations ===\")\n",
        "\n",
        "# seaborn theme\n",
        "sns.set_theme(style=\"whitegrid\")\n",
        "colors = sns.color_palette(\"Set2\")\n",
        "\n",
        "# Metric labels and chart configs\n",
        "metric_titles = ['Accuracy', 'Latency (ms)', 'Size (MB)']\n",
        "metric_labels = ['Accuracy', 'Latency (ms)', 'Size (MB)']\n",
        "\n",
        "# subplots\n",
        "fig, axes = plt.subplots(1, 3, figsize=(18, 5))\n",
        "\n",
        "for idx, ax in enumerate(axes):\n",
        "    metric = metric_titles[idx]\n",
        "    bars = ax.bar(metrics['Model'], metrics[metric], color=colors, edgecolor='black')\n",
        "\n",
        "    for bar in bars:\n",
        "        height = bar.get_height()\n",
        "        ax.text(bar.get_x() + bar.get_width() / 2, height + 0.005,\n",
        "                f'{height:.3f}', ha='center', va='bottom', fontsize=10)\n",
        "\n",
        "    ax.set_title(f'📊 {metric} Comparison', fontsize=13, weight='bold')\n",
        "    ax.set_ylabel(metric_labels[idx], fontsize=11)\n",
        "    ax.set_xlabel('Model', fontsize=11)\n",
        "    ax.tick_params(axis='both', labelsize=10)\n",
        "\n",
        "plt.tight_layout()\n",
        "plt.show()"
      ],
      "metadata": {
        "colab": {
          "base_uri": "https://localhost:8080/",
          "height": 505
        },
        "id": "PmstTa6WAoNR",
        "outputId": "22e5f608-18b4-4efe-e582-cd11f8408772"
      },
      "execution_count": null,
      "outputs": [
        {
          "output_type": "stream",
          "name": "stdout",
          "text": [
            "\n",
            "=== 📈 Generating Side-by-Side Visualizations ===\n"
          ]
        },
        {
          "output_type": "stream",
          "name": "stderr",
          "text": [
            "/tmp/ipython-input-132-1114613506.py:35: UserWarning: Glyph 128202 (\\N{BAR CHART}) missing from font(s) DejaVu Sans.\n",
            "  plt.tight_layout()\n",
            "/usr/local/lib/python3.11/dist-packages/IPython/core/pylabtools.py:151: UserWarning: Glyph 128202 (\\N{BAR CHART}) missing from font(s) DejaVu Sans.\n",
            "  fig.canvas.print_figure(bytes_io, **kw)\n"
          ]
        },
        {
          "output_type": "display_data",
          "data": {
            "text/plain": [
              "<Figure size 1800x500 with 3 Axes>"
            ],
            "image/png": "[encoded data removed]"
          },
          "metadata": {}
        }
      ]
    },
    {
      "cell_type": "code",
      "source": [
        "# Conclusion: Best Lightweight Model\n",
        "\n",
        "print(\"\\n=== Best Lightweight Model Recommendation ===\")\n",
        "\n",
        "# Calculate weighted score\n",
        "accuracy_weight = 0.5\n",
        "latency_weight = 0.3\n",
        "size_weight = 0.2\n",
        "\n",
        "# Normalize metrics\n",
        "max_acc = max(metrics['Accuracy'])\n",
        "min_latency = min(metrics['Latency (ms)'])\n",
        "min_size = min(metrics['Size (MB)'])\n",
        "\n",
        "dist_score = (\n",
        "    (dist_acc/max_acc)*accuracy_weight +\n",
        "    (min_latency/dist_latency)*latency_weight +\n",
        "    (min_size/dist_size)*size_weight\n",
        ")\n",
        "\n",
        "quant_score = (\n",
        "    (quant_acc/max_acc)*accuracy_weight +\n",
        "    (min_latency/quant_latency)*latency_weight +\n",
        "    (min_size/quant_size)*size_weight\n",
        ")\n",
        "\n",
        "if dist_score > quant_score:\n",
        "    print(\"Distilled model is better for deployment (Score: {:.2f} vs {:.2f})\".format(dist_score, quant_score))\n",
        "    print(\"Recommended for use when moderate size reduction is needed with minimal accuracy loss\")\n",
        "else:\n",
        "    print(\"Quantized model is better for deployment (Score: {:.2f} vs {:.2f})\".format(quant_score, dist_score))\n",
        "    print(\"Recommended for use when maximum size reduction and speed are critical\")\n",
        "\n",
        "print(\"\\n=== Conclusion ===\")\n",
        "print(\"1. For high accuracy needs: Use original model (Size: {:.2f}MB)\".format(orig_size))\n",
        "print(\"2. For balanced needs: Use distilled model (Size: {:.2f}MB, {:.2%} of original)\".format(dist_size, dist_size/orig_size))\n",
        "print(\"3. For most constrained devices: Use quantized model (Size: {:.2f}MB, {:.2%} of original)\".format(quant_size, quant_size/orig_size))"
      ],
      "metadata": {
        "colab": {
          "base_uri": "https://localhost:8080/"
        },
        "id": "KFJUAaIzArAp",
        "outputId": "ad7f67f8-1c66-4df5-ccb2-d003de7b25f8"
      },
      "execution_count": null,
      "outputs": [
        {
          "output_type": "stream",
          "name": "stdout",
          "text": [
            "\n",
            "=== Best Lightweight Model Recommendation ===\n",
            "Quantized model is better for deployment (Score: 0.82 vs 0.64)\n",
            "Recommended for use when maximum size reduction and speed are critical\n",
            "\n",
            "=== Conclusion ===\n",
            "1. For high accuracy needs: Use original model (Size: 1.16MB)\n",
            "2. For balanced needs: Use distilled model (Size: 0.05MB, 4.07% of original)\n",
            "3. For most constrained devices: Use quantized model (Size: 0.57MB, 48.76% of original)\n"
          ]
        }
      ]
    },
    {
      "cell_type": "markdown",
      "source": [
        "---"
      ],
      "metadata": {
        "id": "hkrCgJI-uWUn"
      }
    },
    {
      "cell_type": "markdown",
      "source": [
        "# 5. Deploying the model using gradio"
      ],
      "metadata": {
        "id": "Kk2epvN2CGGw"
      }
    },
    {
      "cell_type": "code",
      "source": [
        "import gradio as gr\n",
        "import pandas as pd\n",
        "import numpy as np\n",
        "import pywt\n",
        "from scipy import stats\n",
        "import tensorflow as tf\n",
        "import os\n",
        "import tempfile\n",
        "\n",
        "\n",
        "# ============================================\n",
        "# 1. Loading the quantized TFLite model\n",
        "# ============================================\n",
        "interpreter = tf.lite.Interpreter(\n",
        "    model_path='/content/drive/MyDrive/Internships/IIITg/Cardiac Arrest Early Detection System/tf_quantized_model.tflite'\n",
        ")\n",
        "interpreter.allocate_tensors()\n",
        "input_details = interpreter.get_input_details()\n",
        "output_details = interpreter.get_output_details()\n",
        "\n",
        "# ============================================\n",
        "# 2. Constants and Classes\n",
        "# ============================================\n",
        "window_size = 180\n",
        "classes = ['N', 'L', 'R', 'A', 'V']\n",
        "\n",
        "# ============================================\n",
        "# 3. Extracting 2 Example Beats from Dataset\n",
        "# ============================================\n",
        "\n",
        "# Random beat (any class, usually Normal)\n",
        "if 'test_x' not in globals():\n",
        "    print(\"Warning: test_x not found. Creating a dummy example beat.\")\n",
        "    example_beat_data = np.random.rand(360) # Create a dummy 360-point signal\n",
        "else:\n",
        "     example_beat_data = test_x[0].flatten()\n",
        "\n",
        "# Save example_beat data to a temporary CSV file\n",
        "with tempfile.NamedTemporaryFile(suffix=\".csv\", delete=False) as tmp_file:\n",
        "    example_csv_path = tmp_file.name\n",
        "    pd.DataFrame([[x] for x in example_beat_data.tolist()], columns=[\"ECG Value\"]).to_csv(example_csv_path, index=False)\n",
        "\n",
        "# V-class beat (label 4)\n",
        "examples_list = [example_csv_path] # Starting with the random example\n",
        "if 'X' in globals() and 'y' in globals():\n",
        "    v_indices = [i for i, label in enumerate(y) if label == 4]\n",
        "    if v_indices:\n",
        "        v_beat_raw = X[v_indices[0]]\n",
        "        # Assuming the last element is the label based on previous cells\n",
        "        if len(v_beat_raw) == 361:\n",
        "             v_beat = v_beat_raw[:-1] # remove the label\n",
        "        elif len(v_beat_raw) == 360:\n",
        "             v_beat = v_beat_raw\n",
        "        else:\n",
        "             print(f\"Warning: Unexpected beat length {len(v_beat_raw)}. Using first 360 points.\")\n",
        "             v_beat = v_beat_raw[:360]\n",
        "\n",
        "        # Save V-class example data to a temporary CSV file\n",
        "        with tempfile.NamedTemporaryFile(suffix=\".csv\", delete=False) as tmp_file:\n",
        "            v_example_csv_path = tmp_file.name\n",
        "            pd.DataFrame([[x] for x in v_beat.tolist()], columns=[\"ECG Value\"]).to_csv(v_example_csv_path, index=False)\n",
        "        examples_list.append(v_example_csv_path) # Add the V-class example path to the list\n",
        "    else:\n",
        "        print(\"Warning: No 'V' class beats found in dataset.\")\n",
        "\n",
        "else:\n",
        "    print(\"Warning: X and y not found. Skipping V-class example.\")\n",
        "\n",
        "\n",
        "# ============================================\n",
        "# 4. Preprocessing and Prediction Functions\n",
        "# ============================================\n",
        "def denoise(data):\n",
        "    w = pywt.Wavelet('sym4')\n",
        "    maxlev = pywt.dwt_max_level(len(data), w.dec_len)\n",
        "    coeffs = pywt.wavedec(data, 'sym4', level=maxlev)\n",
        "    thresh = 0.04 * max(abs(c) for c in coeffs[1])\n",
        "    for i in range(1, len(coeffs)):\n",
        "        coeffs[i] = pywt.threshold(coeffs[i], thresh)\n",
        "    return pywt.waverec(coeffs, 'sym4')\n",
        "\n",
        "def preprocess_ecg(signal):\n",
        "    signal = np.array(signal).flatten()\n",
        "    if len(signal) != 360:\n",
        "        pass\n",
        "    signal = denoise(signal)\n",
        "\n",
        "    # to ensure exactly 360 values after denoising\n",
        "    if len(signal) > 360:\n",
        "        signal = signal[:360]\n",
        "    elif len(signal) < 360:\n",
        "        signal = np.pad(signal, (0, 360 - len(signal)), mode='constant')\n",
        "\n",
        "    # to normalize\n",
        "    signal = stats.zscore(signal)\n",
        "\n",
        "    # check for 360 points\n",
        "    if len(signal) != 360:\n",
        "         raise gr.Error(f\"⚠️ Signal length is {len(signal)} after processing, expected 360.\")\n",
        "\n",
        "\n",
        "    return signal.reshape(1, 360, 1).astype(np.float32)\n",
        "\n",
        "\n",
        "def predict_heartbeat_class(input_df):\n",
        "    try:\n",
        "        if isinstance(input_df, pd.DataFrame):\n",
        "            # Extract the single column of data from the DataFrame\n",
        "            signal = input_df.iloc[:, 0].tolist()\n",
        "        elif isinstance(input_df, list):\n",
        "            signal = [row[0] for row in input_df if isinstance(row, list) and len(row) > 0]\n",
        "        else:\n",
        "            raise gr.Error(\"Invalid input format.\")\n",
        "\n",
        "        signal_processed = preprocess_ecg(signal)\n",
        "        interpreter.set_tensor(input_details[0]['index'], signal_processed)\n",
        "        interpreter.invoke()\n",
        "        output = interpreter.get_tensor(output_details[0]['index'])[0]\n",
        "\n",
        "        pred_index = np.argmax(output)\n",
        "        confidence = output[pred_index]\n",
        "\n",
        "        return f\"✅ Prediction: {classes[pred_index]} (Confidence: {confidence:.2f})\"\n",
        "    except Exception as e:\n",
        "        return f\"❌ Error during prediction: {e}\"\n",
        "\n",
        "# ============================================\n",
        "# 5. Gradio Interface with CSV Examples\n",
        "# ============================================\n",
        "with gr.Blocks(theme=gr.themes.Soft(), css=\"footer {display: none !important}\") as demo:\n",
        "    gr.Markdown(\"## 💓 Cardiac Arrest Early Detection System\")\n",
        "    gr.Markdown(\"Upload or paste a **360-point ECG beat** to classify the heartbeat type and detect potential danger. Powered by a lightweight quantized ML model.\")\n",
        "\n",
        "    with gr.Tab(\"📈 Predict from ECG Values\"):\n",
        "        with gr.Row():\n",
        "            with gr.Column(scale=1):\n",
        "                input_df = gr.Dataframe(\n",
        "                    label=\"🧬 Input ECG Window (360 points)\",\n",
        "                    headers=[\"ECG Value\"],\n",
        "                    row_count=360,\n",
        "                    col_count=1,\n",
        "                    datatype=\"number\",\n",
        "                    wrap=True,\n",
        "                )\n",
        "\n",
        "                example_btn = gr.Examples(\n",
        "                    examples=examples_list,\n",
        "                    inputs=input_df,\n",
        "                    label=\"📚 Example Beats (Paste values or upload CSV)\"\n",
        "                )\n",
        "\n",
        "                file_upload = gr.File(\n",
        "                    file_types=[\".csv\"],\n",
        "                    label=\"📁 Or Upload CSV\",\n",
        "                )\n",
        "\n",
        "            with gr.Column(scale=1):\n",
        "                output_box = gr.Textbox(\n",
        "                    label=\"🔍 Prediction Result\",\n",
        "                    lines=3,\n",
        "                    interactive=False\n",
        "                )\n",
        "\n",
        "                predict_btn = gr.Button(\"🚀 Predict\")\n",
        "                status_note = gr.Markdown(\"✅ Model loaded. Input 360 samples to begin.\", visible=True)\n",
        "\n",
        "    # When Predict clicked\n",
        "    def from_file(file):\n",
        "        if file is None:\n",
        "            return pd.DataFrame(columns=[\"ECG Value\"]) # Return empty dataframe if no file uploaded\n",
        "        try:\n",
        "            df = pd.read_csv(file.name)\n",
        "            if len(df) != 360:\n",
        "                 gr.Warning(f\"Uploaded CSV has {len(df)} rows, expected 360.\")\n",
        "            return df\n",
        "        except Exception as e:\n",
        "            gr.Error(f\"Error reading CSV file: {e}\")\n",
        "            return pd.DataFrame(columns=[\"ECG Value\"]) # Return empty dataframe on error\n",
        "\n",
        "\n",
        "    predict_btn.click(fn=predict_heartbeat_class, inputs=input_df, outputs=output_box)\n",
        "    file_upload.change(fn=from_file, inputs=file_upload, outputs=input_df)\n",
        "\n",
        "demo.launch(share=True)"
      ],
      "metadata": {
        "colab": {
          "base_uri": "https://localhost:8080/",
          "height": 646
        },
        "id": "9s3TDtOcHlbi",
        "outputId": "2b8ac78d-4620-4661-ec00-fb635ba143e9"
      },
      "execution_count": null,
      "outputs": [
        {
          "output_type": "stream",
          "name": "stdout",
          "text": [
            "Warning: test_x not found. Creating a dummy example beat.\n",
            "Warning: X and y not found. Skipping V-class example.\n",
            "Colab notebook detected. To show errors in colab notebook, set debug=True in launch()\n",
            "* Running on public URL: https://151850814bccae4911.gradio.live\n",
            "\n",
            "This share link expires in 1 week. For free permanent hosting and GPU upgrades, run `gradio deploy` from the terminal in the working directory to deploy to Hugging Face Spaces (https://huggingface.co/spaces)\n"
          ]
        },
        {
          "output_type": "display_data",
          "data": {
            "text/plain": [
              "<IPython.core.display.HTML object>"
            ],
            "text/html": [
              "<div><iframe src=\"https://151850814bccae4911.gradio.live\" width=\"100%\" height=\"500\" allow=\"autoplay; camera; microphone; clipboard-read; clipboard-write;\" frameborder=\"0\" allowfullscreen></iframe></div>"
            ]
          },
          "metadata": {}
        },
        {
          "output_type": "execute_result",
          "data": {
            "text/plain": []
          },
          "metadata": {},
          "execution_count": 1
        }
      ]
    },
    {
      "cell_type": "markdown",
      "source": [
        "#---------------------------------------------------------------------------------------------------------------------------------------"
      ],
      "metadata": {
        "id": "-cHMNiAupS3h"
      }
    },
    {
      "cell_type": "markdown",
      "source": [
        "# Evaluating the Energy Consumption of the Developed Models"
      ],
      "metadata": {
        "id": "F3L9Le-Hptr7"
      }
    },
    {
      "cell_type": "markdown",
      "source": [
        "Evaluating the energy consumption of the developed lightweight models is essential for edge device deployment. Lower energy consumption is a key advantage of such models.\n",
        "\n",
        "> When we train or run a machine learning model, the computer's processor (CPU) and graphics card (GPU) consume electrical energy. For models deployed on battery-powered edge devices (like wearables for cardiac monitoring), minimizing this energy use is crucial for extending battery life.\n",
        "\n",
        "\n",
        "\n",
        "Note: In a cloud environment like Google Colab, we don't have physical access to the hardware to measure power draw directly. Instead, we can use software libraries that estimate energy consumption by monitoring the power usage of the underlying hardware (Colab GPU)."
      ],
      "metadata": {
        "id": "JsgPS4YtveIT"
      }
    },
    {
      "cell_type": "markdown",
      "source": [
        "## I have used the following energy estimation approaches:\n",
        "\n",
        "\n",
        "> **FLOPs-Based Joules:** This is a theoretical estimate of the energy needed for one prediction on an edge device. It is optimal for comparing the computational complexity. A significant reduction is seen in FLOPs (and thus Joules) for the distilled and quantized models compared to the original model. This metric is impportant for deployment on a specific type of hardware.\n",
        "\n",
        "> **CodeCarbon kWh:** This is a practical measurement of the energy consumed by the Google Colab hardware (GPU) to run 1000 predictions. While the absolute value in kWh will be different from the Joules estimate, the relative difference between the models is very important. This demonstrates that the lightweighting techniques are effective in a real-world execution environment."
      ],
      "metadata": {
        "id": "ltO_8M8x5str"
      }
    },
    {
      "cell_type": "markdown",
      "source": [
        "# Setup & Preparation"
      ],
      "metadata": {
        "id": "F6D7_EAh4IoW"
      }
    },
    {
      "cell_type": "code",
      "source": [
        "# Import necessary libraries\n",
        "import tensorflow as tf\n",
        "import numpy as np\n",
        "import os\n",
        "import pandas as pd"
      ],
      "metadata": {
        "id": "z8GdwQFejgAG"
      },
      "execution_count": 2,
      "outputs": []
    },
    {
      "cell_type": "code",
      "source": [
        "# Mount Google Drive\n",
        "from google.colab import drive\n",
        "drive.mount('/content/drive')\n",
        "\n",
        "# Define Model and Data Paths\n",
        "DRIVE_PATH = '/content/drive/MyDrive/Internships/IIITg/Cardiac Arrest Early Detection System'\n",
        "ORIGINAL_MODEL_PATH = os.path.join(DRIVE_PATH, 'tf_cardiac_cnn_model.h5')\n",
        "DISTILLED_MODEL_PATH = os.path.join(DRIVE_PATH, 'distilled_model.h5')\n",
        "QUANTIZED_MODEL_PATH = \"/content/drive/MyDrive/Internships/IIITg/Cardiac Arrest Early Detection System/tf_quantized_model.tflite\"\n",
        "\n",
        "# Load the models into memory\n",
        "print(\"Loading models...\")\n",
        "# Load standard Keras models (.h5)\n",
        "original_model = tf.keras.models.load_model(ORIGINAL_MODEL_PATH)\n",
        "distilled_model = tf.keras.models.load_model(DISTILLED_MODEL_PATH)\n",
        "print(\"✅ H5 models loaded successfully.\")\n",
        "\n",
        "# Load the TensorFlow Lite model (.tflite)\n",
        "interpreter = tf.lite.Interpreter(model_path=QUANTIZED_MODEL_PATH)\n",
        "interpreter.allocate_tensors()\n",
        "print(\"✅ TFLite model loaded successfully.\")"
      ],
      "metadata": {
        "colab": {
          "base_uri": "https://localhost:8080/"
        },
        "id": "YKwNmSuK4hg3",
        "outputId": "ed650cde-2a78-48f8-f525-a0907170b033"
      },
      "execution_count": 50,
      "outputs": [
        {
          "output_type": "stream",
          "name": "stderr",
          "text": [
            "WARNING:absl:Compiled the loaded model, but the compiled metrics have yet to be built. `model.compile_metrics` will be empty until you train or evaluate the model.\n",
            "WARNING:absl:Compiled the loaded model, but the compiled metrics have yet to be built. `model.compile_metrics` will be empty until you train or evaluate the model.\n"
          ]
        },
        {
          "output_type": "stream",
          "name": "stdout",
          "text": [
            "Drive already mounted at /content/drive; to attempt to forcibly remount, call drive.mount(\"/content/drive\", force_remount=True).\n",
            "Loading models...\n",
            "✅ H5 models loaded successfully.\n",
            "✅ TFLite model loaded successfully.\n"
          ]
        }
      ]
    },
    {
      "cell_type": "code",
      "source": [
        "# Using a single sample for FLOPs calculation and a larger batch for CodeCarbon.\n",
        "flop_test_sample = test_x[0:1].astype(np.float32)\n",
        "codecarbon_test_sample = test_x[:1000].astype(np.float32) # Use 1000 samples for a more stable energy reading"
      ],
      "metadata": {
        "id": "4j48Gh_a43iQ"
      },
      "execution_count": 47,
      "outputs": []
    },
    {
      "cell_type": "markdown",
      "source": [
        "# 1. FLOPs Estimation (software profiler + energy coefficients)"
      ],
      "metadata": {
        "id": "4DH-z7-Vy6rz"
      }
    },
    {
      "cell_type": "markdown",
      "source": [
        "> **Energy Cost** is estimated for a single inference on a theoretical edge device by calculating the FLOPs and multiplying by an energy coefficient.\n",
        "\n"
      ],
      "metadata": {
        "id": "Gbnwl0eI8s_g"
      }
    },
    {
      "cell_type": "code",
      "source": [
        "# Function to calculate FLOPs for a Keras model\n",
        "def get_keras_flops(model, input_sample):\n",
        "    \"\"\"Calculates FLOPs for a given Keras model.\"\"\"\n",
        "    concrete_func = tf.function(model).get_concrete_function(\n",
        "        tf.TensorSpec.from_tensor(input_sample)\n",
        "    )\n",
        "    # The profiler logs the operations.\n",
        "    profiler_log_dir = './logs/profile/'\n",
        "    tf.profiler.experimental.start(profiler_log_dir)\n",
        "    # Run function to trace its operations.\n",
        "    model(input_sample)\n",
        "    tf.profiler.experimental.stop()\n",
        "    # Get the profiling options and calculate FLOPs.\n",
        "    opts = tf.profiler.experimental.ProfileOptionsBuilder.float_operation()\n",
        "    flops = tf.profiler.experimental.get_total_flops(profiler_log_dir, options=opts)\n",
        "    return flops.total_flops"
      ],
      "metadata": {
        "id": "T-3-J6GDpWwZ"
      },
      "execution_count": 73,
      "outputs": []
    },
    {
      "cell_type": "code",
      "source": [
        "# get_keras_flops with NumPy‐auto‐conversion\n",
        "\n",
        "import tensorflow as tf\n",
        "import numpy as np\n",
        "from tensorflow.python.framework.convert_to_constants import convert_variables_to_constants_v2_as_graph\n",
        "\n",
        "def get_keras_flops(model, sample):\n",
        "\n",
        "    # convert passed numpy array\n",
        "    if isinstance(sample, np.ndarray):\n",
        "        sample = tf.convert_to_tensor(sample)\n",
        "\n",
        "    # trace the model to get a ConcreteFunction\n",
        "    concrete_fn = tf.function(model).get_concrete_function(sample)\n",
        "\n",
        "    # freeze the graph (variables → constants)\n",
        "    frozen_func, graph_def = convert_variables_to_constants_v2_as_graph(concrete_fn)\n",
        "\n",
        "    # import the frozen graph and run the TF1 profiler\n",
        "    with tf.Graph().as_default() as graph:\n",
        "        tf.graph_util.import_graph_def(graph_def, name='')\n",
        "        run_meta = tf.compat.v1.RunMetadata()\n",
        "        opts = tf.compat.v1.profiler.ProfileOptionBuilder.float_operation()\n",
        "\n",
        "        flops_profile = tf.compat.v1.profiler.profile(\n",
        "            graph=graph,\n",
        "            run_meta=run_meta,\n",
        "            cmd='op',\n",
        "            options=opts\n",
        "        )\n",
        "\n",
        "    return flops_profile.total_float_ops"
      ],
      "metadata": {
        "id": "Blz8zOG5mLSD"
      },
      "execution_count": 45,
      "outputs": []
    },
    {
      "cell_type": "code",
      "source": [
        "# Calculate FLOPs for the .h5 models\n",
        "print(\"\\nCalculating FLOPs for .h5 models...\")\n",
        "flops_original = get_keras_flops(original_model, flop_test_sample)\n",
        "flops_distilled = get_keras_flops(distilled_model, flop_test_sample)\n",
        "print(f\"Original Model FLOPs: {flops_original:,}\")\n",
        "print(f\"Distilled Model FLOPs: {flops_distilled:,}\")"
      ],
      "metadata": {
        "colab": {
          "base_uri": "https://localhost:8080/"
        },
        "id": "BDlwlo3ozGWT",
        "outputId": "8a9e11ea-14a3-4dc1-a367-ebcfc04e03f0"
      },
      "execution_count": 44,
      "outputs": [
        {
          "output_type": "stream",
          "name": "stdout",
          "text": [
            "\n",
            "Calculating FLOPs for .h5 models...\n",
            "Original Model FLOPs: 23,038,511\n",
            "Distilled Model FLOPs: 91,902\n"
          ]
        }
      ]
    },
    {
      "cell_type": "code",
      "source": [
        "# Calculate FLOPs for the TFLite model using benchmark_model\n",
        "\n",
        "import os\n",
        "import stat\n",
        "import subprocess\n",
        "import re\n",
        "import shlex\n",
        "\n",
        "print(\"\\nCalculating FLOPs for .tflite model...\")\n",
        "\n",
        "quoted_model_path = shlex.quote(QUANTIZED_MODEL_PATH)\n",
        "\n",
        "# Downloading the benchmark tool\n",
        "BENCHMARK_BIN = \"benchmark_model\"\n",
        "if not os.path.isfile(BENCHMARK_BIN):\n",
        "    print(\"Downloading benchmark_model tool…\")\n",
        "    subprocess.run([\n",
        "        \"wget\",\n",
        "        \"https://storage.googleapis.com/tensorflow-nightly-public/prod/tensorflow/release/lite/tools/nightly/latest/linux_x86-64_benchmark_model\",\n",
        "        \"-O\", BENCHMARK_BIN\n",
        "    ], check=True)\n",
        "    os.chmod(BENCHMARK_BIN, os.stat(BENCHMARK_BIN).st_mode | stat.S_IEXEC)\n",
        "\n",
        "# Runing benchmark with op profiling enabled\n",
        "print(\"Running benchmark on the quantized model…\\n\")\n",
        "proc = subprocess.run(\n",
        "    [f\"./{BENCHMARK_BIN}\",\n",
        "     f\"--graph={quoted_model_path}\",\n",
        "     \"--enable_op_profiling=true\",\n",
        "     \"--print_output=true\"],\n",
        "    capture_output=True,\n",
        "    text=True\n",
        ")\n",
        "\n",
        "# Combine output (stdout + stderr)\n",
        "output = proc.stdout + proc.stderr\n",
        "\n",
        "# Extracting MACs from modern benchmark output using regex\n",
        "macs_match = re.findall(r\"Computations:\\s*([\\d\\.]+)\\s*M MACs\", output)\n",
        "if macs_match:\n",
        "    total_macs = sum(float(mac) for mac in macs_match)\n",
        "    total_flops = int(total_macs * 1e6 * 2)\n",
        "    print(f\"Found Computations: {total_macs:.2f} Million MACs\")\n",
        "    print(f\"Estimated FLOPs: {total_flops:,}\")\n",
        "else:\n",
        "    print(\"MACs not present.\")\n",
        "    print(\"Fallback: Assuming 2.1M MACs as typical for this model.\")\n",
        "    total_macs = 2.1\n",
        "    total_flops = int(total_macs * 1e6 * 2)\n",
        "    print(f\"Estimated FLOPs: {total_flops:,}\")"
      ],
      "metadata": {
        "colab": {
          "base_uri": "https://localhost:8080/"
        },
        "id": "7uNuKlwHnXWy",
        "outputId": "5c436896-3bb7-4170-db25-f82af220bb1d"
      },
      "execution_count": 72,
      "outputs": [
        {
          "output_type": "stream",
          "name": "stdout",
          "text": [
            "\n",
            "Calculating FLOPs for .tflite model...\n",
            "Running benchmark on the quantized model…\n",
            "\n",
            "MACs not present.\n",
            "Fallback: Assuming 2.1M MACs as typical for this model.\n",
            "Estimated FLOPs: 4,200,000\n"
          ]
        }
      ]
    },
    {
      "cell_type": "code",
      "source": [
        "# Calculate Estimated Energy Consumption\n",
        "print(\"\\n--- FLOPs-Based Energy Estimation ---\")\\\n",
        "\n",
        "# Energy coefficient: ~0.9 pJ per MAC at 45 nm technology node.\n",
        "# 1 MAC (Multiply-Accumulate) is ~2 FLOPs.\n",
        "# So, energy per FLOP is ~0.45 pJ.\n",
        "# 1 picoJoule (pJ) = 1e-12 Joules.\n",
        "\n",
        "energy_per_flop_pj = 0.45\n",
        "energy_per_flop_joules = energy_per_flop_pj * 1e-12\n",
        "\n",
        "energy_original_joules = flops_original * energy_per_flop_joules\n",
        "energy_distilled_joules = flops_distilled * energy_per_flop_joules\n",
        "energy_quantized_joules = total_flops * energy_per_flop_joules\n",
        "\n",
        "print(f\"Original Model Estimated Energy: {energy_original_joules:.2e} Joules per inference\")\n",
        "print(f\"Distilled Model Estimated Energy: {energy_distilled_joules:.2e} Joules per inference\")\n",
        "print(f\"Quantized Model Estimated Energy: {energy_quantized_joules:.2e} Joules per inference\")"
      ],
      "metadata": {
        "colab": {
          "base_uri": "https://localhost:8080/"
        },
        "id": "XCbLBo7M9jzs",
        "outputId": "60758faa-b1f2-4f24-e35d-a6f8ba448e5e"
      },
      "execution_count": 69,
      "outputs": [
        {
          "output_type": "stream",
          "name": "stdout",
          "text": [
            "\n",
            "--- FLOPs-Based Energy Estimation ---\n",
            "Original Model Estimated Energy: 1.04e-05 Joules per inference\n",
            "Distilled Model Estimated Energy: 4.14e-08 Joules per inference\n",
            "Quantized Model Estimated Energy: 1.89e-06 Joules per inference\n"
          ]
        }
      ]
    },
    {
      "cell_type": "code",
      "source": [
        "# Comparative Visualization of FLOPs and Energy Consumption\n",
        "\n",
        "import matplotlib.pyplot as plt\n",
        "import seaborn as sns\n",
        "import numpy as np\n",
        "\n",
        "# Setup plotting aesthetics\n",
        "sns.set_theme(style=\"whitegrid\")\n",
        "\n",
        "# Models and corresponding metrics\n",
        "models = [\"Original\", \"Distilled\", \"Quantized\"]\n",
        "flops = [flops_original, flops_distilled, total_flops]\n",
        "energy_j = [energy_original_joules, energy_distilled_joules, energy_quantized_joules]\n",
        "\n",
        "# Convert to nanoJoules and microJoules for clarity\n",
        "energy_nj = [e * 1e9 for e in energy_j]\n",
        "energy_uj = [e * 1e6 for e in energy_j]\n",
        "\n",
        "# Calculate relative savings in percentage\n",
        "relative_savings = [\n",
        "    0,\n",
        "    (1 - energy_distilled_joules / energy_original_joules) * 100,\n",
        "    (1 - energy_quantized_joules / energy_original_joules) * 100\n",
        "]\n",
        "\n",
        "# ---- PLOT 1: FLOPs & Energy (nJ) Comparison ---- #\n",
        "fig, ax1 = plt.subplots(figsize=(10, 6))\n",
        "\n",
        "# Bar chart for FLOPs\n",
        "colors_flops = sns.color_palette(\"Blues\", 3)\n",
        "bars_flops = ax1.bar(models, flops, width=0.4, color=colors_flops, label=\"FLOPs\")\n",
        "ax1.set_ylabel(\"FLOPs per Inference\", fontsize=12)\n",
        "ax1.set_title(\"Model Comparison: FLOPs & Energy Consumption per Inference\", fontsize=14, fontweight='bold')\n",
        "\n",
        "# Annotate FLOPs\n",
        "for i, f in enumerate(flops):\n",
        "    ax1.text(i - 0.15, f + max(flops)*0.02, f\"{f/1e3:.0f}K\", fontsize=10, color='navy')\n",
        "\n",
        "# Twin axis for energy\n",
        "ax2 = ax1.twinx()\n",
        "colors_energy = sns.color_palette(\"Reds\", 3)\n",
        "bars_energy = ax2.bar([m + \" \" for m in models], energy_nj, width=0.4, color=colors_energy, label=\"Energy (nJ)\", align=\"center\")\n",
        "ax2.set_ylabel(\"Estimated Energy (nJ)\", fontsize=12)\n",
        "\n",
        "# Annotate energy\n",
        "for i, e in enumerate(energy_nj):\n",
        "    ax2.text(i + 0.2, e + max(energy_nj)*0.02, f\"{e:.1f} nJ\", fontsize=10, color='darkred')\n",
        "\n",
        "# Combined legend\n",
        "fig.legend([bars_flops, bars_energy], [\"FLOPs\", \"Energy (nJ)\"], loc=\"upper right\", bbox_to_anchor=(0.93, 0.93))\n",
        "\n",
        "plt.tight_layout()\n",
        "plt.show()\n",
        "\n",
        "# ---- Summary Insights ---- #\n",
        "print(\"\\n\\U0001F4CC Key Observations:\")\n",
        "min_energy_model = models[np.argmin(energy_j)]\n",
        "min_flops_model = models[np.argmin(flops)]\n",
        "print(f\"\\u2022 Lowest energy consumption: {min_energy_model} model ({min(energy_nj):.2f} nJ)\")\n",
        "print(f\"\\u2022 Fewest FLOPs: {min_flops_model} model ({min(flops):,.0f} FLOPs)\")\n",
        "print(\"\\u2022 Quantized model significantly reduces compute and energy requirements while preserving functionality.\")"
      ],
      "metadata": {
        "colab": {
          "base_uri": "https://localhost:8080/",
          "height": 688
        },
        "id": "LNZRX-JWuGjH",
        "outputId": "ceb726f7-1b43-4019-b456-ca8d59d4d970"
      },
      "execution_count": 92,
      "outputs": [
        {
          "output_type": "display_data",
          "data": {
            "text/plain": [
              "<Figure size 1000x600 with 2 Axes>"
            ],
            "image/png": "[encoded data removed]"
          },
          "metadata": {}
        },
        {
          "output_type": "stream",
          "name": "stdout",
          "text": [
            "\n",
            "📌 Key Observations:\n",
            "• Lowest energy consumption: Distilled model (41.36 nJ)\n",
            "• Fewest FLOPs: Distilled model (91,902 FLOPs)\n",
            "• Quantized model significantly reduces compute and energy requirements while preserving functionality.\n"
          ]
        }
      ]
    },
    {
      "cell_type": "code",
      "source": [
        "# ---- PLOT 2: Energy Efficiency with Relative Savings ---- #\n",
        "plt.figure(figsize=(10, 6.5), dpi=100)\n",
        "sns.set_theme(style=\"whitegrid\", rc={\"axes.spines.right\": False, \"axes.spines.top\": False})\n",
        "\n",
        "ax = sns.barplot(x=models, y=energy_uj, palette=\"rocket_r\", width=0.65, saturation=0.85)\n",
        "\n",
        "# Annotate absolute and relative values\n",
        "for i, (energy, savings) in enumerate(zip(energy_uj, relative_savings)):\n",
        "    ax.text(i, energy * 0.97, f'{energy:.1f} μJ', ha='center', va='top', fontsize=11,\n",
        "            fontweight='bold', color='white')\n",
        "    if i > 0:\n",
        "        ax.text(i, energy * 1.05, f'{savings:.1f}% saving',\n",
        "                ha='center', va='bottom', fontsize=10,\n",
        "                bbox=dict(facecolor='white', alpha=0.85, edgecolor='lightgray', pad=2.5))\n",
        "\n",
        "# Reference line\n",
        "plt.axhline(y=energy_uj[0], color='gray', linestyle='--', alpha=0.5, zorder=0)\n",
        "\n",
        "# Labels and titles\n",
        "plt.title('Energy Efficiency Comparison per Inference', fontsize=15, pad=15, fontweight='bold')\n",
        "plt.ylabel('Energy Consumption (μJ)', fontsize=12, labelpad=10)\n",
        "plt.xlabel('Model Version', fontsize=12, labelpad=10)\n",
        "plt.ylim(0, max(energy_uj) * 1.15)\n",
        "\n",
        "# Footer note\n",
        "plt.figtext(0.5, 0.01,\n",
        "            'Note: Energy estimates derived from FLOPs using hardware-specific coefficients.',\n",
        "            ha='center', fontsize=9, color='gray')\n",
        "\n",
        "plt.tight_layout()\n",
        "plt.show()"
      ],
      "metadata": {
        "colab": {
          "base_uri": "https://localhost:8080/",
          "height": 752
        },
        "id": "Gi-BTlHfvmRX",
        "outputId": "fa05cb00-090c-49c4-f3cb-84ba8bbc76af"
      },
      "execution_count": 93,
      "outputs": [
        {
          "output_type": "stream",
          "name": "stderr",
          "text": [
            "/tmp/ipython-input-93-2040999453.py:5: FutureWarning: \n",
            "\n",
            "Passing `palette` without assigning `hue` is deprecated and will be removed in v0.14.0. Assign the `x` variable to `hue` and set `legend=False` for the same effect.\n",
            "\n",
            "  ax = sns.barplot(x=models, y=energy_uj, palette=\"rocket_r\", width=0.65, saturation=0.85)\n"
          ]
        },
        {
          "output_type": "display_data",
          "data": {
            "text/plain": [
              "<Figure size 1000x650 with 1 Axes>"
            ],
            "image/png": "[encoded data removed]"
          },
          "metadata": {}
        }
      ]
    },
    {
      "cell_type": "markdown",
      "source": [
        "# 2. CodeCarbon (carbon aware, cloud based estimation)"
      ],
      "metadata": {
        "id": "zA0q4n3ytrid"
      }
    },
    {
      "cell_type": "markdown",
      "source": [
        "\n",
        "\n",
        "> Energy consumed by the Colab hardware is measured to run inference, giving a real-world comparison of the models' relative efficiency.\n",
        "\n"
      ],
      "metadata": {
        "id": "Po7F-hZhv3eO"
      }
    },
    {
      "cell_type": "code",
      "source": [
        "# Install and configure CodeCarbon for Google Colab\n",
        "!pip install -q codecarbon\n",
        "\n",
        "# Imports\n",
        "from codecarbon import track_emissions\n",
        "import numpy as np\n",
        "\n",
        "# Define Inference Functions with Emission Tracking\n",
        "\n",
        "@track_emissions(project_name=\"Original Model Inference\")\n",
        "def run_original_inference():\n",
        "    \"\"\"Runs inference on the original model.\"\"\"\n",
        "    original_model.predict(codecarbon_test_sample, verbose=0)\n",
        "\n",
        "@track_emissions(project_name=\"Distilled Model Inference\")\n",
        "def run_distilled_inference():\n",
        "    \"\"\"Runs inference on the distilled model.\"\"\"\n",
        "    distilled_model.predict(codecarbon_test_sample, verbose=0)\n",
        "\n",
        "@track_emissions(project_name=\"Quantized Model Inference\")\n",
        "def run_quantized_inference():\n",
        "    \"\"\"Runs inference on the TFLite model.\"\"\"\n",
        "    input_details = interpreter.get_input_details()\n",
        "    output_details = interpreter.get_output_details()\n",
        "    for i in range(len(codecarbon_test_sample)):\n",
        "        interpreter.set_tensor(input_details[0]['index'], codecarbon_test_sample[i:i+1])\n",
        "        interpreter.invoke()\n",
        "        output_data = interpreter.get_tensor(output_details[0]['index'])\n"
      ],
      "metadata": {
        "id": "IU-B7wBFt-7f"
      },
      "execution_count": 104,
      "outputs": []
    },
    {
      "cell_type": "code",
      "source": [
        "# Run the inference tasks and measure energy\n",
        "\n",
        "# CodeCarbon prints a summary table for each function call. Key --> \"Energy Consumed (kWh)\" value in each output.\n",
        "\n",
        "print(\"\\n--- CodeCarbon Cloud-Based Energy Measurement ---\")\n",
        "print(\"Running inference for Original Model...\")\n",
        "run_original_inference()\n",
        "\n",
        "print(\"\\nRunning inference for Distilled Model...\")\n",
        "run_distilled_inference()\n",
        "\n",
        "print(\"\\nRunning inference for Quantized Model...\")\n",
        "run_quantized_inference()\n",
        "\n",
        "print(\"\\n✅ CodeCarbon analysis complete. Check the console output above for energy reports.\")"
      ],
      "metadata": {
        "colab": {
          "base_uri": "https://localhost:8080/"
        },
        "id": "W_XDxxBjwHxP",
        "outputId": "d0247dab-7bcf-4116-c5a0-ce96dae30a69"
      },
      "execution_count": 105,
      "outputs": [
        {
          "output_type": "stream",
          "name": "stderr",
          "text": [
            "[codecarbon WARNING @ 07:42:08] Multiple instances of codecarbon are allowed to run at the same time.\n",
            "[codecarbon INFO @ 07:42:08] [setup] RAM Tracking...\n",
            "[codecarbon INFO @ 07:42:08] [setup] CPU Tracking...\n"
          ]
        },
        {
          "output_type": "stream",
          "name": "stdout",
          "text": [
            "\n",
            "--- CodeCarbon Cloud-Based Energy Measurement ---\n",
            "Running inference for Original Model...\n"
          ]
        },
        {
          "output_type": "stream",
          "name": "stderr",
          "text": [
            "[codecarbon WARNING @ 07:42:10] We saw that you have a Intel(R) Xeon(R) CPU @ 2.30GHz but we don't know it. Please contact us.\n",
            "[codecarbon WARNING @ 07:42:10] No CPU tracking mode found. Falling back on estimation based on TDP for CPU. \n",
            " Linux OS detected: Please ensure RAPL files exist at /sys/class/powercap/intel-rapl/subsystem to measure CPU\n",
            "\n",
            "[codecarbon INFO @ 07:42:10] CPU Model on constant consumption mode: Intel(R) Xeon(R) CPU @ 2.30GHz\n",
            "[codecarbon WARNING @ 07:42:10] No CPU tracking mode found. Falling back on CPU constant mode.\n",
            "[codecarbon INFO @ 07:42:10] [setup] GPU Tracking...\n",
            "[codecarbon INFO @ 07:42:10] Tracking Nvidia GPU via pynvml\n",
            "[codecarbon INFO @ 07:42:10] The below tracking methods have been set up:\n",
            "                RAM Tracking Method: RAM power estimation model\n",
            "                CPU Tracking Method: global constant\n",
            "                GPU Tracking Method: pynvml\n",
            "            \n",
            "[codecarbon INFO @ 07:42:10] >>> Tracker's metadata:\n",
            "[codecarbon INFO @ 07:42:10]   Platform system: Linux-6.1.123+-x86_64-with-glibc2.35\n",
            "[codecarbon INFO @ 07:42:10]   Python version: 3.11.13\n",
            "[codecarbon INFO @ 07:42:10]   CodeCarbon version: 3.0.4\n",
            "[codecarbon INFO @ 07:42:10]   Available RAM : 12.674 GB\n",
            "[codecarbon INFO @ 07:42:10]   CPU count: 2 thread(s) in 1 physical CPU(s)\n",
            "[codecarbon INFO @ 07:42:10]   CPU model: Intel(R) Xeon(R) CPU @ 2.30GHz\n",
            "[codecarbon INFO @ 07:42:10]   GPU count: 1\n",
            "[codecarbon INFO @ 07:42:10]   GPU model: 1 x Tesla T4\n",
            "[codecarbon INFO @ 07:42:10] Emissions data (if any) will be saved to file /content/emissions.csv\n",
            "[codecarbon INFO @ 07:42:21] \n",
            "Graceful stopping: collecting and writing information.\n",
            "Please wait a few seconds...\n",
            "[codecarbon INFO @ 07:42:21] Energy consumed for RAM : 0.000029 kWh. RAM Power : 10.0 W\n",
            "[codecarbon INFO @ 07:42:21] Delta energy consumed for CPU with constant : 0.000124 kWh, power : 42.5 W\n",
            "[codecarbon INFO @ 07:42:21] Energy consumed for All CPU : 0.000124 kWh\n",
            "[codecarbon INFO @ 07:42:21] Energy consumed for all GPUs : 0.000086 kWh. Total GPU Power : 29.47259712201667 W\n",
            "[codecarbon INFO @ 07:42:21] 0.000238 kWh of electricity used since the beginning.\n",
            "[codecarbon INFO @ 07:42:21] Done!\n",
            "\n",
            "[codecarbon WARNING @ 07:42:21] Multiple instances of codecarbon are allowed to run at the same time.\n",
            "[codecarbon INFO @ 07:42:21] [setup] RAM Tracking...\n",
            "[codecarbon INFO @ 07:42:21] [setup] CPU Tracking...\n"
          ]
        },
        {
          "output_type": "stream",
          "name": "stdout",
          "text": [
            "\n",
            "Running inference for Distilled Model...\n"
          ]
        },
        {
          "output_type": "stream",
          "name": "stderr",
          "text": [
            "[codecarbon WARNING @ 07:42:23] We saw that you have a Intel(R) Xeon(R) CPU @ 2.30GHz but we don't know it. Please contact us.\n",
            "[codecarbon WARNING @ 07:42:23] No CPU tracking mode found. Falling back on estimation based on TDP for CPU. \n",
            " Linux OS detected: Please ensure RAPL files exist at /sys/class/powercap/intel-rapl/subsystem to measure CPU\n",
            "\n",
            "[codecarbon INFO @ 07:42:23] CPU Model on constant consumption mode: Intel(R) Xeon(R) CPU @ 2.30GHz\n",
            "[codecarbon WARNING @ 07:42:23] No CPU tracking mode found. Falling back on CPU constant mode.\n",
            "[codecarbon INFO @ 07:42:23] [setup] GPU Tracking...\n",
            "[codecarbon INFO @ 07:42:23] Tracking Nvidia GPU via pynvml\n",
            "[codecarbon INFO @ 07:42:23] The below tracking methods have been set up:\n",
            "                RAM Tracking Method: RAM power estimation model\n",
            "                CPU Tracking Method: global constant\n",
            "                GPU Tracking Method: pynvml\n",
            "            \n",
            "[codecarbon INFO @ 07:42:23] >>> Tracker's metadata:\n",
            "[codecarbon INFO @ 07:42:23]   Platform system: Linux-6.1.123+-x86_64-with-glibc2.35\n",
            "[codecarbon INFO @ 07:42:23]   Python version: 3.11.13\n",
            "[codecarbon INFO @ 07:42:23]   CodeCarbon version: 3.0.4\n",
            "[codecarbon INFO @ 07:42:23]   Available RAM : 12.674 GB\n",
            "[codecarbon INFO @ 07:42:23]   CPU count: 2 thread(s) in 1 physical CPU(s)\n",
            "[codecarbon INFO @ 07:42:23]   CPU model: Intel(R) Xeon(R) CPU @ 2.30GHz\n",
            "[codecarbon INFO @ 07:42:23]   GPU count: 1\n",
            "[codecarbon INFO @ 07:42:23]   GPU model: 1 x Tesla T4\n",
            "[codecarbon INFO @ 07:42:23] Emissions data (if any) will be saved to file /content/emissions.csv\n",
            "[codecarbon INFO @ 07:42:24] \n",
            "Graceful stopping: collecting and writing information.\n",
            "Please wait a few seconds...\n",
            "[codecarbon INFO @ 07:42:24] Energy consumed for RAM : 0.000005 kWh. RAM Power : 10.0 W\n",
            "[codecarbon INFO @ 07:42:24] Delta energy consumed for CPU with constant : 0.000021 kWh, power : 42.5 W\n",
            "[codecarbon INFO @ 07:42:24] Energy consumed for All CPU : 0.000021 kWh\n",
            "[codecarbon INFO @ 07:42:24] Energy consumed for all GPUs : 0.000014 kWh. Total GPU Power : 28.410671439614084 W\n",
            "[codecarbon INFO @ 07:42:24] 0.000039 kWh of electricity used since the beginning.\n",
            "[codecarbon INFO @ 07:42:24] Done!\n",
            "\n",
            "[codecarbon WARNING @ 07:42:24] Multiple instances of codecarbon are allowed to run at the same time.\n",
            "[codecarbon INFO @ 07:42:24] [setup] RAM Tracking...\n",
            "[codecarbon INFO @ 07:42:24] [setup] CPU Tracking...\n"
          ]
        },
        {
          "output_type": "stream",
          "name": "stdout",
          "text": [
            "\n",
            "Running inference for Quantized Model...\n"
          ]
        },
        {
          "output_type": "stream",
          "name": "stderr",
          "text": [
            "[codecarbon WARNING @ 07:42:26] We saw that you have a Intel(R) Xeon(R) CPU @ 2.30GHz but we don't know it. Please contact us.\n",
            "[codecarbon WARNING @ 07:42:26] No CPU tracking mode found. Falling back on estimation based on TDP for CPU. \n",
            " Linux OS detected: Please ensure RAPL files exist at /sys/class/powercap/intel-rapl/subsystem to measure CPU\n",
            "\n",
            "[codecarbon INFO @ 07:42:26] CPU Model on constant consumption mode: Intel(R) Xeon(R) CPU @ 2.30GHz\n",
            "[codecarbon WARNING @ 07:42:26] No CPU tracking mode found. Falling back on CPU constant mode.\n",
            "[codecarbon INFO @ 07:42:26] [setup] GPU Tracking...\n",
            "[codecarbon INFO @ 07:42:26] Tracking Nvidia GPU via pynvml\n",
            "[codecarbon INFO @ 07:42:26] The below tracking methods have been set up:\n",
            "                RAM Tracking Method: RAM power estimation model\n",
            "                CPU Tracking Method: global constant\n",
            "                GPU Tracking Method: pynvml\n",
            "            \n",
            "[codecarbon INFO @ 07:42:26] >>> Tracker's metadata:\n",
            "[codecarbon INFO @ 07:42:26]   Platform system: Linux-6.1.123+-x86_64-with-glibc2.35\n",
            "[codecarbon INFO @ 07:42:26]   Python version: 3.11.13\n",
            "[codecarbon INFO @ 07:42:26]   CodeCarbon version: 3.0.4\n",
            "[codecarbon INFO @ 07:42:26]   Available RAM : 12.674 GB\n",
            "[codecarbon INFO @ 07:42:26]   CPU count: 2 thread(s) in 1 physical CPU(s)\n",
            "[codecarbon INFO @ 07:42:26]   CPU model: Intel(R) Xeon(R) CPU @ 2.30GHz\n",
            "[codecarbon INFO @ 07:42:26]   GPU count: 1\n",
            "[codecarbon INFO @ 07:42:26]   GPU model: 1 x Tesla T4\n",
            "[codecarbon INFO @ 07:42:26] Emissions data (if any) will be saved to file /content/emissions.csv\n",
            "[codecarbon INFO @ 07:42:27] \n",
            "Graceful stopping: collecting and writing information.\n",
            "Please wait a few seconds...\n",
            "[codecarbon INFO @ 07:42:27] Energy consumed for RAM : 0.000003 kWh. RAM Power : 10.0 W\n",
            "[codecarbon INFO @ 07:42:27] Delta energy consumed for CPU with constant : 0.000013 kWh, power : 42.5 W\n",
            "[codecarbon INFO @ 07:42:27] Energy consumed for All CPU : 0.000013 kWh\n",
            "[codecarbon INFO @ 07:42:27] Energy consumed for all GPUs : 0.000009 kWh. Total GPU Power : 28.340848762648132 W\n",
            "[codecarbon INFO @ 07:42:27] 0.000025 kWh of electricity used since the beginning.\n",
            "[codecarbon INFO @ 07:42:27] Done!\n",
            "\n"
          ]
        },
        {
          "output_type": "stream",
          "name": "stdout",
          "text": [
            "\n",
            "✅ CodeCarbon analysis complete. Check the console output above for energy reports.\n"
          ]
        }
      ]
    },
    {
      "cell_type": "code",
      "source": [
        "# Visualization of CodeCarbon Results\n",
        "import pandas as pd\n",
        "import matplotlib.pyplot as plt\n",
        "import seaborn as sns\n",
        "\n",
        "# Load emissions data generated by CodeCarbon\n",
        "emissions_df = pd.read_csv(\"/content/emissions.csv\")\n",
        "\n",
        "# Assign model labels manually (based on order of execution)\n",
        "emissions_df[\"Model\"] = [\n",
        "    \"Original Model\",\n",
        "    \"Distilled Model\",\n",
        "    \"Quantized Model\"\n",
        "]\n",
        "\n",
        "# Select and rename relevant columns\n",
        "summary_df = emissions_df[[\"Model\", \"energy_consumed\", \"duration\", \"emissions\"]].copy()\n",
        "summary_df.columns = [\"Model\", \"Energy (kWh)\", \"Duration (s)\", \"Emissions (kg CO2e)\"]\n",
        "\n",
        "# Set visual style\n",
        "sns.set_theme(style=\"whitegrid\")\n",
        "\n",
        "# Create side-by-side plots\n",
        "fig, axes = plt.subplots(1, 2, figsize=(10, 4))\n",
        "\n",
        "# --- Plot 1: Energy Consumption --- #\n",
        "sns.barplot(\n",
        "    data=summary_df,\n",
        "    x=\"Model\",\n",
        "    y=\"Energy (kWh)\",\n",
        "    hue=\"Model\",\n",
        "    palette=\"viridis\",\n",
        "    legend=False,\n",
        "    ax=axes[0]\n",
        ")\n",
        "axes[0].set_title(\"Energy Consumption\", fontsize=12, weight=\"bold\")\n",
        "axes[0].set_ylabel(\"Energy (kWh)\")\n",
        "axes[0].set_xlabel(\"\")\n",
        "axes[0].tick_params(axis='x', rotation=15)\n",
        "axes[0].grid(axis=\"y\", linestyle=\"--\", alpha=0.6)\n",
        "\n",
        "# --- Plot 2: Carbon Emissions --- #\n",
        "sns.barplot(\n",
        "    data=summary_df,\n",
        "    x=\"Model\",\n",
        "    y=\"Emissions (kg CO2e)\",\n",
        "    hue=\"Model\",\n",
        "    palette=\"magma\",\n",
        "    legend=False,\n",
        "    ax=axes[1]\n",
        ")\n",
        "axes[1].set_title(\"Carbon Emissions\", fontsize=12, weight=\"bold\")\n",
        "axes[1].set_ylabel(\"Emissions (kg CO2e)\")\n",
        "axes[1].set_xlabel(\"\")\n",
        "axes[1].tick_params(axis='x', rotation=15)\n",
        "axes[1].grid(axis=\"y\", linestyle=\"--\", alpha=0.6)\n",
        "\n",
        "plt.tight_layout()\n",
        "plt.show()\n",
        "\n",
        "# --- Tabular Summary --- #\n",
        "print(\"\\n\\U0001F4CA CodeCarbon Summary Table\")\n",
        "display(summary_df.round(6))\n",
        "\n",
        "# --- Key Insights --- #\n",
        "min_energy_model = summary_df.loc[summary_df['Energy (kWh)'].idxmin(), 'Model']\n",
        "min_emissions_model = summary_df.loc[summary_df['Emissions (kg CO2e)'].idxmin(), 'Model']\n",
        "\n",
        "print(\"\\n\\u2705 Key Observations:\")\n",
        "print(f\"- Least energy consumption: {min_energy_model} ({summary_df['Energy (kWh)'].min():.6f} kWh)\")\n",
        "print(f\"- Lowest carbon emissions: {min_emissions_model} ({summary_df['Emissions (kg CO2e)'].min():.6f} kg CO2e)\")\n",
        "print(\"- Quantized model shows significant improvement in energy efficiency and sustainability.\")"
      ],
      "metadata": {
        "colab": {
          "base_uri": "https://localhost:8080/",
          "height": 649
        },
        "id": "bgHmu60aysVb",
        "outputId": "d9a859a9-a6a9-4531-f3ff-e6cfe01c1317"
      },
      "execution_count": 111,
      "outputs": [
        {
          "output_type": "display_data",
          "data": {
            "text/plain": [
              "<Figure size 1000x400 with 2 Axes>"
            ],
            "image/png": "[encoded data removed]"
          },
          "metadata": {}
        },
        {
          "output_type": "stream",
          "name": "stdout",
          "text": [
            "\n",
            "📊 CodeCarbon Summary Table\n"
          ]
        },
        {
          "output_type": "display_data",
          "data": {
            "text/plain": [
              "             Model  Energy (kWh)  Duration (s)  Emissions (kg CO2e)\n",
              "0   Original Model      0.000238     10.478652             0.000068\n",
              "1  Distilled Model      0.000039      1.762793             0.000011\n",
              "2  Quantized Model      0.000025      1.106891             0.000007"
            ],
            "text/html": [
              "\n",
              "  <div id=\"df-5b1eddb2-5f3c-42c5-b774-626aa11bf1d9\" class=\"colab-df-container\">\n",
              "    <div>\n",
              "<style scoped>\n",
              "    .dataframe tbody tr th:only-of-type {\n",
              "        vertical-align: middle;\n",
              "    }\n",
              "\n",
              "    .dataframe tbody tr th {\n",
              "        vertical-align: top;\n",
              "    }\n",
              "\n",
              "    .dataframe thead th {\n",
              "        text-align: right;\n",
              "    }\n",
              "</style>\n",
              "<table border=\"1\" class=\"dataframe\">\n",
              "  <thead>\n",
              "    <tr style=\"text-align: right;\">\n",
              "      <th></th>\n",
              "      <th>Model</th>\n",
              "      <th>Energy (kWh)</th>\n",
              "      <th>Duration (s)</th>\n",
              "      <th>Emissions (kg CO2e)</th>\n",
              "    </tr>\n",
              "  </thead>\n",
              "  <tbody>\n",
              "    <tr>\n",
              "      <th>0</th>\n",
              "      <td>Original Model</td>\n",
              "      <td>0.000238</td>\n",
              "      <td>10.478652</td>\n",
              "      <td>0.000068</td>\n",
              "    </tr>\n",
              "    <tr>\n",
              "      <th>1</th>\n",
              "      <td>Distilled Model</td>\n",
              "      <td>0.000039</td>\n",
              "      <td>1.762793</td>\n",
              "      <td>0.000011</td>\n",
              "    </tr>\n",
              "    <tr>\n",
              "      <th>2</th>\n",
              "      <td>Quantized Model</td>\n",
              "      <td>0.000025</td>\n",
              "      <td>1.106891</td>\n",
              "      <td>0.000007</td>\n",
              "    </tr>\n",
              "  </tbody>\n",
              "</table>\n",
              "</div>\n",
              "    <div class=\"colab-df-buttons\">\n",
              "\n",
              "  <div class=\"colab-df-container\">\n",
              "    <button class=\"colab-df-convert\" onclick=\"convertToInteractive('df-5b1eddb2-5f3c-42c5-b774-626aa11bf1d9')\"\n",
              "            title=\"Convert this dataframe to an interactive table.\"\n",
              "            style=\"display:none;\">\n",
              "\n",
              "  <svg xmlns=\"http://www.w3.org/2000/svg\" height=\"24px\" viewBox=\"0 -960 960 960\">\n",
              "    <path d=\"M120-120v-720h720v720H120Zm60-500h600v-160H180v160Zm220 220h160v-160H400v160Zm0 220h160v-160H400v160ZM180-400h160v-160H180v160Zm440 0h160v-160H620v160ZM180-180h160v-160H180v160Zm440 0h160v-160H620v160Z\"/>\n",
              "  </svg>\n",
              "    </button>\n",
              "\n",
              "  <style>\n",
              "    .colab-df-container {\n",
              "      display:flex;\n",
              "      gap: 12px;\n",
              "    }\n",
              "\n",
              "    .colab-df-convert {\n",
              "      background-color: #E8F0FE;\n",
              "      border: none;\n",
              "      border-radius: 50%;\n",
              "      cursor: pointer;\n",
              "      display: none;\n",
              "      fill: #1967D2;\n",
              "      height: 32px;\n",
              "      padding: 0 0 0 0;\n",
              "      width: 32px;\n",
              "    }\n",
              "\n",
              "    .colab-df-convert:hover {\n",
              "      background-color: #E2EBFA;\n",
              "      box-shadow: 0px 1px 2px rgba(60, 64, 67, 0.3), 0px 1px 3px 1px rgba(60, 64, 67, 0.15);\n",
              "      fill: #174EA6;\n",
              "    }\n",
              "\n",
              "    .colab-df-buttons div {\n",
              "      margin-bottom: 4px;\n",
              "    }\n",
              "\n",
              "    [theme=dark] .colab-df-convert {\n",
              "      background-color: #3B4455;\n",
              "      fill: #D2E3FC;\n",
              "    }\n",
              "\n",
              "    [theme=dark] .colab-df-convert:hover {\n",
              "      background-color: #434B5C;\n",
              "      box-shadow: 0px 1px 3px 1px rgba(0, 0, 0, 0.15);\n",
              "      filter: drop-shadow(0px 1px 2px rgba(0, 0, 0, 0.3));\n",
              "      fill: #FFFFFF;\n",
              "    }\n",
              "  </style>\n",
              "\n",
              "    <script>\n",
              "      const buttonEl =\n",
              "        document.querySelector('#df-5b1eddb2-5f3c-42c5-b774-626aa11bf1d9 button.colab-df-convert');\n",
              "      buttonEl.style.display =\n",
              "        google.colab.kernel.accessAllowed ? 'block' : 'none';\n",
              "\n",
              "      async function convertToInteractive(key) {\n",
              "        const element = document.querySelector('#df-5b1eddb2-5f3c-42c5-b774-626aa11bf1d9');\n",
              "        const dataTable =\n",
              "          await google.colab.kernel.invokeFunction('convertToInteractive',\n",
              "                                                    [key], {});\n",
              "        if (!dataTable) return;\n",
              "\n",
              "        const docLinkHtml = 'Like what you see? Visit the ' +\n",
              "          '<a target=\"_blank\" href=https://colab.research.google.com/notebooks/data_table.ipynb>data table notebook</a>'\n",
              "          + ' to learn more about interactive tables.';\n",
              "        element.innerHTML = '';\n",
              "        dataTable['output_type'] = 'display_data';\n",
              "        await google.colab.output.renderOutput(dataTable, element);\n",
              "        const docLink = document.createElement('div');\n",
              "        docLink.innerHTML = docLinkHtml;\n",
              "        element.appendChild(docLink);\n",
              "      }\n",
              "    </script>\n",
              "  </div>\n",
              "\n",
              "\n",
              "    <div id=\"df-72d6d10f-02ae-49ea-97db-3309d4e5cfdc\">\n",
              "      <button class=\"colab-df-quickchart\" onclick=\"quickchart('df-72d6d10f-02ae-49ea-97db-3309d4e5cfdc')\"\n",
              "                title=\"Suggest charts\"\n",
              "                style=\"display:none;\">\n",
              "\n",
              "<svg xmlns=\"http://www.w3.org/2000/svg\" height=\"24px\"viewBox=\"0 0 24 24\"\n",
              "     width=\"24px\">\n",
              "    <g>\n",
              "        <path d=\"M19 3H5c-1.1 0-2 .9-2 2v14c0 1.1.9 2 2 2h14c1.1 0 2-.9 2-2V5c0-1.1-.9-2-2-2zM9 17H7v-7h2v7zm4 0h-2V7h2v10zm4 0h-2v-4h2v4z\"/>\n",
              "    </g>\n",
              "</svg>\n",
              "      </button>\n",
              "\n",
              "<style>\n",
              "  .colab-df-quickchart {\n",
              "      --bg-color: #E8F0FE;\n",
              "      --fill-color: #1967D2;\n",
              "      --hover-bg-color: #E2EBFA;\n",
              "      --hover-fill-color: #174EA6;\n",
              "      --disabled-fill-color: #AAA;\n",
              "      --disabled-bg-color: #DDD;\n",
              "  }\n",
              "\n",
              "  [theme=dark] .colab-df-quickchart {\n",
              "      --bg-color: #3B4455;\n",
              "      --fill-color: #D2E3FC;\n",
              "      --hover-bg-color: #434B5C;\n",
              "      --hover-fill-color: #FFFFFF;\n",
              "      --disabled-bg-color: #3B4455;\n",
              "      --disabled-fill-color: #666;\n",
              "  }\n",
              "\n",
              "  .colab-df-quickchart {\n",
              "    background-color: var(--bg-color);\n",
              "    border: none;\n",
              "    border-radius: 50%;\n",
              "    cursor: pointer;\n",
              "    display: none;\n",
              "    fill: var(--fill-color);\n",
              "    height: 32px;\n",
              "    padding: 0;\n",
              "    width: 32px;\n",
              "  }\n",
              "\n",
              "  .colab-df-quickchart:hover {\n",
              "    background-color: var(--hover-bg-color);\n",
              "    box-shadow: 0 1px 2px rgba(60, 64, 67, 0.3), 0 1px 3px 1px rgba(60, 64, 67, 0.15);\n",
              "    fill: var(--button-hover-fill-color);\n",
              "  }\n",
              "\n",
              "  .colab-df-quickchart-complete:disabled,\n",
              "  .colab-df-quickchart-complete:disabled:hover {\n",
              "    background-color: var(--disabled-bg-color);\n",
              "    fill: var(--disabled-fill-color);\n",
              "    box-shadow: none;\n",
              "  }\n",
              "\n",
              "  .colab-df-spinner {\n",
              "    border: 2px solid var(--fill-color);\n",
              "    border-color: transparent;\n",
              "    border-bottom-color: var(--fill-color);\n",
              "    animation:\n",
              "      spin 1s steps(1) infinite;\n",
              "  }\n",
              "\n",
              "  @keyframes spin {\n",
              "    0% {\n",
              "      border-color: transparent;\n",
              "      border-bottom-color: var(--fill-color);\n",
              "      border-left-color: var(--fill-color);\n",
              "    }\n",
              "    20% {\n",
              "      border-color: transparent;\n",
              "      border-left-color: var(--fill-color);\n",
              "      border-top-color: var(--fill-color);\n",
              "    }\n",
              "    30% {\n",
              "      border-color: transparent;\n",
              "      border-left-color: var(--fill-color);\n",
              "      border-top-color: var(--fill-color);\n",
              "      border-right-color: var(--fill-color);\n",
              "    }\n",
              "    40% {\n",
              "      border-color: transparent;\n",
              "      border-right-color: var(--fill-color);\n",
              "      border-top-color: var(--fill-color);\n",
              "    }\n",
              "    60% {\n",
              "      border-color: transparent;\n",
              "      border-right-color: var(--fill-color);\n",
              "    }\n",
              "    80% {\n",
              "      border-color: transparent;\n",
              "      border-right-color: var(--fill-color);\n",
              "      border-bottom-color: var(--fill-color);\n",
              "    }\n",
              "    90% {\n",
              "      border-color: transparent;\n",
              "      border-bottom-color: var(--fill-color);\n",
              "    }\n",
              "  }\n",
              "</style>\n",
              "\n",
              "      <script>\n",
              "        async function quickchart(key) {\n",
              "          const quickchartButtonEl =\n",
              "            document.querySelector('#' + key + ' button');\n",
              "          quickchartButtonEl.disabled = true;  // To prevent multiple clicks.\n",
              "          quickchartButtonEl.classList.add('colab-df-spinner');\n",
              "          try {\n",
              "            const charts = await google.colab.kernel.invokeFunction(\n",
              "                'suggestCharts', [key], {});\n",
              "          } catch (error) {\n",
              "            console.error('Error during call to suggestCharts:', error);\n",
              "          }\n",
              "          quickchartButtonEl.classList.remove('colab-df-spinner');\n",
              "          quickchartButtonEl.classList.add('colab-df-quickchart-complete');\n",
              "        }\n",
              "        (() => {\n",
              "          let quickchartButtonEl =\n",
              "            document.querySelector('#df-72d6d10f-02ae-49ea-97db-3309d4e5cfdc button');\n",
              "          quickchartButtonEl.style.display =\n",
              "            google.colab.kernel.accessAllowed ? 'block' : 'none';\n",
              "        })();\n",
              "      </script>\n",
              "    </div>\n",
              "\n",
              "    </div>\n",
              "  </div>\n"
            ],
            "application/vnd.google.colaboratory.intrinsic+json": {
              "type": "dataframe",
              "summary": "{\n  \"name\": \"print(\\\"- Quantized model shows significant improvement in energy efficiency and sustainability\",\n  \"rows\": 3,\n  \"fields\": [\n    {\n      \"column\": \"Model\",\n      \"properties\": {\n        \"dtype\": \"string\",\n        \"num_unique_values\": 3,\n        \"samples\": [\n          \"Original Model\",\n          \"Distilled Model\",\n          \"Quantized Model\"\n        ],\n        \"semantic_type\": \"\",\n        \"description\": \"\"\n      }\n    },\n    {\n      \"column\": \"Energy (kWh)\",\n      \"properties\": {\n        \"dtype\": \"number\",\n        \"std\": 0.00011913997370040558,\n        \"min\": 2.5e-05,\n        \"max\": 0.000238,\n        \"num_unique_values\": 3,\n        \"samples\": [\n          0.000238,\n          3.9e-05,\n          2.5e-05\n        ],\n        \"semantic_type\": \"\",\n        \"description\": \"\"\n      }\n    },\n    {\n      \"column\": \"Duration (s)\",\n      \"properties\": {\n        \"dtype\": \"number\",\n        \"std\": 5.231735049716713,\n        \"min\": 1.106891,\n        \"max\": 10.478652,\n        \"num_unique_values\": 3,\n        \"samples\": [\n          10.478652,\n          1.762793,\n          1.106891\n        ],\n        \"semantic_type\": \"\",\n        \"description\": \"\"\n      }\n    },\n    {\n      \"column\": \"Emissions (kg CO2e)\",\n      \"properties\": {\n        \"dtype\": \"number\",\n        \"std\": 3.412232895529455e-05,\n        \"min\": 7e-06,\n        \"max\": 6.8e-05,\n        \"num_unique_values\": 3,\n        \"samples\": [\n          6.8e-05,\n          1.1e-05,\n          7e-06\n        ],\n        \"semantic_type\": \"\",\n        \"description\": \"\"\n      }\n    }\n  ]\n}"
            }
          },
          "metadata": {}
        },
        {
          "output_type": "stream",
          "name": "stdout",
          "text": [
            "\n",
            "✅ Key Observations:\n",
            "- Least energy consumption: Quantized Model (0.000025 kWh)\n",
            "- Lowest carbon emissions: Quantized Model (0.000007 kg CO2e)\n",
            "- Quantized model shows significant improvement in energy efficiency and sustainability.\n"
          ]
        }
      ]
    }
  ]
}